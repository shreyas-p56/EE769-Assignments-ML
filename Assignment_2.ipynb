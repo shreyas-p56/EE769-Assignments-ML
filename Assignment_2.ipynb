{
  "cells": [
    {
      "cell_type": "markdown",
      "source": [
        "### **Objective 1.**"
      ],
      "metadata": {
        "id": "bCfSgGJ52UQm"
      }
    },
    {
      "cell_type": "code",
      "execution_count": null,
      "metadata": {
        "id": "XbcF7cfl1rCN"
      },
      "outputs": [],
      "source": [
        "import numpy as np\n",
        "import pandas as pd\n",
        "from sklearn.experimental import enable_iterative_imputer\n",
        "from sklearn.impute import IterativeImputer\n",
        "from sklearn.svm import SVC\n",
        "from sklearn.model_selection import GridSearchCV\n",
        "from sklearn.preprocessing import StandardScaler\n",
        "from sklearn.neural_network import MLPClassifier\n",
        "from sklearn.ensemble import RandomForestClassifier\n",
        "from sklearn.inspection import permutation_importance\n",
        "from sklearn.feature_selection import RFECV\n",
        "from sklearn.metrics import f1_score, precision_score, classification_report, accuracy_score\n",
        "from sklearn.linear_model import LogisticRegression\n",
        "import matplotlib.pyplot as plt"
      ]
    },
    {
      "cell_type": "markdown",
      "metadata": {
        "id": "TZ2p5IdLNCPb"
      },
      "source": [
        "#### Question 1."
      ]
    },
    {
      "cell_type": "code",
      "execution_count": null,
      "metadata": {
        "id": "T0TNdE8NKkK4"
      },
      "outputs": [],
      "source": [
        "# save the data from the csv file into a Pandas DataFrame - mouse_train\n",
        "mouse_train = pd.read_csv('https://www.ee.iitb.ac.in/~asethi/Dump/MouseTrain.csv')"
      ]
    },
    {
      "cell_type": "markdown",
      "metadata": {
        "id": "pws4Elz4NFKr"
      },
      "source": [
        "#### Question 2."
      ]
    },
    {
      "cell_type": "markdown",
      "metadata": {
        "id": "ZUrM_Ee9NHwF"
      },
      "source": [
        "##### (a)"
      ]
    },
    {
      "cell_type": "code",
      "execution_count": null,
      "metadata": {
        "colab": {
          "base_uri": "https://localhost:8080/",
          "height": 299
        },
        "id": "rZ9vjNIBRK83",
        "outputId": "ffc0004e-4127-478f-fba4-1d5d6611a4ce"
      },
      "outputs": [
        {
          "output_type": "execute_result",
          "data": {
            "text/plain": [
              "   DYRK1A_N   ITSN1_N    BDNF_N     NR1_N    NR2A_N    pAKT_N   pBRAF_N  \\\n",
              "0  0.503644  0.747193  0.430175  2.816329  5.990152  0.218830  0.177565   \n",
              "1  0.514617  0.689064  0.411770  2.789514  5.685038  0.211636  0.172817   \n",
              "2  0.509183  0.730247  0.418309  2.687201  5.622059  0.209011  0.175722   \n",
              "3  0.442107  0.617076  0.358626  2.466947  4.979503  0.222886  0.176463   \n",
              "4  0.434940  0.617430  0.358802  2.365785  4.718679  0.213106  0.173627   \n",
              "\n",
              "   pCAMKII_N   pCREB_N    pELK_N  ...  BCL2_N     pS6_N   pCFOS_N     SYP_N  \\\n",
              "0   2.373744  0.232224  1.750936  ...     NaN  0.106305  0.108336  0.427099   \n",
              "1   2.292150  0.226972  1.596377  ...     NaN  0.106592  0.104315  0.441581   \n",
              "2   2.283337  0.230247  1.561316  ...     NaN  0.108303  0.106219  0.435777   \n",
              "3   2.152301  0.207004  1.595086  ...     NaN  0.103184  0.111262  0.391691   \n",
              "4   2.134014  0.192158  1.504230  ...     NaN  0.104784  0.110694  0.434154   \n",
              "\n",
              "   H3AcK18_N    EGR1_N  H3MeK4_N    CaNA_N  Genotype  Treatment_Behavior  \n",
              "0   0.114783  0.131790  0.128186  1.675652   Control       Memantine_C/S  \n",
              "1   0.111974  0.135103  0.131119  1.743610   Control       Memantine_C/S  \n",
              "2   0.111883  0.133362  0.127431  1.926427   Control       Memantine_C/S  \n",
              "3   0.130405  0.147444  0.146901  1.700563   Control       Memantine_C/S  \n",
              "4   0.118481  0.140314  0.148380  1.839730   Control       Memantine_C/S  \n",
              "\n",
              "[5 rows x 79 columns]"
            ],
            "text/html": [
              "\n",
              "  <div id=\"df-500b6234-f2e1-4661-aa14-9945aa923b3e\">\n",
              "    <div class=\"colab-df-container\">\n",
              "      <div>\n",
              "<style scoped>\n",
              "    .dataframe tbody tr th:only-of-type {\n",
              "        vertical-align: middle;\n",
              "    }\n",
              "\n",
              "    .dataframe tbody tr th {\n",
              "        vertical-align: top;\n",
              "    }\n",
              "\n",
              "    .dataframe thead th {\n",
              "        text-align: right;\n",
              "    }\n",
              "</style>\n",
              "<table border=\"1\" class=\"dataframe\">\n",
              "  <thead>\n",
              "    <tr style=\"text-align: right;\">\n",
              "      <th></th>\n",
              "      <th>DYRK1A_N</th>\n",
              "      <th>ITSN1_N</th>\n",
              "      <th>BDNF_N</th>\n",
              "      <th>NR1_N</th>\n",
              "      <th>NR2A_N</th>\n",
              "      <th>pAKT_N</th>\n",
              "      <th>pBRAF_N</th>\n",
              "      <th>pCAMKII_N</th>\n",
              "      <th>pCREB_N</th>\n",
              "      <th>pELK_N</th>\n",
              "      <th>...</th>\n",
              "      <th>BCL2_N</th>\n",
              "      <th>pS6_N</th>\n",
              "      <th>pCFOS_N</th>\n",
              "      <th>SYP_N</th>\n",
              "      <th>H3AcK18_N</th>\n",
              "      <th>EGR1_N</th>\n",
              "      <th>H3MeK4_N</th>\n",
              "      <th>CaNA_N</th>\n",
              "      <th>Genotype</th>\n",
              "      <th>Treatment_Behavior</th>\n",
              "    </tr>\n",
              "  </thead>\n",
              "  <tbody>\n",
              "    <tr>\n",
              "      <th>0</th>\n",
              "      <td>0.503644</td>\n",
              "      <td>0.747193</td>\n",
              "      <td>0.430175</td>\n",
              "      <td>2.816329</td>\n",
              "      <td>5.990152</td>\n",
              "      <td>0.218830</td>\n",
              "      <td>0.177565</td>\n",
              "      <td>2.373744</td>\n",
              "      <td>0.232224</td>\n",
              "      <td>1.750936</td>\n",
              "      <td>...</td>\n",
              "      <td>NaN</td>\n",
              "      <td>0.106305</td>\n",
              "      <td>0.108336</td>\n",
              "      <td>0.427099</td>\n",
              "      <td>0.114783</td>\n",
              "      <td>0.131790</td>\n",
              "      <td>0.128186</td>\n",
              "      <td>1.675652</td>\n",
              "      <td>Control</td>\n",
              "      <td>Memantine_C/S</td>\n",
              "    </tr>\n",
              "    <tr>\n",
              "      <th>1</th>\n",
              "      <td>0.514617</td>\n",
              "      <td>0.689064</td>\n",
              "      <td>0.411770</td>\n",
              "      <td>2.789514</td>\n",
              "      <td>5.685038</td>\n",
              "      <td>0.211636</td>\n",
              "      <td>0.172817</td>\n",
              "      <td>2.292150</td>\n",
              "      <td>0.226972</td>\n",
              "      <td>1.596377</td>\n",
              "      <td>...</td>\n",
              "      <td>NaN</td>\n",
              "      <td>0.106592</td>\n",
              "      <td>0.104315</td>\n",
              "      <td>0.441581</td>\n",
              "      <td>0.111974</td>\n",
              "      <td>0.135103</td>\n",
              "      <td>0.131119</td>\n",
              "      <td>1.743610</td>\n",
              "      <td>Control</td>\n",
              "      <td>Memantine_C/S</td>\n",
              "    </tr>\n",
              "    <tr>\n",
              "      <th>2</th>\n",
              "      <td>0.509183</td>\n",
              "      <td>0.730247</td>\n",
              "      <td>0.418309</td>\n",
              "      <td>2.687201</td>\n",
              "      <td>5.622059</td>\n",
              "      <td>0.209011</td>\n",
              "      <td>0.175722</td>\n",
              "      <td>2.283337</td>\n",
              "      <td>0.230247</td>\n",
              "      <td>1.561316</td>\n",
              "      <td>...</td>\n",
              "      <td>NaN</td>\n",
              "      <td>0.108303</td>\n",
              "      <td>0.106219</td>\n",
              "      <td>0.435777</td>\n",
              "      <td>0.111883</td>\n",
              "      <td>0.133362</td>\n",
              "      <td>0.127431</td>\n",
              "      <td>1.926427</td>\n",
              "      <td>Control</td>\n",
              "      <td>Memantine_C/S</td>\n",
              "    </tr>\n",
              "    <tr>\n",
              "      <th>3</th>\n",
              "      <td>0.442107</td>\n",
              "      <td>0.617076</td>\n",
              "      <td>0.358626</td>\n",
              "      <td>2.466947</td>\n",
              "      <td>4.979503</td>\n",
              "      <td>0.222886</td>\n",
              "      <td>0.176463</td>\n",
              "      <td>2.152301</td>\n",
              "      <td>0.207004</td>\n",
              "      <td>1.595086</td>\n",
              "      <td>...</td>\n",
              "      <td>NaN</td>\n",
              "      <td>0.103184</td>\n",
              "      <td>0.111262</td>\n",
              "      <td>0.391691</td>\n",
              "      <td>0.130405</td>\n",
              "      <td>0.147444</td>\n",
              "      <td>0.146901</td>\n",
              "      <td>1.700563</td>\n",
              "      <td>Control</td>\n",
              "      <td>Memantine_C/S</td>\n",
              "    </tr>\n",
              "    <tr>\n",
              "      <th>4</th>\n",
              "      <td>0.434940</td>\n",
              "      <td>0.617430</td>\n",
              "      <td>0.358802</td>\n",
              "      <td>2.365785</td>\n",
              "      <td>4.718679</td>\n",
              "      <td>0.213106</td>\n",
              "      <td>0.173627</td>\n",
              "      <td>2.134014</td>\n",
              "      <td>0.192158</td>\n",
              "      <td>1.504230</td>\n",
              "      <td>...</td>\n",
              "      <td>NaN</td>\n",
              "      <td>0.104784</td>\n",
              "      <td>0.110694</td>\n",
              "      <td>0.434154</td>\n",
              "      <td>0.118481</td>\n",
              "      <td>0.140314</td>\n",
              "      <td>0.148380</td>\n",
              "      <td>1.839730</td>\n",
              "      <td>Control</td>\n",
              "      <td>Memantine_C/S</td>\n",
              "    </tr>\n",
              "  </tbody>\n",
              "</table>\n",
              "<p>5 rows × 79 columns</p>\n",
              "</div>\n",
              "      <button class=\"colab-df-convert\" onclick=\"convertToInteractive('df-500b6234-f2e1-4661-aa14-9945aa923b3e')\"\n",
              "              title=\"Convert this dataframe to an interactive table.\"\n",
              "              style=\"display:none;\">\n",
              "        \n",
              "  <svg xmlns=\"http://www.w3.org/2000/svg\" height=\"24px\"viewBox=\"0 0 24 24\"\n",
              "       width=\"24px\">\n",
              "    <path d=\"M0 0h24v24H0V0z\" fill=\"none\"/>\n",
              "    <path d=\"M18.56 5.44l.94 2.06.94-2.06 2.06-.94-2.06-.94-.94-2.06-.94 2.06-2.06.94zm-11 1L8.5 8.5l.94-2.06 2.06-.94-2.06-.94L8.5 2.5l-.94 2.06-2.06.94zm10 10l.94 2.06.94-2.06 2.06-.94-2.06-.94-.94-2.06-.94 2.06-2.06.94z\"/><path d=\"M17.41 7.96l-1.37-1.37c-.4-.4-.92-.59-1.43-.59-.52 0-1.04.2-1.43.59L10.3 9.45l-7.72 7.72c-.78.78-.78 2.05 0 2.83L4 21.41c.39.39.9.59 1.41.59.51 0 1.02-.2 1.41-.59l7.78-7.78 2.81-2.81c.8-.78.8-2.07 0-2.86zM5.41 20L4 18.59l7.72-7.72 1.47 1.35L5.41 20z\"/>\n",
              "  </svg>\n",
              "      </button>\n",
              "      \n",
              "  <style>\n",
              "    .colab-df-container {\n",
              "      display:flex;\n",
              "      flex-wrap:wrap;\n",
              "      gap: 12px;\n",
              "    }\n",
              "\n",
              "    .colab-df-convert {\n",
              "      background-color: #E8F0FE;\n",
              "      border: none;\n",
              "      border-radius: 50%;\n",
              "      cursor: pointer;\n",
              "      display: none;\n",
              "      fill: #1967D2;\n",
              "      height: 32px;\n",
              "      padding: 0 0 0 0;\n",
              "      width: 32px;\n",
              "    }\n",
              "\n",
              "    .colab-df-convert:hover {\n",
              "      background-color: #E2EBFA;\n",
              "      box-shadow: 0px 1px 2px rgba(60, 64, 67, 0.3), 0px 1px 3px 1px rgba(60, 64, 67, 0.15);\n",
              "      fill: #174EA6;\n",
              "    }\n",
              "\n",
              "    [theme=dark] .colab-df-convert {\n",
              "      background-color: #3B4455;\n",
              "      fill: #D2E3FC;\n",
              "    }\n",
              "\n",
              "    [theme=dark] .colab-df-convert:hover {\n",
              "      background-color: #434B5C;\n",
              "      box-shadow: 0px 1px 3px 1px rgba(0, 0, 0, 0.15);\n",
              "      filter: drop-shadow(0px 1px 2px rgba(0, 0, 0, 0.3));\n",
              "      fill: #FFFFFF;\n",
              "    }\n",
              "  </style>\n",
              "\n",
              "      <script>\n",
              "        const buttonEl =\n",
              "          document.querySelector('#df-500b6234-f2e1-4661-aa14-9945aa923b3e button.colab-df-convert');\n",
              "        buttonEl.style.display =\n",
              "          google.colab.kernel.accessAllowed ? 'block' : 'none';\n",
              "\n",
              "        async function convertToInteractive(key) {\n",
              "          const element = document.querySelector('#df-500b6234-f2e1-4661-aa14-9945aa923b3e');\n",
              "          const dataTable =\n",
              "            await google.colab.kernel.invokeFunction('convertToInteractive',\n",
              "                                                     [key], {});\n",
              "          if (!dataTable) return;\n",
              "\n",
              "          const docLinkHtml = 'Like what you see? Visit the ' +\n",
              "            '<a target=\"_blank\" href=https://colab.research.google.com/notebooks/data_table.ipynb>data table notebook</a>'\n",
              "            + ' to learn more about interactive tables.';\n",
              "          element.innerHTML = '';\n",
              "          dataTable['output_type'] = 'display_data';\n",
              "          await google.colab.output.renderOutput(dataTable, element);\n",
              "          const docLink = document.createElement('div');\n",
              "          docLink.innerHTML = docLinkHtml;\n",
              "          element.appendChild(docLink);\n",
              "        }\n",
              "      </script>\n",
              "    </div>\n",
              "  </div>\n",
              "  "
            ]
          },
          "metadata": {},
          "execution_count": 21
        }
      ],
      "source": [
        "# display first 5 rows of the dataset\n",
        "mouse_train.head()"
      ]
    },
    {
      "cell_type": "code",
      "execution_count": null,
      "metadata": {
        "colab": {
          "base_uri": "https://localhost:8080/"
        },
        "id": "2ibVv_MGM-k2",
        "outputId": "2d3cd88c-19f8-4866-84c7-88f282cbdbe7"
      },
      "outputs": [
        {
          "output_type": "execute_result",
          "data": {
            "text/plain": [
              "Index(['DYRK1A_N', 'ITSN1_N', 'BDNF_N', 'NR1_N', 'NR2A_N', 'pAKT_N', 'pBRAF_N',\n",
              "       'pCAMKII_N', 'pCREB_N', 'pELK_N', 'pERK_N', 'pJNK_N', 'PKCA_N',\n",
              "       'pMEK_N', 'pNR1_N', 'pNR2A_N', 'pNR2B_N', 'pPKCAB_N', 'pRSK_N', 'AKT_N',\n",
              "       'BRAF_N', 'CAMKII_N', 'CREB_N', 'ELK_N', 'ERK_N', 'GSK3B_N', 'JNK_N',\n",
              "       'MEK_N', 'TRKA_N', 'RSK_N', 'APP_N', 'Bcatenin_N', 'SOD1_N', 'MTOR_N',\n",
              "       'P38_N', 'pMTOR_N', 'DSCR1_N', 'AMPKA_N', 'NR2B_N', 'pNUMB_N',\n",
              "       'RAPTOR_N', 'TIAM1_N', 'pP70S6_N', 'NUMB_N', 'P70S6_N', 'pGSK3B_N',\n",
              "       'pPKCG_N', 'CDK5_N', 'S6_N', 'ADARB1_N', 'AcetylH3K9_N', 'RRP1_N',\n",
              "       'BAX_N', 'ARC_N', 'ERBB4_N', 'nNOS_N', 'Tau_N', 'GFAP_N', 'GluR3_N',\n",
              "       'GluR4_N', 'IL1B_N', 'P3525_N', 'pCASP9_N', 'PSD95_N', 'SNCA_N',\n",
              "       'Ubiquitin_N', 'pGSK3B_Tyr216_N', 'SHH_N', 'BAD_N', 'BCL2_N', 'pS6_N',\n",
              "       'pCFOS_N', 'SYP_N', 'H3AcK18_N', 'EGR1_N', 'H3MeK4_N', 'CaNA_N',\n",
              "       'Genotype', 'Treatment_Behavior'],\n",
              "      dtype='object')"
            ]
          },
          "metadata": {},
          "execution_count": 22
        }
      ],
      "source": [
        "# display the columns of the dataset\n",
        "mouse_train.columns"
      ]
    },
    {
      "cell_type": "code",
      "execution_count": null,
      "metadata": {
        "colab": {
          "base_uri": "https://localhost:8080/"
        },
        "id": "hzqsT0hZQ4L3",
        "outputId": "17a48842-6204-4972-8c9b-114422bc9eda"
      },
      "outputs": [
        {
          "output_type": "execute_result",
          "data": {
            "text/plain": [
              "RangeIndex(start=0, stop=762, step=1)"
            ]
          },
          "metadata": {},
          "execution_count": 23
        }
      ],
      "source": [
        "# display range of rows, i.e., index range\n",
        "mouse_train.index"
      ]
    },
    {
      "cell_type": "markdown",
      "metadata": {
        "id": "NwO2JdG7QzqI"
      },
      "source": [
        "From the above observations, the data consists of some numerical value for 77 proteins, the Genotype, and the Treatment Behaviour, for 762 mice."
      ]
    },
    {
      "cell_type": "markdown",
      "metadata": {
        "id": "fXpGur2BSpSs"
      },
      "source": [
        "A variable (protein data) will not be usable if it contains NaN values. We can find out which columns (each representing a variable) contain NaN values:"
      ]
    },
    {
      "cell_type": "code",
      "execution_count": null,
      "metadata": {
        "colab": {
          "base_uri": "https://localhost:8080/"
        },
        "id": "Qeu_mZrCRh-m",
        "outputId": "b2faf9b7-6e7b-4eee-e8c4-945f1a548a71"
      },
      "outputs": [
        {
          "output_type": "execute_result",
          "data": {
            "text/plain": [
              "['ELK_N',\n",
              " 'MEK_N',\n",
              " 'Bcatenin_N',\n",
              " 'BAD_N',\n",
              " 'BCL2_N',\n",
              " 'pCFOS_N',\n",
              " 'H3AcK18_N',\n",
              " 'EGR1_N',\n",
              " 'H3MeK4_N']"
            ]
          },
          "metadata": {},
          "execution_count": 24
        }
      ],
      "source": [
        "mouse_train.columns[mouse_train.isna().any()].tolist()\n",
        "# code from https://stackoverflow.com/questions/36226083/how-to-find-which-columns-contain-any-nan-value-in-pandas-dataframe"
      ]
    },
    {
      "cell_type": "markdown",
      "metadata": {
        "id": "IRRXubcZTpTt"
      },
      "source": [
        "The above printed variables are unusable as given as they contain NaN values. A way around it is to impute missing values, if the missing values account for less than 10% of the data for the variable (protein) in question."
      ]
    },
    {
      "cell_type": "code",
      "execution_count": null,
      "metadata": {
        "colab": {
          "base_uri": "https://localhost:8080/"
        },
        "id": "OO1F2keaEXjB",
        "outputId": "40bb49a0-dc69-48b2-df1d-f4fe96a391d4"
      },
      "outputs": [
        {
          "output_type": "execute_result",
          "data": {
            "text/plain": [
              "ELK_N          15\n",
              "MEK_N           4\n",
              "Bcatenin_N     15\n",
              "BAD_N         180\n",
              "BCL2_N        195\n",
              "pCFOS_N        60\n",
              "H3AcK18_N     150\n",
              "EGR1_N        180\n",
              "H3MeK4_N      180\n",
              "dtype: int64"
            ]
          },
          "metadata": {},
          "execution_count": 25
        }
      ],
      "source": [
        "list_with_NaN = mouse_train.columns[mouse_train.isna().any()].tolist()\n",
        "mouse_train[list_with_NaN].isna().sum()\n",
        "# outputs the number of NaN values in each of the columns with NaN values\n",
        "# code inspired by https://stackoverflow.com/questions/26266362/how-do-i-count-the-nan-values-in-a-column-in-pandas-dataframe"
      ]
    },
    {
      "cell_type": "markdown",
      "metadata": {
        "id": "MvAWgNSqIeqd"
      },
      "source": [
        "Based on the above observation, we can drop the variables with NaN values greater than 60 (~10% of the total number of mice, i.e., 762)"
      ]
    },
    {
      "cell_type": "code",
      "execution_count": null,
      "metadata": {
        "id": "smFNWqrkIw9N"
      },
      "outputs": [],
      "source": [
        "# deletes the columns in mouse_train dataframe that have more than 60 NaN values (columns input manually)\n",
        "mouse_train = mouse_train.drop(['BAD_N', 'BCL2_N', 'H3AcK18_N', 'EGR1_N', 'H3MeK4_N'], axis=1)\n",
        "\n",
        "# inspired by https://www.geeksforgeeks.org/how-to-drop-one-or-multiple-columns-in-pandas-dataframe/"
      ]
    },
    {
      "cell_type": "markdown",
      "metadata": {
        "id": "n8rgr7scKm1V"
      },
      "source": [
        "Another thing we need to check to make sure that a variable is usable or not is to check its variance, i.e., if the value of the variable is actually varying for it to be useful for our training."
      ]
    },
    {
      "cell_type": "code",
      "execution_count": null,
      "metadata": {
        "colab": {
          "base_uri": "https://localhost:8080/"
        },
        "id": "FScsUr7fLEea",
        "outputId": "a94ea06c-3ead-4896-dc16-5c4508008048"
      },
      "outputs": [
        {
          "output_type": "execute_result",
          "data": {
            "text/plain": [
              "DYRK1A_N    0.075721\n",
              "ITSN1_N     0.075600\n",
              "BDNF_N      0.002166\n",
              "NR1_N       0.117596\n",
              "NR2A_N      0.863416\n",
              "              ...   \n",
              "SHH_N       0.000874\n",
              "pS6_N       0.000223\n",
              "pCFOS_N     0.000521\n",
              "SYP_N       0.003882\n",
              "CaNA_N      0.113641\n",
              "Length: 72, dtype: float64"
            ]
          },
          "metadata": {},
          "execution_count": 27
        }
      ],
      "source": [
        "# create dataframe consisting only of numerical values (including NaN), i.e., exclude Genotype and Treatment Behavior columns\n",
        "mt_num_only = mouse_train.drop(['Genotype', 'Treatment_Behavior'], axis=1)\n",
        "\n",
        "# display the variance of values in each column\n",
        "mt_num_only.var()"
      ]
    },
    {
      "cell_type": "code",
      "execution_count": null,
      "metadata": {
        "colab": {
          "base_uri": "https://localhost:8080/",
          "height": 487
        },
        "id": "5c-9vEv5of1p",
        "outputId": "2be52782-cfc2-462c-bf82-ee06de4ab696"
      },
      "outputs": [
        {
          "output_type": "execute_result",
          "data": {
            "text/plain": [
              "     DYRK1A_N   ITSN1_N    BDNF_N     NR1_N    NR2A_N    pAKT_N   pBRAF_N  \\\n",
              "0    0.503644  0.747193  0.430175  2.816329  5.990152  0.218830  0.177565   \n",
              "1    0.514617  0.689064  0.411770  2.789514  5.685038  0.211636  0.172817   \n",
              "2    0.509183  0.730247  0.418309  2.687201  5.622059  0.209011  0.175722   \n",
              "3    0.442107  0.617076  0.358626  2.466947  4.979503  0.222886  0.176463   \n",
              "4    0.434940  0.617430  0.358802  2.365785  4.718679  0.213106  0.173627   \n",
              "..        ...       ...       ...       ...       ...       ...       ...   \n",
              "757  0.394169  0.623696  0.316564  2.104045  3.314706  0.234529  0.200657   \n",
              "758  0.401739  0.659571  0.321841  2.183930  3.411782  0.236546  0.190826   \n",
              "759  0.382182  0.586545  0.318545  2.072000  3.073636  0.259636  0.202727   \n",
              "760  0.365622  0.572209  0.297992  2.004931  2.783551  0.245333  0.190384   \n",
              "761  0.365605  0.599499  0.301539  2.062813  2.952577  0.248568  0.198819   \n",
              "\n",
              "     pCAMKII_N   pCREB_N    pELK_N  ...   P3525_N  pCASP9_N   PSD95_N  \\\n",
              "0     2.373744  0.232224  1.750936  ...  0.247538  1.603310  2.014875   \n",
              "1     2.292150  0.226972  1.596377  ...  0.257632  1.671738  2.004605   \n",
              "2     2.283337  0.230247  1.561316  ...  0.255343  1.663550  2.016831   \n",
              "3     2.152301  0.207004  1.595086  ...  0.251103  1.484624  1.957233   \n",
              "4     2.134014  0.192158  1.504230  ...  0.251773  1.534835  2.009109   \n",
              "..         ...       ...       ...  ...       ...       ...       ...   \n",
              "757   3.208804  0.221809  1.218951  ...  0.311337  1.622850  2.236925   \n",
              "758   3.384350  0.231899  1.250487  ...  0.315762  1.657617  2.274556   \n",
              "759   3.006364  0.223455  1.248727  ...  0.308615  1.504094  2.107139   \n",
              "760   2.948221  0.217506  1.177527  ...  0.327140  1.568203  2.212959   \n",
              "761   3.069435  0.226736  1.220472  ...  0.325593  1.694039  2.293512   \n",
              "\n",
              "       SNCA_N  Ubiquitin_N  pGSK3B_Tyr216_N     SHH_N   pCFOS_N     SYP_N  \\\n",
              "0    0.108234     1.044979         0.831557  0.188852  0.108336  0.427099   \n",
              "1    0.109749     1.009883         0.849270  0.200404  0.104315  0.441581   \n",
              "2    0.108196     0.996848         0.846709  0.193685  0.106219  0.435777   \n",
              "3    0.119883     0.990225         0.833277  0.192112  0.111262  0.391691   \n",
              "4    0.119524     0.997775         0.878668  0.205604  0.110694  0.434154   \n",
              "..        ...          ...              ...       ...       ...       ...   \n",
              "757  0.149263     1.136276         1.001404  0.216128  0.115567  0.441207   \n",
              "758  0.154894     1.154191         1.043402  0.209717  0.108944  0.444913   \n",
              "759  0.153154     1.195479         0.948795  0.211279  0.114635  0.422789   \n",
              "760  0.154868     1.213194         0.995884  0.197436  0.120649  0.459901   \n",
              "761  0.155016     1.284654         1.031482  0.225640  0.110486  0.424228   \n",
              "\n",
              "       CaNA_N  \n",
              "0    1.675652  \n",
              "1    1.743610  \n",
              "2    1.926427  \n",
              "3    1.700563  \n",
              "4    1.839730  \n",
              "..        ...  \n",
              "757  1.474465  \n",
              "758  1.516605  \n",
              "759  1.433514  \n",
              "760  1.543274  \n",
              "761  1.520110  \n",
              "\n",
              "[762 rows x 66 columns]"
            ],
            "text/html": [
              "\n",
              "  <div id=\"df-75cfa207-ab01-4095-ade0-c11d8b9e1a83\">\n",
              "    <div class=\"colab-df-container\">\n",
              "      <div>\n",
              "<style scoped>\n",
              "    .dataframe tbody tr th:only-of-type {\n",
              "        vertical-align: middle;\n",
              "    }\n",
              "\n",
              "    .dataframe tbody tr th {\n",
              "        vertical-align: top;\n",
              "    }\n",
              "\n",
              "    .dataframe thead th {\n",
              "        text-align: right;\n",
              "    }\n",
              "</style>\n",
              "<table border=\"1\" class=\"dataframe\">\n",
              "  <thead>\n",
              "    <tr style=\"text-align: right;\">\n",
              "      <th></th>\n",
              "      <th>DYRK1A_N</th>\n",
              "      <th>ITSN1_N</th>\n",
              "      <th>BDNF_N</th>\n",
              "      <th>NR1_N</th>\n",
              "      <th>NR2A_N</th>\n",
              "      <th>pAKT_N</th>\n",
              "      <th>pBRAF_N</th>\n",
              "      <th>pCAMKII_N</th>\n",
              "      <th>pCREB_N</th>\n",
              "      <th>pELK_N</th>\n",
              "      <th>...</th>\n",
              "      <th>P3525_N</th>\n",
              "      <th>pCASP9_N</th>\n",
              "      <th>PSD95_N</th>\n",
              "      <th>SNCA_N</th>\n",
              "      <th>Ubiquitin_N</th>\n",
              "      <th>pGSK3B_Tyr216_N</th>\n",
              "      <th>SHH_N</th>\n",
              "      <th>pCFOS_N</th>\n",
              "      <th>SYP_N</th>\n",
              "      <th>CaNA_N</th>\n",
              "    </tr>\n",
              "  </thead>\n",
              "  <tbody>\n",
              "    <tr>\n",
              "      <th>0</th>\n",
              "      <td>0.503644</td>\n",
              "      <td>0.747193</td>\n",
              "      <td>0.430175</td>\n",
              "      <td>2.816329</td>\n",
              "      <td>5.990152</td>\n",
              "      <td>0.218830</td>\n",
              "      <td>0.177565</td>\n",
              "      <td>2.373744</td>\n",
              "      <td>0.232224</td>\n",
              "      <td>1.750936</td>\n",
              "      <td>...</td>\n",
              "      <td>0.247538</td>\n",
              "      <td>1.603310</td>\n",
              "      <td>2.014875</td>\n",
              "      <td>0.108234</td>\n",
              "      <td>1.044979</td>\n",
              "      <td>0.831557</td>\n",
              "      <td>0.188852</td>\n",
              "      <td>0.108336</td>\n",
              "      <td>0.427099</td>\n",
              "      <td>1.675652</td>\n",
              "    </tr>\n",
              "    <tr>\n",
              "      <th>1</th>\n",
              "      <td>0.514617</td>\n",
              "      <td>0.689064</td>\n",
              "      <td>0.411770</td>\n",
              "      <td>2.789514</td>\n",
              "      <td>5.685038</td>\n",
              "      <td>0.211636</td>\n",
              "      <td>0.172817</td>\n",
              "      <td>2.292150</td>\n",
              "      <td>0.226972</td>\n",
              "      <td>1.596377</td>\n",
              "      <td>...</td>\n",
              "      <td>0.257632</td>\n",
              "      <td>1.671738</td>\n",
              "      <td>2.004605</td>\n",
              "      <td>0.109749</td>\n",
              "      <td>1.009883</td>\n",
              "      <td>0.849270</td>\n",
              "      <td>0.200404</td>\n",
              "      <td>0.104315</td>\n",
              "      <td>0.441581</td>\n",
              "      <td>1.743610</td>\n",
              "    </tr>\n",
              "    <tr>\n",
              "      <th>2</th>\n",
              "      <td>0.509183</td>\n",
              "      <td>0.730247</td>\n",
              "      <td>0.418309</td>\n",
              "      <td>2.687201</td>\n",
              "      <td>5.622059</td>\n",
              "      <td>0.209011</td>\n",
              "      <td>0.175722</td>\n",
              "      <td>2.283337</td>\n",
              "      <td>0.230247</td>\n",
              "      <td>1.561316</td>\n",
              "      <td>...</td>\n",
              "      <td>0.255343</td>\n",
              "      <td>1.663550</td>\n",
              "      <td>2.016831</td>\n",
              "      <td>0.108196</td>\n",
              "      <td>0.996848</td>\n",
              "      <td>0.846709</td>\n",
              "      <td>0.193685</td>\n",
              "      <td>0.106219</td>\n",
              "      <td>0.435777</td>\n",
              "      <td>1.926427</td>\n",
              "    </tr>\n",
              "    <tr>\n",
              "      <th>3</th>\n",
              "      <td>0.442107</td>\n",
              "      <td>0.617076</td>\n",
              "      <td>0.358626</td>\n",
              "      <td>2.466947</td>\n",
              "      <td>4.979503</td>\n",
              "      <td>0.222886</td>\n",
              "      <td>0.176463</td>\n",
              "      <td>2.152301</td>\n",
              "      <td>0.207004</td>\n",
              "      <td>1.595086</td>\n",
              "      <td>...</td>\n",
              "      <td>0.251103</td>\n",
              "      <td>1.484624</td>\n",
              "      <td>1.957233</td>\n",
              "      <td>0.119883</td>\n",
              "      <td>0.990225</td>\n",
              "      <td>0.833277</td>\n",
              "      <td>0.192112</td>\n",
              "      <td>0.111262</td>\n",
              "      <td>0.391691</td>\n",
              "      <td>1.700563</td>\n",
              "    </tr>\n",
              "    <tr>\n",
              "      <th>4</th>\n",
              "      <td>0.434940</td>\n",
              "      <td>0.617430</td>\n",
              "      <td>0.358802</td>\n",
              "      <td>2.365785</td>\n",
              "      <td>4.718679</td>\n",
              "      <td>0.213106</td>\n",
              "      <td>0.173627</td>\n",
              "      <td>2.134014</td>\n",
              "      <td>0.192158</td>\n",
              "      <td>1.504230</td>\n",
              "      <td>...</td>\n",
              "      <td>0.251773</td>\n",
              "      <td>1.534835</td>\n",
              "      <td>2.009109</td>\n",
              "      <td>0.119524</td>\n",
              "      <td>0.997775</td>\n",
              "      <td>0.878668</td>\n",
              "      <td>0.205604</td>\n",
              "      <td>0.110694</td>\n",
              "      <td>0.434154</td>\n",
              "      <td>1.839730</td>\n",
              "    </tr>\n",
              "    <tr>\n",
              "      <th>...</th>\n",
              "      <td>...</td>\n",
              "      <td>...</td>\n",
              "      <td>...</td>\n",
              "      <td>...</td>\n",
              "      <td>...</td>\n",
              "      <td>...</td>\n",
              "      <td>...</td>\n",
              "      <td>...</td>\n",
              "      <td>...</td>\n",
              "      <td>...</td>\n",
              "      <td>...</td>\n",
              "      <td>...</td>\n",
              "      <td>...</td>\n",
              "      <td>...</td>\n",
              "      <td>...</td>\n",
              "      <td>...</td>\n",
              "      <td>...</td>\n",
              "      <td>...</td>\n",
              "      <td>...</td>\n",
              "      <td>...</td>\n",
              "      <td>...</td>\n",
              "    </tr>\n",
              "    <tr>\n",
              "      <th>757</th>\n",
              "      <td>0.394169</td>\n",
              "      <td>0.623696</td>\n",
              "      <td>0.316564</td>\n",
              "      <td>2.104045</td>\n",
              "      <td>3.314706</td>\n",
              "      <td>0.234529</td>\n",
              "      <td>0.200657</td>\n",
              "      <td>3.208804</td>\n",
              "      <td>0.221809</td>\n",
              "      <td>1.218951</td>\n",
              "      <td>...</td>\n",
              "      <td>0.311337</td>\n",
              "      <td>1.622850</td>\n",
              "      <td>2.236925</td>\n",
              "      <td>0.149263</td>\n",
              "      <td>1.136276</td>\n",
              "      <td>1.001404</td>\n",
              "      <td>0.216128</td>\n",
              "      <td>0.115567</td>\n",
              "      <td>0.441207</td>\n",
              "      <td>1.474465</td>\n",
              "    </tr>\n",
              "    <tr>\n",
              "      <th>758</th>\n",
              "      <td>0.401739</td>\n",
              "      <td>0.659571</td>\n",
              "      <td>0.321841</td>\n",
              "      <td>2.183930</td>\n",
              "      <td>3.411782</td>\n",
              "      <td>0.236546</td>\n",
              "      <td>0.190826</td>\n",
              "      <td>3.384350</td>\n",
              "      <td>0.231899</td>\n",
              "      <td>1.250487</td>\n",
              "      <td>...</td>\n",
              "      <td>0.315762</td>\n",
              "      <td>1.657617</td>\n",
              "      <td>2.274556</td>\n",
              "      <td>0.154894</td>\n",
              "      <td>1.154191</td>\n",
              "      <td>1.043402</td>\n",
              "      <td>0.209717</td>\n",
              "      <td>0.108944</td>\n",
              "      <td>0.444913</td>\n",
              "      <td>1.516605</td>\n",
              "    </tr>\n",
              "    <tr>\n",
              "      <th>759</th>\n",
              "      <td>0.382182</td>\n",
              "      <td>0.586545</td>\n",
              "      <td>0.318545</td>\n",
              "      <td>2.072000</td>\n",
              "      <td>3.073636</td>\n",
              "      <td>0.259636</td>\n",
              "      <td>0.202727</td>\n",
              "      <td>3.006364</td>\n",
              "      <td>0.223455</td>\n",
              "      <td>1.248727</td>\n",
              "      <td>...</td>\n",
              "      <td>0.308615</td>\n",
              "      <td>1.504094</td>\n",
              "      <td>2.107139</td>\n",
              "      <td>0.153154</td>\n",
              "      <td>1.195479</td>\n",
              "      <td>0.948795</td>\n",
              "      <td>0.211279</td>\n",
              "      <td>0.114635</td>\n",
              "      <td>0.422789</td>\n",
              "      <td>1.433514</td>\n",
              "    </tr>\n",
              "    <tr>\n",
              "      <th>760</th>\n",
              "      <td>0.365622</td>\n",
              "      <td>0.572209</td>\n",
              "      <td>0.297992</td>\n",
              "      <td>2.004931</td>\n",
              "      <td>2.783551</td>\n",
              "      <td>0.245333</td>\n",
              "      <td>0.190384</td>\n",
              "      <td>2.948221</td>\n",
              "      <td>0.217506</td>\n",
              "      <td>1.177527</td>\n",
              "      <td>...</td>\n",
              "      <td>0.327140</td>\n",
              "      <td>1.568203</td>\n",
              "      <td>2.212959</td>\n",
              "      <td>0.154868</td>\n",
              "      <td>1.213194</td>\n",
              "      <td>0.995884</td>\n",
              "      <td>0.197436</td>\n",
              "      <td>0.120649</td>\n",
              "      <td>0.459901</td>\n",
              "      <td>1.543274</td>\n",
              "    </tr>\n",
              "    <tr>\n",
              "      <th>761</th>\n",
              "      <td>0.365605</td>\n",
              "      <td>0.599499</td>\n",
              "      <td>0.301539</td>\n",
              "      <td>2.062813</td>\n",
              "      <td>2.952577</td>\n",
              "      <td>0.248568</td>\n",
              "      <td>0.198819</td>\n",
              "      <td>3.069435</td>\n",
              "      <td>0.226736</td>\n",
              "      <td>1.220472</td>\n",
              "      <td>...</td>\n",
              "      <td>0.325593</td>\n",
              "      <td>1.694039</td>\n",
              "      <td>2.293512</td>\n",
              "      <td>0.155016</td>\n",
              "      <td>1.284654</td>\n",
              "      <td>1.031482</td>\n",
              "      <td>0.225640</td>\n",
              "      <td>0.110486</td>\n",
              "      <td>0.424228</td>\n",
              "      <td>1.520110</td>\n",
              "    </tr>\n",
              "  </tbody>\n",
              "</table>\n",
              "<p>762 rows × 66 columns</p>\n",
              "</div>\n",
              "      <button class=\"colab-df-convert\" onclick=\"convertToInteractive('df-75cfa207-ab01-4095-ade0-c11d8b9e1a83')\"\n",
              "              title=\"Convert this dataframe to an interactive table.\"\n",
              "              style=\"display:none;\">\n",
              "        \n",
              "  <svg xmlns=\"http://www.w3.org/2000/svg\" height=\"24px\"viewBox=\"0 0 24 24\"\n",
              "       width=\"24px\">\n",
              "    <path d=\"M0 0h24v24H0V0z\" fill=\"none\"/>\n",
              "    <path d=\"M18.56 5.44l.94 2.06.94-2.06 2.06-.94-2.06-.94-.94-2.06-.94 2.06-2.06.94zm-11 1L8.5 8.5l.94-2.06 2.06-.94-2.06-.94L8.5 2.5l-.94 2.06-2.06.94zm10 10l.94 2.06.94-2.06 2.06-.94-2.06-.94-.94-2.06-.94 2.06-2.06.94z\"/><path d=\"M17.41 7.96l-1.37-1.37c-.4-.4-.92-.59-1.43-.59-.52 0-1.04.2-1.43.59L10.3 9.45l-7.72 7.72c-.78.78-.78 2.05 0 2.83L4 21.41c.39.39.9.59 1.41.59.51 0 1.02-.2 1.41-.59l7.78-7.78 2.81-2.81c.8-.78.8-2.07 0-2.86zM5.41 20L4 18.59l7.72-7.72 1.47 1.35L5.41 20z\"/>\n",
              "  </svg>\n",
              "      </button>\n",
              "      \n",
              "  <style>\n",
              "    .colab-df-container {\n",
              "      display:flex;\n",
              "      flex-wrap:wrap;\n",
              "      gap: 12px;\n",
              "    }\n",
              "\n",
              "    .colab-df-convert {\n",
              "      background-color: #E8F0FE;\n",
              "      border: none;\n",
              "      border-radius: 50%;\n",
              "      cursor: pointer;\n",
              "      display: none;\n",
              "      fill: #1967D2;\n",
              "      height: 32px;\n",
              "      padding: 0 0 0 0;\n",
              "      width: 32px;\n",
              "    }\n",
              "\n",
              "    .colab-df-convert:hover {\n",
              "      background-color: #E2EBFA;\n",
              "      box-shadow: 0px 1px 2px rgba(60, 64, 67, 0.3), 0px 1px 3px 1px rgba(60, 64, 67, 0.15);\n",
              "      fill: #174EA6;\n",
              "    }\n",
              "\n",
              "    [theme=dark] .colab-df-convert {\n",
              "      background-color: #3B4455;\n",
              "      fill: #D2E3FC;\n",
              "    }\n",
              "\n",
              "    [theme=dark] .colab-df-convert:hover {\n",
              "      background-color: #434B5C;\n",
              "      box-shadow: 0px 1px 3px 1px rgba(0, 0, 0, 0.15);\n",
              "      filter: drop-shadow(0px 1px 2px rgba(0, 0, 0, 0.3));\n",
              "      fill: #FFFFFF;\n",
              "    }\n",
              "  </style>\n",
              "\n",
              "      <script>\n",
              "        const buttonEl =\n",
              "          document.querySelector('#df-75cfa207-ab01-4095-ade0-c11d8b9e1a83 button.colab-df-convert');\n",
              "        buttonEl.style.display =\n",
              "          google.colab.kernel.accessAllowed ? 'block' : 'none';\n",
              "\n",
              "        async function convertToInteractive(key) {\n",
              "          const element = document.querySelector('#df-75cfa207-ab01-4095-ade0-c11d8b9e1a83');\n",
              "          const dataTable =\n",
              "            await google.colab.kernel.invokeFunction('convertToInteractive',\n",
              "                                                     [key], {});\n",
              "          if (!dataTable) return;\n",
              "\n",
              "          const docLinkHtml = 'Like what you see? Visit the ' +\n",
              "            '<a target=\"_blank\" href=https://colab.research.google.com/notebooks/data_table.ipynb>data table notebook</a>'\n",
              "            + ' to learn more about interactive tables.';\n",
              "          element.innerHTML = '';\n",
              "          dataTable['output_type'] = 'display_data';\n",
              "          await google.colab.output.renderOutput(dataTable, element);\n",
              "          const docLink = document.createElement('div');\n",
              "          docLink.innerHTML = docLinkHtml;\n",
              "          element.appendChild(docLink);\n",
              "        }\n",
              "      </script>\n",
              "    </div>\n",
              "  </div>\n",
              "  "
            ]
          },
          "metadata": {},
          "execution_count": 28
        }
      ],
      "source": [
        "# reduce the dataframe to only contain variables with variance greater than 0.0005\n",
        "mt_num_only = mt_num_only.loc[:, mt_num_only.var(numeric_only = True) > 0.0005]\n",
        "\n",
        "# display mt_num_only\n",
        "mt_num_only"
      ]
    },
    {
      "cell_type": "markdown",
      "metadata": {
        "id": "JI9maSQ_UNkz"
      },
      "source": [
        "##### (b)"
      ]
    },
    {
      "cell_type": "code",
      "execution_count": null,
      "metadata": {
        "colab": {
          "base_uri": "https://localhost:8080/",
          "height": 487
        },
        "id": "9yYfNNp5UUKV",
        "outputId": "143751dd-f089-4473-dc47-697662eb7636"
      },
      "outputs": [
        {
          "output_type": "execute_result",
          "data": {
            "text/plain": [
              "                 DYRK1A_N   ITSN1_N    BDNF_N     NR1_N    NR2A_N    pAKT_N  \\\n",
              "DYRK1A_N         1.000000  0.961321  0.407110  0.314795  0.340011 -0.182126   \n",
              "ITSN1_N          0.961321  1.000000  0.495102  0.428745  0.421034 -0.149509   \n",
              "BDNF_N           0.407110  0.495102  1.000000  0.817986  0.746004  0.241501   \n",
              "NR1_N            0.314795  0.428745  0.817986  1.000000  0.866667  0.185322   \n",
              "NR2A_N           0.340011  0.421034  0.746004  0.866667  1.000000  0.076446   \n",
              "...                   ...       ...       ...       ...       ...       ...   \n",
              "pGSK3B_Tyr216_N  0.339879  0.403635  0.235227  0.245469  0.117841 -0.035002   \n",
              "SHH_N           -0.223812 -0.220720 -0.112984 -0.100915 -0.237932  0.113274   \n",
              "pCFOS_N         -0.224427 -0.300170 -0.265185 -0.364487 -0.426562  0.027823   \n",
              "SYP_N           -0.035929  0.039384  0.454025  0.486483  0.377628  0.199349   \n",
              "CaNA_N           0.457907  0.495085  0.304098  0.205033  0.185840 -0.245944   \n",
              "\n",
              "                  pBRAF_N  pCAMKII_N   pCREB_N    pELK_N  ...   P3525_N  \\\n",
              "DYRK1A_N        -0.085401  -0.158167  0.082463  0.811398  ... -0.174372   \n",
              "ITSN1_N         -0.068712  -0.114789  0.200468  0.796880  ... -0.102749   \n",
              "BDNF_N           0.332689   0.129602  0.569146  0.458951  ...  0.123434   \n",
              "NR1_N            0.220929   0.253744  0.599846  0.399791  ...  0.078904   \n",
              "NR2A_N           0.079740   0.223203  0.362348  0.387644  ... -0.041624   \n",
              "...                   ...        ...       ...       ...  ...       ...   \n",
              "pGSK3B_Tyr216_N -0.039725   0.088942  0.166500  0.144792  ...  0.405606   \n",
              "SHH_N            0.107594   0.065394  0.044608 -0.190035  ...  0.445384   \n",
              "pCFOS_N          0.107951  -0.087144 -0.235981 -0.155787  ...  0.181487   \n",
              "SYP_N            0.232262   0.187727  0.383455  0.003932  ...  0.454856   \n",
              "CaNA_N          -0.204640  -0.361215  0.054356  0.223832  ...  0.199564   \n",
              "\n",
              "                 pCASP9_N   PSD95_N    SNCA_N  Ubiquitin_N  pGSK3B_Tyr216_N  \\\n",
              "DYRK1A_N        -0.243189 -0.162544 -0.401000    -0.428442         0.339879   \n",
              "ITSN1_N         -0.138549 -0.089496 -0.430173    -0.370611         0.403635   \n",
              "BDNF_N           0.055620  0.046813 -0.214369    -0.031408         0.235227   \n",
              "NR1_N            0.200738  0.324115 -0.247044     0.074819         0.245469   \n",
              "NR2A_N           0.129107  0.184531 -0.311324     0.002289         0.117841   \n",
              "...                   ...       ...       ...          ...              ...   \n",
              "pGSK3B_Tyr216_N  0.346149  0.355325 -0.164691     0.058666         1.000000   \n",
              "SHH_N            0.195775  0.233734  0.505187     0.316371         0.288273   \n",
              "pCFOS_N          0.057807 -0.095393  0.611258     0.155828        -0.068222   \n",
              "SYP_N            0.525524  0.404700  0.140256     0.343885         0.345046   \n",
              "CaNA_N           0.148304  0.056238 -0.566640    -0.442124         0.527547   \n",
              "\n",
              "                    SHH_N   pCFOS_N     SYP_N    CaNA_N  \n",
              "DYRK1A_N        -0.223812 -0.224427 -0.035929  0.457907  \n",
              "ITSN1_N         -0.220720 -0.300170  0.039384  0.495085  \n",
              "BDNF_N          -0.112984 -0.265185  0.454025  0.304098  \n",
              "NR1_N           -0.100915 -0.364487  0.486483  0.205033  \n",
              "NR2A_N          -0.237932 -0.426562  0.377628  0.185840  \n",
              "...                   ...       ...       ...       ...  \n",
              "pGSK3B_Tyr216_N  0.288273 -0.068222  0.345046  0.527547  \n",
              "SHH_N            1.000000  0.522662  0.115625 -0.166451  \n",
              "pCFOS_N          0.522662  1.000000 -0.010451 -0.314474  \n",
              "SYP_N            0.115625 -0.010451  1.000000  0.273142  \n",
              "CaNA_N          -0.166451 -0.314474  0.273142  1.000000  \n",
              "\n",
              "[66 rows x 66 columns]"
            ],
            "text/html": [
              "\n",
              "  <div id=\"df-ddcd863a-24ed-48cd-995d-7f6456a25713\">\n",
              "    <div class=\"colab-df-container\">\n",
              "      <div>\n",
              "<style scoped>\n",
              "    .dataframe tbody tr th:only-of-type {\n",
              "        vertical-align: middle;\n",
              "    }\n",
              "\n",
              "    .dataframe tbody tr th {\n",
              "        vertical-align: top;\n",
              "    }\n",
              "\n",
              "    .dataframe thead th {\n",
              "        text-align: right;\n",
              "    }\n",
              "</style>\n",
              "<table border=\"1\" class=\"dataframe\">\n",
              "  <thead>\n",
              "    <tr style=\"text-align: right;\">\n",
              "      <th></th>\n",
              "      <th>DYRK1A_N</th>\n",
              "      <th>ITSN1_N</th>\n",
              "      <th>BDNF_N</th>\n",
              "      <th>NR1_N</th>\n",
              "      <th>NR2A_N</th>\n",
              "      <th>pAKT_N</th>\n",
              "      <th>pBRAF_N</th>\n",
              "      <th>pCAMKII_N</th>\n",
              "      <th>pCREB_N</th>\n",
              "      <th>pELK_N</th>\n",
              "      <th>...</th>\n",
              "      <th>P3525_N</th>\n",
              "      <th>pCASP9_N</th>\n",
              "      <th>PSD95_N</th>\n",
              "      <th>SNCA_N</th>\n",
              "      <th>Ubiquitin_N</th>\n",
              "      <th>pGSK3B_Tyr216_N</th>\n",
              "      <th>SHH_N</th>\n",
              "      <th>pCFOS_N</th>\n",
              "      <th>SYP_N</th>\n",
              "      <th>CaNA_N</th>\n",
              "    </tr>\n",
              "  </thead>\n",
              "  <tbody>\n",
              "    <tr>\n",
              "      <th>DYRK1A_N</th>\n",
              "      <td>1.000000</td>\n",
              "      <td>0.961321</td>\n",
              "      <td>0.407110</td>\n",
              "      <td>0.314795</td>\n",
              "      <td>0.340011</td>\n",
              "      <td>-0.182126</td>\n",
              "      <td>-0.085401</td>\n",
              "      <td>-0.158167</td>\n",
              "      <td>0.082463</td>\n",
              "      <td>0.811398</td>\n",
              "      <td>...</td>\n",
              "      <td>-0.174372</td>\n",
              "      <td>-0.243189</td>\n",
              "      <td>-0.162544</td>\n",
              "      <td>-0.401000</td>\n",
              "      <td>-0.428442</td>\n",
              "      <td>0.339879</td>\n",
              "      <td>-0.223812</td>\n",
              "      <td>-0.224427</td>\n",
              "      <td>-0.035929</td>\n",
              "      <td>0.457907</td>\n",
              "    </tr>\n",
              "    <tr>\n",
              "      <th>ITSN1_N</th>\n",
              "      <td>0.961321</td>\n",
              "      <td>1.000000</td>\n",
              "      <td>0.495102</td>\n",
              "      <td>0.428745</td>\n",
              "      <td>0.421034</td>\n",
              "      <td>-0.149509</td>\n",
              "      <td>-0.068712</td>\n",
              "      <td>-0.114789</td>\n",
              "      <td>0.200468</td>\n",
              "      <td>0.796880</td>\n",
              "      <td>...</td>\n",
              "      <td>-0.102749</td>\n",
              "      <td>-0.138549</td>\n",
              "      <td>-0.089496</td>\n",
              "      <td>-0.430173</td>\n",
              "      <td>-0.370611</td>\n",
              "      <td>0.403635</td>\n",
              "      <td>-0.220720</td>\n",
              "      <td>-0.300170</td>\n",
              "      <td>0.039384</td>\n",
              "      <td>0.495085</td>\n",
              "    </tr>\n",
              "    <tr>\n",
              "      <th>BDNF_N</th>\n",
              "      <td>0.407110</td>\n",
              "      <td>0.495102</td>\n",
              "      <td>1.000000</td>\n",
              "      <td>0.817986</td>\n",
              "      <td>0.746004</td>\n",
              "      <td>0.241501</td>\n",
              "      <td>0.332689</td>\n",
              "      <td>0.129602</td>\n",
              "      <td>0.569146</td>\n",
              "      <td>0.458951</td>\n",
              "      <td>...</td>\n",
              "      <td>0.123434</td>\n",
              "      <td>0.055620</td>\n",
              "      <td>0.046813</td>\n",
              "      <td>-0.214369</td>\n",
              "      <td>-0.031408</td>\n",
              "      <td>0.235227</td>\n",
              "      <td>-0.112984</td>\n",
              "      <td>-0.265185</td>\n",
              "      <td>0.454025</td>\n",
              "      <td>0.304098</td>\n",
              "    </tr>\n",
              "    <tr>\n",
              "      <th>NR1_N</th>\n",
              "      <td>0.314795</td>\n",
              "      <td>0.428745</td>\n",
              "      <td>0.817986</td>\n",
              "      <td>1.000000</td>\n",
              "      <td>0.866667</td>\n",
              "      <td>0.185322</td>\n",
              "      <td>0.220929</td>\n",
              "      <td>0.253744</td>\n",
              "      <td>0.599846</td>\n",
              "      <td>0.399791</td>\n",
              "      <td>...</td>\n",
              "      <td>0.078904</td>\n",
              "      <td>0.200738</td>\n",
              "      <td>0.324115</td>\n",
              "      <td>-0.247044</td>\n",
              "      <td>0.074819</td>\n",
              "      <td>0.245469</td>\n",
              "      <td>-0.100915</td>\n",
              "      <td>-0.364487</td>\n",
              "      <td>0.486483</td>\n",
              "      <td>0.205033</td>\n",
              "    </tr>\n",
              "    <tr>\n",
              "      <th>NR2A_N</th>\n",
              "      <td>0.340011</td>\n",
              "      <td>0.421034</td>\n",
              "      <td>0.746004</td>\n",
              "      <td>0.866667</td>\n",
              "      <td>1.000000</td>\n",
              "      <td>0.076446</td>\n",
              "      <td>0.079740</td>\n",
              "      <td>0.223203</td>\n",
              "      <td>0.362348</td>\n",
              "      <td>0.387644</td>\n",
              "      <td>...</td>\n",
              "      <td>-0.041624</td>\n",
              "      <td>0.129107</td>\n",
              "      <td>0.184531</td>\n",
              "      <td>-0.311324</td>\n",
              "      <td>0.002289</td>\n",
              "      <td>0.117841</td>\n",
              "      <td>-0.237932</td>\n",
              "      <td>-0.426562</td>\n",
              "      <td>0.377628</td>\n",
              "      <td>0.185840</td>\n",
              "    </tr>\n",
              "    <tr>\n",
              "      <th>...</th>\n",
              "      <td>...</td>\n",
              "      <td>...</td>\n",
              "      <td>...</td>\n",
              "      <td>...</td>\n",
              "      <td>...</td>\n",
              "      <td>...</td>\n",
              "      <td>...</td>\n",
              "      <td>...</td>\n",
              "      <td>...</td>\n",
              "      <td>...</td>\n",
              "      <td>...</td>\n",
              "      <td>...</td>\n",
              "      <td>...</td>\n",
              "      <td>...</td>\n",
              "      <td>...</td>\n",
              "      <td>...</td>\n",
              "      <td>...</td>\n",
              "      <td>...</td>\n",
              "      <td>...</td>\n",
              "      <td>...</td>\n",
              "      <td>...</td>\n",
              "    </tr>\n",
              "    <tr>\n",
              "      <th>pGSK3B_Tyr216_N</th>\n",
              "      <td>0.339879</td>\n",
              "      <td>0.403635</td>\n",
              "      <td>0.235227</td>\n",
              "      <td>0.245469</td>\n",
              "      <td>0.117841</td>\n",
              "      <td>-0.035002</td>\n",
              "      <td>-0.039725</td>\n",
              "      <td>0.088942</td>\n",
              "      <td>0.166500</td>\n",
              "      <td>0.144792</td>\n",
              "      <td>...</td>\n",
              "      <td>0.405606</td>\n",
              "      <td>0.346149</td>\n",
              "      <td>0.355325</td>\n",
              "      <td>-0.164691</td>\n",
              "      <td>0.058666</td>\n",
              "      <td>1.000000</td>\n",
              "      <td>0.288273</td>\n",
              "      <td>-0.068222</td>\n",
              "      <td>0.345046</td>\n",
              "      <td>0.527547</td>\n",
              "    </tr>\n",
              "    <tr>\n",
              "      <th>SHH_N</th>\n",
              "      <td>-0.223812</td>\n",
              "      <td>-0.220720</td>\n",
              "      <td>-0.112984</td>\n",
              "      <td>-0.100915</td>\n",
              "      <td>-0.237932</td>\n",
              "      <td>0.113274</td>\n",
              "      <td>0.107594</td>\n",
              "      <td>0.065394</td>\n",
              "      <td>0.044608</td>\n",
              "      <td>-0.190035</td>\n",
              "      <td>...</td>\n",
              "      <td>0.445384</td>\n",
              "      <td>0.195775</td>\n",
              "      <td>0.233734</td>\n",
              "      <td>0.505187</td>\n",
              "      <td>0.316371</td>\n",
              "      <td>0.288273</td>\n",
              "      <td>1.000000</td>\n",
              "      <td>0.522662</td>\n",
              "      <td>0.115625</td>\n",
              "      <td>-0.166451</td>\n",
              "    </tr>\n",
              "    <tr>\n",
              "      <th>pCFOS_N</th>\n",
              "      <td>-0.224427</td>\n",
              "      <td>-0.300170</td>\n",
              "      <td>-0.265185</td>\n",
              "      <td>-0.364487</td>\n",
              "      <td>-0.426562</td>\n",
              "      <td>0.027823</td>\n",
              "      <td>0.107951</td>\n",
              "      <td>-0.087144</td>\n",
              "      <td>-0.235981</td>\n",
              "      <td>-0.155787</td>\n",
              "      <td>...</td>\n",
              "      <td>0.181487</td>\n",
              "      <td>0.057807</td>\n",
              "      <td>-0.095393</td>\n",
              "      <td>0.611258</td>\n",
              "      <td>0.155828</td>\n",
              "      <td>-0.068222</td>\n",
              "      <td>0.522662</td>\n",
              "      <td>1.000000</td>\n",
              "      <td>-0.010451</td>\n",
              "      <td>-0.314474</td>\n",
              "    </tr>\n",
              "    <tr>\n",
              "      <th>SYP_N</th>\n",
              "      <td>-0.035929</td>\n",
              "      <td>0.039384</td>\n",
              "      <td>0.454025</td>\n",
              "      <td>0.486483</td>\n",
              "      <td>0.377628</td>\n",
              "      <td>0.199349</td>\n",
              "      <td>0.232262</td>\n",
              "      <td>0.187727</td>\n",
              "      <td>0.383455</td>\n",
              "      <td>0.003932</td>\n",
              "      <td>...</td>\n",
              "      <td>0.454856</td>\n",
              "      <td>0.525524</td>\n",
              "      <td>0.404700</td>\n",
              "      <td>0.140256</td>\n",
              "      <td>0.343885</td>\n",
              "      <td>0.345046</td>\n",
              "      <td>0.115625</td>\n",
              "      <td>-0.010451</td>\n",
              "      <td>1.000000</td>\n",
              "      <td>0.273142</td>\n",
              "    </tr>\n",
              "    <tr>\n",
              "      <th>CaNA_N</th>\n",
              "      <td>0.457907</td>\n",
              "      <td>0.495085</td>\n",
              "      <td>0.304098</td>\n",
              "      <td>0.205033</td>\n",
              "      <td>0.185840</td>\n",
              "      <td>-0.245944</td>\n",
              "      <td>-0.204640</td>\n",
              "      <td>-0.361215</td>\n",
              "      <td>0.054356</td>\n",
              "      <td>0.223832</td>\n",
              "      <td>...</td>\n",
              "      <td>0.199564</td>\n",
              "      <td>0.148304</td>\n",
              "      <td>0.056238</td>\n",
              "      <td>-0.566640</td>\n",
              "      <td>-0.442124</td>\n",
              "      <td>0.527547</td>\n",
              "      <td>-0.166451</td>\n",
              "      <td>-0.314474</td>\n",
              "      <td>0.273142</td>\n",
              "      <td>1.000000</td>\n",
              "    </tr>\n",
              "  </tbody>\n",
              "</table>\n",
              "<p>66 rows × 66 columns</p>\n",
              "</div>\n",
              "      <button class=\"colab-df-convert\" onclick=\"convertToInteractive('df-ddcd863a-24ed-48cd-995d-7f6456a25713')\"\n",
              "              title=\"Convert this dataframe to an interactive table.\"\n",
              "              style=\"display:none;\">\n",
              "        \n",
              "  <svg xmlns=\"http://www.w3.org/2000/svg\" height=\"24px\"viewBox=\"0 0 24 24\"\n",
              "       width=\"24px\">\n",
              "    <path d=\"M0 0h24v24H0V0z\" fill=\"none\"/>\n",
              "    <path d=\"M18.56 5.44l.94 2.06.94-2.06 2.06-.94-2.06-.94-.94-2.06-.94 2.06-2.06.94zm-11 1L8.5 8.5l.94-2.06 2.06-.94-2.06-.94L8.5 2.5l-.94 2.06-2.06.94zm10 10l.94 2.06.94-2.06 2.06-.94-2.06-.94-.94-2.06-.94 2.06-2.06.94z\"/><path d=\"M17.41 7.96l-1.37-1.37c-.4-.4-.92-.59-1.43-.59-.52 0-1.04.2-1.43.59L10.3 9.45l-7.72 7.72c-.78.78-.78 2.05 0 2.83L4 21.41c.39.39.9.59 1.41.59.51 0 1.02-.2 1.41-.59l7.78-7.78 2.81-2.81c.8-.78.8-2.07 0-2.86zM5.41 20L4 18.59l7.72-7.72 1.47 1.35L5.41 20z\"/>\n",
              "  </svg>\n",
              "      </button>\n",
              "      \n",
              "  <style>\n",
              "    .colab-df-container {\n",
              "      display:flex;\n",
              "      flex-wrap:wrap;\n",
              "      gap: 12px;\n",
              "    }\n",
              "\n",
              "    .colab-df-convert {\n",
              "      background-color: #E8F0FE;\n",
              "      border: none;\n",
              "      border-radius: 50%;\n",
              "      cursor: pointer;\n",
              "      display: none;\n",
              "      fill: #1967D2;\n",
              "      height: 32px;\n",
              "      padding: 0 0 0 0;\n",
              "      width: 32px;\n",
              "    }\n",
              "\n",
              "    .colab-df-convert:hover {\n",
              "      background-color: #E2EBFA;\n",
              "      box-shadow: 0px 1px 2px rgba(60, 64, 67, 0.3), 0px 1px 3px 1px rgba(60, 64, 67, 0.15);\n",
              "      fill: #174EA6;\n",
              "    }\n",
              "\n",
              "    [theme=dark] .colab-df-convert {\n",
              "      background-color: #3B4455;\n",
              "      fill: #D2E3FC;\n",
              "    }\n",
              "\n",
              "    [theme=dark] .colab-df-convert:hover {\n",
              "      background-color: #434B5C;\n",
              "      box-shadow: 0px 1px 3px 1px rgba(0, 0, 0, 0.15);\n",
              "      filter: drop-shadow(0px 1px 2px rgba(0, 0, 0, 0.3));\n",
              "      fill: #FFFFFF;\n",
              "    }\n",
              "  </style>\n",
              "\n",
              "      <script>\n",
              "        const buttonEl =\n",
              "          document.querySelector('#df-ddcd863a-24ed-48cd-995d-7f6456a25713 button.colab-df-convert');\n",
              "        buttonEl.style.display =\n",
              "          google.colab.kernel.accessAllowed ? 'block' : 'none';\n",
              "\n",
              "        async function convertToInteractive(key) {\n",
              "          const element = document.querySelector('#df-ddcd863a-24ed-48cd-995d-7f6456a25713');\n",
              "          const dataTable =\n",
              "            await google.colab.kernel.invokeFunction('convertToInteractive',\n",
              "                                                     [key], {});\n",
              "          if (!dataTable) return;\n",
              "\n",
              "          const docLinkHtml = 'Like what you see? Visit the ' +\n",
              "            '<a target=\"_blank\" href=https://colab.research.google.com/notebooks/data_table.ipynb>data table notebook</a>'\n",
              "            + ' to learn more about interactive tables.';\n",
              "          element.innerHTML = '';\n",
              "          dataTable['output_type'] = 'display_data';\n",
              "          await google.colab.output.renderOutput(dataTable, element);\n",
              "          const docLink = document.createElement('div');\n",
              "          docLink.innerHTML = docLinkHtml;\n",
              "          element.appendChild(docLink);\n",
              "        }\n",
              "      </script>\n",
              "    </div>\n",
              "  </div>\n",
              "  "
            ]
          },
          "metadata": {},
          "execution_count": 29
        }
      ],
      "source": [
        "# display correlation matrix for the columns (variables) of the dataframe mt_num_only\n",
        "mt_num_only.corr()"
      ]
    },
    {
      "cell_type": "markdown",
      "metadata": {
        "id": "a2gIbsmIXWaG"
      },
      "source": [
        "We can see that while most of the columns don't have much correlation, some of them have very high correlation values of around 0.85-0.95. We would like to remove the high correlation variables since they don't improve the dataset."
      ]
    },
    {
      "cell_type": "code",
      "execution_count": null,
      "metadata": {
        "colab": {
          "base_uri": "https://localhost:8080/",
          "height": 487
        },
        "id": "mVIdHJk_Xwq5",
        "outputId": "ca24203b-d984-4513-eeec-805d85229366"
      },
      "outputs": [
        {
          "output_type": "execute_result",
          "data": {
            "text/plain": [
              "     DYRK1A_N    BDNF_N     NR1_N    NR2A_N    pAKT_N   pBRAF_N  pCAMKII_N  \\\n",
              "0    0.503644  0.430175  2.816329  5.990152  0.218830  0.177565   2.373744   \n",
              "1    0.514617  0.411770  2.789514  5.685038  0.211636  0.172817   2.292150   \n",
              "2    0.509183  0.418309  2.687201  5.622059  0.209011  0.175722   2.283337   \n",
              "3    0.442107  0.358626  2.466947  4.979503  0.222886  0.176463   2.152301   \n",
              "4    0.434940  0.358802  2.365785  4.718679  0.213106  0.173627   2.134014   \n",
              "..        ...       ...       ...       ...       ...       ...        ...   \n",
              "757  0.394169  0.316564  2.104045  3.314706  0.234529  0.200657   3.208804   \n",
              "758  0.401739  0.321841  2.183930  3.411782  0.236546  0.190826   3.384350   \n",
              "759  0.382182  0.318545  2.072000  3.073636  0.259636  0.202727   3.006364   \n",
              "760  0.365622  0.297992  2.004931  2.783551  0.245333  0.190384   2.948221   \n",
              "761  0.365605  0.301539  2.062813  2.952577  0.248568  0.198819   3.069435   \n",
              "\n",
              "      pCREB_N    pELK_N    pJNK_N  ...   P3525_N  pCASP9_N   PSD95_N  \\\n",
              "0    0.232224  1.750936  0.306382  ...  0.247538  1.603310  2.014875   \n",
              "1    0.226972  1.596377  0.299051  ...  0.257632  1.671738  2.004605   \n",
              "2    0.230247  1.561316  0.291276  ...  0.255343  1.663550  2.016831   \n",
              "3    0.207004  1.595086  0.296729  ...  0.251103  1.484624  1.957233   \n",
              "4    0.192158  1.504230  0.286961  ...  0.251773  1.534835  2.009109   \n",
              "..        ...       ...       ...  ...       ...       ...       ...   \n",
              "757  0.221809  1.218951  0.317851  ...  0.311337  1.622850  2.236925   \n",
              "758  0.231899  1.250487  0.329786  ...  0.315762  1.657617  2.274556   \n",
              "759  0.223455  1.248727  0.354545  ...  0.308615  1.504094  2.107139   \n",
              "760  0.217506  1.177527  0.325819  ...  0.327140  1.568203  2.212959   \n",
              "761  0.226736  1.220472  0.351288  ...  0.325593  1.694039  2.293512   \n",
              "\n",
              "       SNCA_N  Ubiquitin_N  pGSK3B_Tyr216_N     SHH_N   pCFOS_N     SYP_N  \\\n",
              "0    0.108234     1.044979         0.831557  0.188852  0.108336  0.427099   \n",
              "1    0.109749     1.009883         0.849270  0.200404  0.104315  0.441581   \n",
              "2    0.108196     0.996848         0.846709  0.193685  0.106219  0.435777   \n",
              "3    0.119883     0.990225         0.833277  0.192112  0.111262  0.391691   \n",
              "4    0.119524     0.997775         0.878668  0.205604  0.110694  0.434154   \n",
              "..        ...          ...              ...       ...       ...       ...   \n",
              "757  0.149263     1.136276         1.001404  0.216128  0.115567  0.441207   \n",
              "758  0.154894     1.154191         1.043402  0.209717  0.108944  0.444913   \n",
              "759  0.153154     1.195479         0.948795  0.211279  0.114635  0.422789   \n",
              "760  0.154868     1.213194         0.995884  0.197436  0.120649  0.459901   \n",
              "761  0.155016     1.284654         1.031482  0.225640  0.110486  0.424228   \n",
              "\n",
              "       CaNA_N  \n",
              "0    1.675652  \n",
              "1    1.743610  \n",
              "2    1.926427  \n",
              "3    1.700563  \n",
              "4    1.839730  \n",
              "..        ...  \n",
              "757  1.474465  \n",
              "758  1.516605  \n",
              "759  1.433514  \n",
              "760  1.543274  \n",
              "761  1.520110  \n",
              "\n",
              "[762 rows x 60 columns]"
            ],
            "text/html": [
              "\n",
              "  <div id=\"df-a689cbdb-44f1-44aa-9a43-f85626507f8f\">\n",
              "    <div class=\"colab-df-container\">\n",
              "      <div>\n",
              "<style scoped>\n",
              "    .dataframe tbody tr th:only-of-type {\n",
              "        vertical-align: middle;\n",
              "    }\n",
              "\n",
              "    .dataframe tbody tr th {\n",
              "        vertical-align: top;\n",
              "    }\n",
              "\n",
              "    .dataframe thead th {\n",
              "        text-align: right;\n",
              "    }\n",
              "</style>\n",
              "<table border=\"1\" class=\"dataframe\">\n",
              "  <thead>\n",
              "    <tr style=\"text-align: right;\">\n",
              "      <th></th>\n",
              "      <th>DYRK1A_N</th>\n",
              "      <th>BDNF_N</th>\n",
              "      <th>NR1_N</th>\n",
              "      <th>NR2A_N</th>\n",
              "      <th>pAKT_N</th>\n",
              "      <th>pBRAF_N</th>\n",
              "      <th>pCAMKII_N</th>\n",
              "      <th>pCREB_N</th>\n",
              "      <th>pELK_N</th>\n",
              "      <th>pJNK_N</th>\n",
              "      <th>...</th>\n",
              "      <th>P3525_N</th>\n",
              "      <th>pCASP9_N</th>\n",
              "      <th>PSD95_N</th>\n",
              "      <th>SNCA_N</th>\n",
              "      <th>Ubiquitin_N</th>\n",
              "      <th>pGSK3B_Tyr216_N</th>\n",
              "      <th>SHH_N</th>\n",
              "      <th>pCFOS_N</th>\n",
              "      <th>SYP_N</th>\n",
              "      <th>CaNA_N</th>\n",
              "    </tr>\n",
              "  </thead>\n",
              "  <tbody>\n",
              "    <tr>\n",
              "      <th>0</th>\n",
              "      <td>0.503644</td>\n",
              "      <td>0.430175</td>\n",
              "      <td>2.816329</td>\n",
              "      <td>5.990152</td>\n",
              "      <td>0.218830</td>\n",
              "      <td>0.177565</td>\n",
              "      <td>2.373744</td>\n",
              "      <td>0.232224</td>\n",
              "      <td>1.750936</td>\n",
              "      <td>0.306382</td>\n",
              "      <td>...</td>\n",
              "      <td>0.247538</td>\n",
              "      <td>1.603310</td>\n",
              "      <td>2.014875</td>\n",
              "      <td>0.108234</td>\n",
              "      <td>1.044979</td>\n",
              "      <td>0.831557</td>\n",
              "      <td>0.188852</td>\n",
              "      <td>0.108336</td>\n",
              "      <td>0.427099</td>\n",
              "      <td>1.675652</td>\n",
              "    </tr>\n",
              "    <tr>\n",
              "      <th>1</th>\n",
              "      <td>0.514617</td>\n",
              "      <td>0.411770</td>\n",
              "      <td>2.789514</td>\n",
              "      <td>5.685038</td>\n",
              "      <td>0.211636</td>\n",
              "      <td>0.172817</td>\n",
              "      <td>2.292150</td>\n",
              "      <td>0.226972</td>\n",
              "      <td>1.596377</td>\n",
              "      <td>0.299051</td>\n",
              "      <td>...</td>\n",
              "      <td>0.257632</td>\n",
              "      <td>1.671738</td>\n",
              "      <td>2.004605</td>\n",
              "      <td>0.109749</td>\n",
              "      <td>1.009883</td>\n",
              "      <td>0.849270</td>\n",
              "      <td>0.200404</td>\n",
              "      <td>0.104315</td>\n",
              "      <td>0.441581</td>\n",
              "      <td>1.743610</td>\n",
              "    </tr>\n",
              "    <tr>\n",
              "      <th>2</th>\n",
              "      <td>0.509183</td>\n",
              "      <td>0.418309</td>\n",
              "      <td>2.687201</td>\n",
              "      <td>5.622059</td>\n",
              "      <td>0.209011</td>\n",
              "      <td>0.175722</td>\n",
              "      <td>2.283337</td>\n",
              "      <td>0.230247</td>\n",
              "      <td>1.561316</td>\n",
              "      <td>0.291276</td>\n",
              "      <td>...</td>\n",
              "      <td>0.255343</td>\n",
              "      <td>1.663550</td>\n",
              "      <td>2.016831</td>\n",
              "      <td>0.108196</td>\n",
              "      <td>0.996848</td>\n",
              "      <td>0.846709</td>\n",
              "      <td>0.193685</td>\n",
              "      <td>0.106219</td>\n",
              "      <td>0.435777</td>\n",
              "      <td>1.926427</td>\n",
              "    </tr>\n",
              "    <tr>\n",
              "      <th>3</th>\n",
              "      <td>0.442107</td>\n",
              "      <td>0.358626</td>\n",
              "      <td>2.466947</td>\n",
              "      <td>4.979503</td>\n",
              "      <td>0.222886</td>\n",
              "      <td>0.176463</td>\n",
              "      <td>2.152301</td>\n",
              "      <td>0.207004</td>\n",
              "      <td>1.595086</td>\n",
              "      <td>0.296729</td>\n",
              "      <td>...</td>\n",
              "      <td>0.251103</td>\n",
              "      <td>1.484624</td>\n",
              "      <td>1.957233</td>\n",
              "      <td>0.119883</td>\n",
              "      <td>0.990225</td>\n",
              "      <td>0.833277</td>\n",
              "      <td>0.192112</td>\n",
              "      <td>0.111262</td>\n",
              "      <td>0.391691</td>\n",
              "      <td>1.700563</td>\n",
              "    </tr>\n",
              "    <tr>\n",
              "      <th>4</th>\n",
              "      <td>0.434940</td>\n",
              "      <td>0.358802</td>\n",
              "      <td>2.365785</td>\n",
              "      <td>4.718679</td>\n",
              "      <td>0.213106</td>\n",
              "      <td>0.173627</td>\n",
              "      <td>2.134014</td>\n",
              "      <td>0.192158</td>\n",
              "      <td>1.504230</td>\n",
              "      <td>0.286961</td>\n",
              "      <td>...</td>\n",
              "      <td>0.251773</td>\n",
              "      <td>1.534835</td>\n",
              "      <td>2.009109</td>\n",
              "      <td>0.119524</td>\n",
              "      <td>0.997775</td>\n",
              "      <td>0.878668</td>\n",
              "      <td>0.205604</td>\n",
              "      <td>0.110694</td>\n",
              "      <td>0.434154</td>\n",
              "      <td>1.839730</td>\n",
              "    </tr>\n",
              "    <tr>\n",
              "      <th>...</th>\n",
              "      <td>...</td>\n",
              "      <td>...</td>\n",
              "      <td>...</td>\n",
              "      <td>...</td>\n",
              "      <td>...</td>\n",
              "      <td>...</td>\n",
              "      <td>...</td>\n",
              "      <td>...</td>\n",
              "      <td>...</td>\n",
              "      <td>...</td>\n",
              "      <td>...</td>\n",
              "      <td>...</td>\n",
              "      <td>...</td>\n",
              "      <td>...</td>\n",
              "      <td>...</td>\n",
              "      <td>...</td>\n",
              "      <td>...</td>\n",
              "      <td>...</td>\n",
              "      <td>...</td>\n",
              "      <td>...</td>\n",
              "      <td>...</td>\n",
              "    </tr>\n",
              "    <tr>\n",
              "      <th>757</th>\n",
              "      <td>0.394169</td>\n",
              "      <td>0.316564</td>\n",
              "      <td>2.104045</td>\n",
              "      <td>3.314706</td>\n",
              "      <td>0.234529</td>\n",
              "      <td>0.200657</td>\n",
              "      <td>3.208804</td>\n",
              "      <td>0.221809</td>\n",
              "      <td>1.218951</td>\n",
              "      <td>0.317851</td>\n",
              "      <td>...</td>\n",
              "      <td>0.311337</td>\n",
              "      <td>1.622850</td>\n",
              "      <td>2.236925</td>\n",
              "      <td>0.149263</td>\n",
              "      <td>1.136276</td>\n",
              "      <td>1.001404</td>\n",
              "      <td>0.216128</td>\n",
              "      <td>0.115567</td>\n",
              "      <td>0.441207</td>\n",
              "      <td>1.474465</td>\n",
              "    </tr>\n",
              "    <tr>\n",
              "      <th>758</th>\n",
              "      <td>0.401739</td>\n",
              "      <td>0.321841</td>\n",
              "      <td>2.183930</td>\n",
              "      <td>3.411782</td>\n",
              "      <td>0.236546</td>\n",
              "      <td>0.190826</td>\n",
              "      <td>3.384350</td>\n",
              "      <td>0.231899</td>\n",
              "      <td>1.250487</td>\n",
              "      <td>0.329786</td>\n",
              "      <td>...</td>\n",
              "      <td>0.315762</td>\n",
              "      <td>1.657617</td>\n",
              "      <td>2.274556</td>\n",
              "      <td>0.154894</td>\n",
              "      <td>1.154191</td>\n",
              "      <td>1.043402</td>\n",
              "      <td>0.209717</td>\n",
              "      <td>0.108944</td>\n",
              "      <td>0.444913</td>\n",
              "      <td>1.516605</td>\n",
              "    </tr>\n",
              "    <tr>\n",
              "      <th>759</th>\n",
              "      <td>0.382182</td>\n",
              "      <td>0.318545</td>\n",
              "      <td>2.072000</td>\n",
              "      <td>3.073636</td>\n",
              "      <td>0.259636</td>\n",
              "      <td>0.202727</td>\n",
              "      <td>3.006364</td>\n",
              "      <td>0.223455</td>\n",
              "      <td>1.248727</td>\n",
              "      <td>0.354545</td>\n",
              "      <td>...</td>\n",
              "      <td>0.308615</td>\n",
              "      <td>1.504094</td>\n",
              "      <td>2.107139</td>\n",
              "      <td>0.153154</td>\n",
              "      <td>1.195479</td>\n",
              "      <td>0.948795</td>\n",
              "      <td>0.211279</td>\n",
              "      <td>0.114635</td>\n",
              "      <td>0.422789</td>\n",
              "      <td>1.433514</td>\n",
              "    </tr>\n",
              "    <tr>\n",
              "      <th>760</th>\n",
              "      <td>0.365622</td>\n",
              "      <td>0.297992</td>\n",
              "      <td>2.004931</td>\n",
              "      <td>2.783551</td>\n",
              "      <td>0.245333</td>\n",
              "      <td>0.190384</td>\n",
              "      <td>2.948221</td>\n",
              "      <td>0.217506</td>\n",
              "      <td>1.177527</td>\n",
              "      <td>0.325819</td>\n",
              "      <td>...</td>\n",
              "      <td>0.327140</td>\n",
              "      <td>1.568203</td>\n",
              "      <td>2.212959</td>\n",
              "      <td>0.154868</td>\n",
              "      <td>1.213194</td>\n",
              "      <td>0.995884</td>\n",
              "      <td>0.197436</td>\n",
              "      <td>0.120649</td>\n",
              "      <td>0.459901</td>\n",
              "      <td>1.543274</td>\n",
              "    </tr>\n",
              "    <tr>\n",
              "      <th>761</th>\n",
              "      <td>0.365605</td>\n",
              "      <td>0.301539</td>\n",
              "      <td>2.062813</td>\n",
              "      <td>2.952577</td>\n",
              "      <td>0.248568</td>\n",
              "      <td>0.198819</td>\n",
              "      <td>3.069435</td>\n",
              "      <td>0.226736</td>\n",
              "      <td>1.220472</td>\n",
              "      <td>0.351288</td>\n",
              "      <td>...</td>\n",
              "      <td>0.325593</td>\n",
              "      <td>1.694039</td>\n",
              "      <td>2.293512</td>\n",
              "      <td>0.155016</td>\n",
              "      <td>1.284654</td>\n",
              "      <td>1.031482</td>\n",
              "      <td>0.225640</td>\n",
              "      <td>0.110486</td>\n",
              "      <td>0.424228</td>\n",
              "      <td>1.520110</td>\n",
              "    </tr>\n",
              "  </tbody>\n",
              "</table>\n",
              "<p>762 rows × 60 columns</p>\n",
              "</div>\n",
              "      <button class=\"colab-df-convert\" onclick=\"convertToInteractive('df-a689cbdb-44f1-44aa-9a43-f85626507f8f')\"\n",
              "              title=\"Convert this dataframe to an interactive table.\"\n",
              "              style=\"display:none;\">\n",
              "        \n",
              "  <svg xmlns=\"http://www.w3.org/2000/svg\" height=\"24px\"viewBox=\"0 0 24 24\"\n",
              "       width=\"24px\">\n",
              "    <path d=\"M0 0h24v24H0V0z\" fill=\"none\"/>\n",
              "    <path d=\"M18.56 5.44l.94 2.06.94-2.06 2.06-.94-2.06-.94-.94-2.06-.94 2.06-2.06.94zm-11 1L8.5 8.5l.94-2.06 2.06-.94-2.06-.94L8.5 2.5l-.94 2.06-2.06.94zm10 10l.94 2.06.94-2.06 2.06-.94-2.06-.94-.94-2.06-.94 2.06-2.06.94z\"/><path d=\"M17.41 7.96l-1.37-1.37c-.4-.4-.92-.59-1.43-.59-.52 0-1.04.2-1.43.59L10.3 9.45l-7.72 7.72c-.78.78-.78 2.05 0 2.83L4 21.41c.39.39.9.59 1.41.59.51 0 1.02-.2 1.41-.59l7.78-7.78 2.81-2.81c.8-.78.8-2.07 0-2.86zM5.41 20L4 18.59l7.72-7.72 1.47 1.35L5.41 20z\"/>\n",
              "  </svg>\n",
              "      </button>\n",
              "      \n",
              "  <style>\n",
              "    .colab-df-container {\n",
              "      display:flex;\n",
              "      flex-wrap:wrap;\n",
              "      gap: 12px;\n",
              "    }\n",
              "\n",
              "    .colab-df-convert {\n",
              "      background-color: #E8F0FE;\n",
              "      border: none;\n",
              "      border-radius: 50%;\n",
              "      cursor: pointer;\n",
              "      display: none;\n",
              "      fill: #1967D2;\n",
              "      height: 32px;\n",
              "      padding: 0 0 0 0;\n",
              "      width: 32px;\n",
              "    }\n",
              "\n",
              "    .colab-df-convert:hover {\n",
              "      background-color: #E2EBFA;\n",
              "      box-shadow: 0px 1px 2px rgba(60, 64, 67, 0.3), 0px 1px 3px 1px rgba(60, 64, 67, 0.15);\n",
              "      fill: #174EA6;\n",
              "    }\n",
              "\n",
              "    [theme=dark] .colab-df-convert {\n",
              "      background-color: #3B4455;\n",
              "      fill: #D2E3FC;\n",
              "    }\n",
              "\n",
              "    [theme=dark] .colab-df-convert:hover {\n",
              "      background-color: #434B5C;\n",
              "      box-shadow: 0px 1px 3px 1px rgba(0, 0, 0, 0.15);\n",
              "      filter: drop-shadow(0px 1px 2px rgba(0, 0, 0, 0.3));\n",
              "      fill: #FFFFFF;\n",
              "    }\n",
              "  </style>\n",
              "\n",
              "      <script>\n",
              "        const buttonEl =\n",
              "          document.querySelector('#df-a689cbdb-44f1-44aa-9a43-f85626507f8f button.colab-df-convert');\n",
              "        buttonEl.style.display =\n",
              "          google.colab.kernel.accessAllowed ? 'block' : 'none';\n",
              "\n",
              "        async function convertToInteractive(key) {\n",
              "          const element = document.querySelector('#df-a689cbdb-44f1-44aa-9a43-f85626507f8f');\n",
              "          const dataTable =\n",
              "            await google.colab.kernel.invokeFunction('convertToInteractive',\n",
              "                                                     [key], {});\n",
              "          if (!dataTable) return;\n",
              "\n",
              "          const docLinkHtml = 'Like what you see? Visit the ' +\n",
              "            '<a target=\"_blank\" href=https://colab.research.google.com/notebooks/data_table.ipynb>data table notebook</a>'\n",
              "            + ' to learn more about interactive tables.';\n",
              "          element.innerHTML = '';\n",
              "          dataTable['output_type'] = 'display_data';\n",
              "          await google.colab.output.renderOutput(dataTable, element);\n",
              "          const docLink = document.createElement('div');\n",
              "          docLink.innerHTML = docLinkHtml;\n",
              "          element.appendChild(docLink);\n",
              "        }\n",
              "      </script>\n",
              "    </div>\n",
              "  </div>\n",
              "  "
            ]
          },
          "metadata": {},
          "execution_count": 30
        }
      ],
      "source": [
        "# Create correlation matrix\n",
        "corr_matrix = mt_num_only.corr().abs()\n",
        "\n",
        "# Select upper triangle of correlation matrix\n",
        "upper = corr_matrix.where(np.triu(np.ones(corr_matrix.shape), k=1).astype(bool))\n",
        "\n",
        "# Find features with correlation greater than 0.9\n",
        "to_drop = [column for column in upper.columns if any(upper[column] > 0.9)]\n",
        "\n",
        "# Drop features\n",
        "mt_num_only.drop(to_drop, axis=1, inplace=True)\n",
        "mt_num_only\n",
        "\n",
        "# code from https://stackoverflow.com/a/52509954, with only necessary naming and value changes"
      ]
    },
    {
      "cell_type": "code",
      "execution_count": null,
      "metadata": {
        "colab": {
          "base_uri": "https://localhost:8080/",
          "height": 487
        },
        "id": "vf1j1kh6bQRq",
        "outputId": "d01ba126-131e-4afd-b534-f9645b979f3d"
      },
      "outputs": [
        {
          "output_type": "execute_result",
          "data": {
            "text/plain": [
              "     DYRK1A_N    BDNF_N     NR1_N    NR2A_N    pAKT_N   pBRAF_N  pCAMKII_N  \\\n",
              "0    0.503644  0.430175  2.816329  5.990152  0.218830  0.177565   2.373744   \n",
              "1    0.514617  0.411770  2.789514  5.685038  0.211636  0.172817   2.292150   \n",
              "2    0.509183  0.418309  2.687201  5.622059  0.209011  0.175722   2.283337   \n",
              "3    0.442107  0.358626  2.466947  4.979503  0.222886  0.176463   2.152301   \n",
              "4    0.434940  0.358802  2.365785  4.718679  0.213106  0.173627   2.134014   \n",
              "..        ...       ...       ...       ...       ...       ...        ...   \n",
              "757  0.394169  0.316564  2.104045  3.314706  0.234529  0.200657   3.208804   \n",
              "758  0.401739  0.321841  2.183930  3.411782  0.236546  0.190826   3.384350   \n",
              "759  0.382182  0.318545  2.072000  3.073636  0.259636  0.202727   3.006364   \n",
              "760  0.365622  0.297992  2.004931  2.783551  0.245333  0.190384   2.948221   \n",
              "761  0.365605  0.301539  2.062813  2.952577  0.248568  0.198819   3.069435   \n",
              "\n",
              "      pCREB_N    pELK_N    pJNK_N  ...   PSD95_N    SNCA_N  Ubiquitin_N  \\\n",
              "0    0.232224  1.750936  0.306382  ...  2.014875  0.108234     1.044979   \n",
              "1    0.226972  1.596377  0.299051  ...  2.004605  0.109749     1.009883   \n",
              "2    0.230247  1.561316  0.291276  ...  2.016831  0.108196     0.996848   \n",
              "3    0.207004  1.595086  0.296729  ...  1.957233  0.119883     0.990225   \n",
              "4    0.192158  1.504230  0.286961  ...  2.009109  0.119524     0.997775   \n",
              "..        ...       ...       ...  ...       ...       ...          ...   \n",
              "757  0.221809  1.218951  0.317851  ...  2.236925  0.149263     1.136276   \n",
              "758  0.231899  1.250487  0.329786  ...  2.274556  0.154894     1.154191   \n",
              "759  0.223455  1.248727  0.354545  ...  2.107139  0.153154     1.195479   \n",
              "760  0.217506  1.177527  0.325819  ...  2.212959  0.154868     1.213194   \n",
              "761  0.226736  1.220472  0.351288  ...  2.293512  0.155016     1.284654   \n",
              "\n",
              "     pGSK3B_Tyr216_N     SHH_N   pCFOS_N     SYP_N    CaNA_N  Genotype  \\\n",
              "0           0.831557  0.188852  0.108336  0.427099  1.675652   Control   \n",
              "1           0.849270  0.200404  0.104315  0.441581  1.743610   Control   \n",
              "2           0.846709  0.193685  0.106219  0.435777  1.926427   Control   \n",
              "3           0.833277  0.192112  0.111262  0.391691  1.700563   Control   \n",
              "4           0.878668  0.205604  0.110694  0.434154  1.839730   Control   \n",
              "..               ...       ...       ...       ...       ...       ...   \n",
              "757         1.001404  0.216128  0.115567  0.441207  1.474465    Ts65Dn   \n",
              "758         1.043402  0.209717  0.108944  0.444913  1.516605    Ts65Dn   \n",
              "759         0.948795  0.211279  0.114635  0.422789  1.433514    Ts65Dn   \n",
              "760         0.995884  0.197436  0.120649  0.459901  1.543274    Ts65Dn   \n",
              "761         1.031482  0.225640  0.110486  0.424228  1.520110    Ts65Dn   \n",
              "\n",
              "     Treatment_Behavior  \n",
              "0         Memantine_C/S  \n",
              "1         Memantine_C/S  \n",
              "2         Memantine_C/S  \n",
              "3         Memantine_C/S  \n",
              "4         Memantine_C/S  \n",
              "..                  ...  \n",
              "757          Saline_S/C  \n",
              "758          Saline_S/C  \n",
              "759          Saline_S/C  \n",
              "760          Saline_S/C  \n",
              "761          Saline_S/C  \n",
              "\n",
              "[762 rows x 62 columns]"
            ],
            "text/html": [
              "\n",
              "  <div id=\"df-d801b06c-c844-4d07-834d-76344d3f28b1\">\n",
              "    <div class=\"colab-df-container\">\n",
              "      <div>\n",
              "<style scoped>\n",
              "    .dataframe tbody tr th:only-of-type {\n",
              "        vertical-align: middle;\n",
              "    }\n",
              "\n",
              "    .dataframe tbody tr th {\n",
              "        vertical-align: top;\n",
              "    }\n",
              "\n",
              "    .dataframe thead th {\n",
              "        text-align: right;\n",
              "    }\n",
              "</style>\n",
              "<table border=\"1\" class=\"dataframe\">\n",
              "  <thead>\n",
              "    <tr style=\"text-align: right;\">\n",
              "      <th></th>\n",
              "      <th>DYRK1A_N</th>\n",
              "      <th>BDNF_N</th>\n",
              "      <th>NR1_N</th>\n",
              "      <th>NR2A_N</th>\n",
              "      <th>pAKT_N</th>\n",
              "      <th>pBRAF_N</th>\n",
              "      <th>pCAMKII_N</th>\n",
              "      <th>pCREB_N</th>\n",
              "      <th>pELK_N</th>\n",
              "      <th>pJNK_N</th>\n",
              "      <th>...</th>\n",
              "      <th>PSD95_N</th>\n",
              "      <th>SNCA_N</th>\n",
              "      <th>Ubiquitin_N</th>\n",
              "      <th>pGSK3B_Tyr216_N</th>\n",
              "      <th>SHH_N</th>\n",
              "      <th>pCFOS_N</th>\n",
              "      <th>SYP_N</th>\n",
              "      <th>CaNA_N</th>\n",
              "      <th>Genotype</th>\n",
              "      <th>Treatment_Behavior</th>\n",
              "    </tr>\n",
              "  </thead>\n",
              "  <tbody>\n",
              "    <tr>\n",
              "      <th>0</th>\n",
              "      <td>0.503644</td>\n",
              "      <td>0.430175</td>\n",
              "      <td>2.816329</td>\n",
              "      <td>5.990152</td>\n",
              "      <td>0.218830</td>\n",
              "      <td>0.177565</td>\n",
              "      <td>2.373744</td>\n",
              "      <td>0.232224</td>\n",
              "      <td>1.750936</td>\n",
              "      <td>0.306382</td>\n",
              "      <td>...</td>\n",
              "      <td>2.014875</td>\n",
              "      <td>0.108234</td>\n",
              "      <td>1.044979</td>\n",
              "      <td>0.831557</td>\n",
              "      <td>0.188852</td>\n",
              "      <td>0.108336</td>\n",
              "      <td>0.427099</td>\n",
              "      <td>1.675652</td>\n",
              "      <td>Control</td>\n",
              "      <td>Memantine_C/S</td>\n",
              "    </tr>\n",
              "    <tr>\n",
              "      <th>1</th>\n",
              "      <td>0.514617</td>\n",
              "      <td>0.411770</td>\n",
              "      <td>2.789514</td>\n",
              "      <td>5.685038</td>\n",
              "      <td>0.211636</td>\n",
              "      <td>0.172817</td>\n",
              "      <td>2.292150</td>\n",
              "      <td>0.226972</td>\n",
              "      <td>1.596377</td>\n",
              "      <td>0.299051</td>\n",
              "      <td>...</td>\n",
              "      <td>2.004605</td>\n",
              "      <td>0.109749</td>\n",
              "      <td>1.009883</td>\n",
              "      <td>0.849270</td>\n",
              "      <td>0.200404</td>\n",
              "      <td>0.104315</td>\n",
              "      <td>0.441581</td>\n",
              "      <td>1.743610</td>\n",
              "      <td>Control</td>\n",
              "      <td>Memantine_C/S</td>\n",
              "    </tr>\n",
              "    <tr>\n",
              "      <th>2</th>\n",
              "      <td>0.509183</td>\n",
              "      <td>0.418309</td>\n",
              "      <td>2.687201</td>\n",
              "      <td>5.622059</td>\n",
              "      <td>0.209011</td>\n",
              "      <td>0.175722</td>\n",
              "      <td>2.283337</td>\n",
              "      <td>0.230247</td>\n",
              "      <td>1.561316</td>\n",
              "      <td>0.291276</td>\n",
              "      <td>...</td>\n",
              "      <td>2.016831</td>\n",
              "      <td>0.108196</td>\n",
              "      <td>0.996848</td>\n",
              "      <td>0.846709</td>\n",
              "      <td>0.193685</td>\n",
              "      <td>0.106219</td>\n",
              "      <td>0.435777</td>\n",
              "      <td>1.926427</td>\n",
              "      <td>Control</td>\n",
              "      <td>Memantine_C/S</td>\n",
              "    </tr>\n",
              "    <tr>\n",
              "      <th>3</th>\n",
              "      <td>0.442107</td>\n",
              "      <td>0.358626</td>\n",
              "      <td>2.466947</td>\n",
              "      <td>4.979503</td>\n",
              "      <td>0.222886</td>\n",
              "      <td>0.176463</td>\n",
              "      <td>2.152301</td>\n",
              "      <td>0.207004</td>\n",
              "      <td>1.595086</td>\n",
              "      <td>0.296729</td>\n",
              "      <td>...</td>\n",
              "      <td>1.957233</td>\n",
              "      <td>0.119883</td>\n",
              "      <td>0.990225</td>\n",
              "      <td>0.833277</td>\n",
              "      <td>0.192112</td>\n",
              "      <td>0.111262</td>\n",
              "      <td>0.391691</td>\n",
              "      <td>1.700563</td>\n",
              "      <td>Control</td>\n",
              "      <td>Memantine_C/S</td>\n",
              "    </tr>\n",
              "    <tr>\n",
              "      <th>4</th>\n",
              "      <td>0.434940</td>\n",
              "      <td>0.358802</td>\n",
              "      <td>2.365785</td>\n",
              "      <td>4.718679</td>\n",
              "      <td>0.213106</td>\n",
              "      <td>0.173627</td>\n",
              "      <td>2.134014</td>\n",
              "      <td>0.192158</td>\n",
              "      <td>1.504230</td>\n",
              "      <td>0.286961</td>\n",
              "      <td>...</td>\n",
              "      <td>2.009109</td>\n",
              "      <td>0.119524</td>\n",
              "      <td>0.997775</td>\n",
              "      <td>0.878668</td>\n",
              "      <td>0.205604</td>\n",
              "      <td>0.110694</td>\n",
              "      <td>0.434154</td>\n",
              "      <td>1.839730</td>\n",
              "      <td>Control</td>\n",
              "      <td>Memantine_C/S</td>\n",
              "    </tr>\n",
              "    <tr>\n",
              "      <th>...</th>\n",
              "      <td>...</td>\n",
              "      <td>...</td>\n",
              "      <td>...</td>\n",
              "      <td>...</td>\n",
              "      <td>...</td>\n",
              "      <td>...</td>\n",
              "      <td>...</td>\n",
              "      <td>...</td>\n",
              "      <td>...</td>\n",
              "      <td>...</td>\n",
              "      <td>...</td>\n",
              "      <td>...</td>\n",
              "      <td>...</td>\n",
              "      <td>...</td>\n",
              "      <td>...</td>\n",
              "      <td>...</td>\n",
              "      <td>...</td>\n",
              "      <td>...</td>\n",
              "      <td>...</td>\n",
              "      <td>...</td>\n",
              "      <td>...</td>\n",
              "    </tr>\n",
              "    <tr>\n",
              "      <th>757</th>\n",
              "      <td>0.394169</td>\n",
              "      <td>0.316564</td>\n",
              "      <td>2.104045</td>\n",
              "      <td>3.314706</td>\n",
              "      <td>0.234529</td>\n",
              "      <td>0.200657</td>\n",
              "      <td>3.208804</td>\n",
              "      <td>0.221809</td>\n",
              "      <td>1.218951</td>\n",
              "      <td>0.317851</td>\n",
              "      <td>...</td>\n",
              "      <td>2.236925</td>\n",
              "      <td>0.149263</td>\n",
              "      <td>1.136276</td>\n",
              "      <td>1.001404</td>\n",
              "      <td>0.216128</td>\n",
              "      <td>0.115567</td>\n",
              "      <td>0.441207</td>\n",
              "      <td>1.474465</td>\n",
              "      <td>Ts65Dn</td>\n",
              "      <td>Saline_S/C</td>\n",
              "    </tr>\n",
              "    <tr>\n",
              "      <th>758</th>\n",
              "      <td>0.401739</td>\n",
              "      <td>0.321841</td>\n",
              "      <td>2.183930</td>\n",
              "      <td>3.411782</td>\n",
              "      <td>0.236546</td>\n",
              "      <td>0.190826</td>\n",
              "      <td>3.384350</td>\n",
              "      <td>0.231899</td>\n",
              "      <td>1.250487</td>\n",
              "      <td>0.329786</td>\n",
              "      <td>...</td>\n",
              "      <td>2.274556</td>\n",
              "      <td>0.154894</td>\n",
              "      <td>1.154191</td>\n",
              "      <td>1.043402</td>\n",
              "      <td>0.209717</td>\n",
              "      <td>0.108944</td>\n",
              "      <td>0.444913</td>\n",
              "      <td>1.516605</td>\n",
              "      <td>Ts65Dn</td>\n",
              "      <td>Saline_S/C</td>\n",
              "    </tr>\n",
              "    <tr>\n",
              "      <th>759</th>\n",
              "      <td>0.382182</td>\n",
              "      <td>0.318545</td>\n",
              "      <td>2.072000</td>\n",
              "      <td>3.073636</td>\n",
              "      <td>0.259636</td>\n",
              "      <td>0.202727</td>\n",
              "      <td>3.006364</td>\n",
              "      <td>0.223455</td>\n",
              "      <td>1.248727</td>\n",
              "      <td>0.354545</td>\n",
              "      <td>...</td>\n",
              "      <td>2.107139</td>\n",
              "      <td>0.153154</td>\n",
              "      <td>1.195479</td>\n",
              "      <td>0.948795</td>\n",
              "      <td>0.211279</td>\n",
              "      <td>0.114635</td>\n",
              "      <td>0.422789</td>\n",
              "      <td>1.433514</td>\n",
              "      <td>Ts65Dn</td>\n",
              "      <td>Saline_S/C</td>\n",
              "    </tr>\n",
              "    <tr>\n",
              "      <th>760</th>\n",
              "      <td>0.365622</td>\n",
              "      <td>0.297992</td>\n",
              "      <td>2.004931</td>\n",
              "      <td>2.783551</td>\n",
              "      <td>0.245333</td>\n",
              "      <td>0.190384</td>\n",
              "      <td>2.948221</td>\n",
              "      <td>0.217506</td>\n",
              "      <td>1.177527</td>\n",
              "      <td>0.325819</td>\n",
              "      <td>...</td>\n",
              "      <td>2.212959</td>\n",
              "      <td>0.154868</td>\n",
              "      <td>1.213194</td>\n",
              "      <td>0.995884</td>\n",
              "      <td>0.197436</td>\n",
              "      <td>0.120649</td>\n",
              "      <td>0.459901</td>\n",
              "      <td>1.543274</td>\n",
              "      <td>Ts65Dn</td>\n",
              "      <td>Saline_S/C</td>\n",
              "    </tr>\n",
              "    <tr>\n",
              "      <th>761</th>\n",
              "      <td>0.365605</td>\n",
              "      <td>0.301539</td>\n",
              "      <td>2.062813</td>\n",
              "      <td>2.952577</td>\n",
              "      <td>0.248568</td>\n",
              "      <td>0.198819</td>\n",
              "      <td>3.069435</td>\n",
              "      <td>0.226736</td>\n",
              "      <td>1.220472</td>\n",
              "      <td>0.351288</td>\n",
              "      <td>...</td>\n",
              "      <td>2.293512</td>\n",
              "      <td>0.155016</td>\n",
              "      <td>1.284654</td>\n",
              "      <td>1.031482</td>\n",
              "      <td>0.225640</td>\n",
              "      <td>0.110486</td>\n",
              "      <td>0.424228</td>\n",
              "      <td>1.520110</td>\n",
              "      <td>Ts65Dn</td>\n",
              "      <td>Saline_S/C</td>\n",
              "    </tr>\n",
              "  </tbody>\n",
              "</table>\n",
              "<p>762 rows × 62 columns</p>\n",
              "</div>\n",
              "      <button class=\"colab-df-convert\" onclick=\"convertToInteractive('df-d801b06c-c844-4d07-834d-76344d3f28b1')\"\n",
              "              title=\"Convert this dataframe to an interactive table.\"\n",
              "              style=\"display:none;\">\n",
              "        \n",
              "  <svg xmlns=\"http://www.w3.org/2000/svg\" height=\"24px\"viewBox=\"0 0 24 24\"\n",
              "       width=\"24px\">\n",
              "    <path d=\"M0 0h24v24H0V0z\" fill=\"none\"/>\n",
              "    <path d=\"M18.56 5.44l.94 2.06.94-2.06 2.06-.94-2.06-.94-.94-2.06-.94 2.06-2.06.94zm-11 1L8.5 8.5l.94-2.06 2.06-.94-2.06-.94L8.5 2.5l-.94 2.06-2.06.94zm10 10l.94 2.06.94-2.06 2.06-.94-2.06-.94-.94-2.06-.94 2.06-2.06.94z\"/><path d=\"M17.41 7.96l-1.37-1.37c-.4-.4-.92-.59-1.43-.59-.52 0-1.04.2-1.43.59L10.3 9.45l-7.72 7.72c-.78.78-.78 2.05 0 2.83L4 21.41c.39.39.9.59 1.41.59.51 0 1.02-.2 1.41-.59l7.78-7.78 2.81-2.81c.8-.78.8-2.07 0-2.86zM5.41 20L4 18.59l7.72-7.72 1.47 1.35L5.41 20z\"/>\n",
              "  </svg>\n",
              "      </button>\n",
              "      \n",
              "  <style>\n",
              "    .colab-df-container {\n",
              "      display:flex;\n",
              "      flex-wrap:wrap;\n",
              "      gap: 12px;\n",
              "    }\n",
              "\n",
              "    .colab-df-convert {\n",
              "      background-color: #E8F0FE;\n",
              "      border: none;\n",
              "      border-radius: 50%;\n",
              "      cursor: pointer;\n",
              "      display: none;\n",
              "      fill: #1967D2;\n",
              "      height: 32px;\n",
              "      padding: 0 0 0 0;\n",
              "      width: 32px;\n",
              "    }\n",
              "\n",
              "    .colab-df-convert:hover {\n",
              "      background-color: #E2EBFA;\n",
              "      box-shadow: 0px 1px 2px rgba(60, 64, 67, 0.3), 0px 1px 3px 1px rgba(60, 64, 67, 0.15);\n",
              "      fill: #174EA6;\n",
              "    }\n",
              "\n",
              "    [theme=dark] .colab-df-convert {\n",
              "      background-color: #3B4455;\n",
              "      fill: #D2E3FC;\n",
              "    }\n",
              "\n",
              "    [theme=dark] .colab-df-convert:hover {\n",
              "      background-color: #434B5C;\n",
              "      box-shadow: 0px 1px 3px 1px rgba(0, 0, 0, 0.15);\n",
              "      filter: drop-shadow(0px 1px 2px rgba(0, 0, 0, 0.3));\n",
              "      fill: #FFFFFF;\n",
              "    }\n",
              "  </style>\n",
              "\n",
              "      <script>\n",
              "        const buttonEl =\n",
              "          document.querySelector('#df-d801b06c-c844-4d07-834d-76344d3f28b1 button.colab-df-convert');\n",
              "        buttonEl.style.display =\n",
              "          google.colab.kernel.accessAllowed ? 'block' : 'none';\n",
              "\n",
              "        async function convertToInteractive(key) {\n",
              "          const element = document.querySelector('#df-d801b06c-c844-4d07-834d-76344d3f28b1');\n",
              "          const dataTable =\n",
              "            await google.colab.kernel.invokeFunction('convertToInteractive',\n",
              "                                                     [key], {});\n",
              "          if (!dataTable) return;\n",
              "\n",
              "          const docLinkHtml = 'Like what you see? Visit the ' +\n",
              "            '<a target=\"_blank\" href=https://colab.research.google.com/notebooks/data_table.ipynb>data table notebook</a>'\n",
              "            + ' to learn more about interactive tables.';\n",
              "          element.innerHTML = '';\n",
              "          dataTable['output_type'] = 'display_data';\n",
              "          await google.colab.output.renderOutput(dataTable, element);\n",
              "          const docLink = document.createElement('div');\n",
              "          docLink.innerHTML = docLinkHtml;\n",
              "          element.appendChild(docLink);\n",
              "        }\n",
              "      </script>\n",
              "    </div>\n",
              "  </div>\n",
              "  "
            ]
          },
          "metadata": {},
          "execution_count": 31
        }
      ],
      "source": [
        "# merge the numeric only columns with Genotype and Treatment Behavior columns\n",
        "mt_mod = pd.concat([mt_num_only, mouse_train[['Genotype', 'Treatment_Behavior']]], axis=1)\n",
        "mt_mod\n",
        "\n",
        "# inspiration from https://pandas.pydata.org/docs/user_guide/merging.html"
      ]
    },
    {
      "cell_type": "markdown",
      "metadata": {
        "id": "QjaV2WjqdgH1"
      },
      "source": [
        "##### (c)"
      ]
    },
    {
      "cell_type": "code",
      "execution_count": null,
      "metadata": {
        "colab": {
          "base_uri": "https://localhost:8080/"
        },
        "id": "3yw-cazOdiXS",
        "outputId": "a4582535-1a88-4131-dd7f-ab53b3a85aee"
      },
      "outputs": [
        {
          "output_type": "execute_result",
          "data": {
            "text/plain": [
              "Control    435\n",
              "Ts65Dn     327\n",
              "Name: Genotype, dtype: int64"
            ]
          },
          "metadata": {},
          "execution_count": 32
        }
      ],
      "source": [
        "mouse_train['Genotype'].value_counts()"
      ]
    },
    {
      "cell_type": "code",
      "execution_count": null,
      "metadata": {
        "colab": {
          "base_uri": "https://localhost:8080/"
        },
        "id": "Rk6Bo_gPfYjG",
        "outputId": "2e27319f-2bd1-4e8f-cedd-95e780381455"
      },
      "outputs": [
        {
          "output_type": "execute_result",
          "data": {
            "text/plain": [
              "Memantine_C/S    225\n",
              "Memantine_S/C    225\n",
              "Saline_C/S       180\n",
              "Saline_S/C       132\n",
              "Name: Treatment_Behavior, dtype: int64"
            ]
          },
          "metadata": {},
          "execution_count": 33
        }
      ],
      "source": [
        "mouse_train['Treatment_Behavior'].value_counts()"
      ]
    },
    {
      "cell_type": "markdown",
      "metadata": {
        "id": "hbazSHOSfeHl"
      },
      "source": [
        "As can be seen above, the number of entries for each of the classes in both Genotype and Treatment Behavior columns is balanced. Thus, the classes are balanced."
      ]
    },
    {
      "cell_type": "markdown",
      "metadata": {
        "id": "pisPRhQ9fvW1"
      },
      "source": [
        "#### Question 3."
      ]
    },
    {
      "cell_type": "code",
      "execution_count": null,
      "metadata": {
        "colab": {
          "base_uri": "https://localhost:8080/"
        },
        "id": "DVfWjXFRpnjN",
        "outputId": "894848e9-d4c3-4c9a-aa14-03da3b28909d"
      },
      "outputs": [
        {
          "output_type": "execute_result",
          "data": {
            "text/plain": [
              "DYRK1A_N            0\n",
              "BDNF_N              0\n",
              "NR1_N               0\n",
              "NR2A_N              0\n",
              "pAKT_N              0\n",
              "pBRAF_N             0\n",
              "pCAMKII_N           0\n",
              "pCREB_N             0\n",
              "pELK_N              0\n",
              "pJNK_N              0\n",
              "PKCA_N              0\n",
              "pMEK_N              0\n",
              "pNR2A_N             0\n",
              "pPKCAB_N            0\n",
              "pRSK_N              0\n",
              "AKT_N               0\n",
              "CAMKII_N            0\n",
              "CREB_N              0\n",
              "ELK_N              15\n",
              "ERK_N               0\n",
              "GSK3B_N             0\n",
              "JNK_N               0\n",
              "MEK_N               4\n",
              "TRKA_N              0\n",
              "RSK_N               0\n",
              "APP_N               0\n",
              "SOD1_N              0\n",
              "MTOR_N              0\n",
              "P38_N               0\n",
              "pMTOR_N             0\n",
              "DSCR1_N             0\n",
              "AMPKA_N             0\n",
              "NR2B_N              0\n",
              "pNUMB_N             0\n",
              "RAPTOR_N            0\n",
              "TIAM1_N             0\n",
              "pP70S6_N            0\n",
              "NUMB_N              0\n",
              "P70S6_N             0\n",
              "pPKCG_N             0\n",
              "CDK5_N              0\n",
              "S6_N                0\n",
              "ADARB1_N            0\n",
              "AcetylH3K9_N        0\n",
              "RRP1_N              0\n",
              "nNOS_N              0\n",
              "Tau_N               0\n",
              "GluR3_N             0\n",
              "GluR4_N             0\n",
              "IL1B_N              0\n",
              "P3525_N             0\n",
              "pCASP9_N            0\n",
              "PSD95_N             0\n",
              "SNCA_N              0\n",
              "Ubiquitin_N         0\n",
              "pGSK3B_Tyr216_N     0\n",
              "SHH_N               0\n",
              "pCFOS_N            60\n",
              "SYP_N               0\n",
              "CaNA_N              0\n",
              "dtype: int64"
            ]
          },
          "metadata": {},
          "execution_count": 35
        }
      ],
      "source": [
        "# display number of NaN values in each variable in mt_num_only\n",
        "mt_num_only.isna().sum()"
      ]
    },
    {
      "cell_type": "markdown",
      "metadata": {
        "id": "5ib3OYzwqfzx"
      },
      "source": [
        "We have a few variables with missing values. We can impute the missing values by using multivariate imputation from sklearn."
      ]
    },
    {
      "cell_type": "code",
      "execution_count": null,
      "metadata": {
        "id": "8cNJl3WhlzMP"
      },
      "outputs": [],
      "source": [
        "# Multivariate feature imputation from sklearn to impute missing data\n",
        "imp = IterativeImputer(max_iter=100, random_state=0)\n",
        "mt_num_imp = imp.fit_transform(mt_num_only)\n",
        "\n",
        "# convert the mt_num_imp array to Pandas DataFrame\n",
        "mt_num_imp = pd.DataFrame(mt_num_imp, columns = mt_num_only.columns.tolist())"
      ]
    },
    {
      "cell_type": "code",
      "execution_count": null,
      "metadata": {
        "colab": {
          "base_uri": "https://localhost:8080/"
        },
        "id": "KR-ABbJgp3Vb",
        "outputId": "a1d70cfe-6128-4bb1-d373-40ec9bd65a44"
      },
      "outputs": [
        {
          "output_type": "execute_result",
          "data": {
            "text/plain": [
              "DYRK1A_N           0\n",
              "BDNF_N             0\n",
              "NR1_N              0\n",
              "NR2A_N             0\n",
              "pAKT_N             0\n",
              "pBRAF_N            0\n",
              "pCAMKII_N          0\n",
              "pCREB_N            0\n",
              "pELK_N             0\n",
              "pJNK_N             0\n",
              "PKCA_N             0\n",
              "pMEK_N             0\n",
              "pNR2A_N            0\n",
              "pPKCAB_N           0\n",
              "pRSK_N             0\n",
              "AKT_N              0\n",
              "CAMKII_N           0\n",
              "CREB_N             0\n",
              "ELK_N              0\n",
              "ERK_N              0\n",
              "GSK3B_N            0\n",
              "JNK_N              0\n",
              "MEK_N              0\n",
              "TRKA_N             0\n",
              "RSK_N              0\n",
              "APP_N              0\n",
              "SOD1_N             0\n",
              "MTOR_N             0\n",
              "P38_N              0\n",
              "pMTOR_N            0\n",
              "DSCR1_N            0\n",
              "AMPKA_N            0\n",
              "NR2B_N             0\n",
              "pNUMB_N            0\n",
              "RAPTOR_N           0\n",
              "TIAM1_N            0\n",
              "pP70S6_N           0\n",
              "NUMB_N             0\n",
              "P70S6_N            0\n",
              "pPKCG_N            0\n",
              "CDK5_N             0\n",
              "S6_N               0\n",
              "ADARB1_N           0\n",
              "AcetylH3K9_N       0\n",
              "RRP1_N             0\n",
              "nNOS_N             0\n",
              "Tau_N              0\n",
              "GluR3_N            0\n",
              "GluR4_N            0\n",
              "IL1B_N             0\n",
              "P3525_N            0\n",
              "pCASP9_N           0\n",
              "PSD95_N            0\n",
              "SNCA_N             0\n",
              "Ubiquitin_N        0\n",
              "pGSK3B_Tyr216_N    0\n",
              "SHH_N              0\n",
              "pCFOS_N            0\n",
              "SYP_N              0\n",
              "CaNA_N             0\n",
              "dtype: int64"
            ]
          },
          "metadata": {},
          "execution_count": 37
        }
      ],
      "source": [
        "# display number of NaN values in each variable in mt_num_imp\n",
        "mt_num_imp.isna().sum()"
      ]
    },
    {
      "cell_type": "markdown",
      "metadata": {
        "id": "A2cZGWL6qAnx"
      },
      "source": [
        "Successfully imputed missing data. Now we need to normalize this data by using sklearn's StandardScaler."
      ]
    },
    {
      "cell_type": "code",
      "execution_count": null,
      "metadata": {
        "id": "vtJ02xRUuRtB"
      },
      "outputs": [],
      "source": [
        "# standard scaling of each feature of the data\n",
        "scaler = StandardScaler()\n",
        "mt_num_imp = pd.DataFrame(scaler.fit_transform(mt_num_imp), columns = mt_num_imp.columns.tolist())"
      ]
    },
    {
      "cell_type": "markdown",
      "metadata": {
        "id": "E7WdGxdTqtXW"
      },
      "source": [
        "#### Question 4."
      ]
    },
    {
      "cell_type": "markdown",
      "metadata": {
        "id": "HOjP51MRqwh2"
      },
      "source": [
        "The Treatment Behavior has 4 classes - Memantine Shock-Context, Memantine Context-Shock, Saline Shock-Context, Saline Context-Shock. The source paper (at least what I found to be the most relevant to the dataset provided) is https://journals.plos.org/plosone/article?id=10.1371/journal.pone.0119491.  \n",
        "It is a test of the behavior of mice after being treated with Memantine (the actual drug treatment), or with Saline (which acts as a Placebo). The purpose of the experiment was to test the efficacy of Memantine on the learning of environment by the mice, under the Context Fear Conditioning (CFC) protocol, i.e., context-shock or shock-context."
      ]
    },
    {
      "cell_type": "markdown",
      "metadata": {
        "id": "3pSA5FymhURh"
      },
      "source": [
        "For the purpose of the experiment, each class plays an equal role in determining the efficacy of the drug. We would want the model to make accurate predictions for each class.\n",
        "Thus, a good metric in this case would be Accuracy."
      ]
    },
    {
      "cell_type": "markdown",
      "metadata": {
        "id": "XtpRsXBZhW8F"
      },
      "source": [
        "As we want to primarily check the efficacy of the drug on diseased mice, it would be better to have as many correct classifications of 'Ts65Dn' as possible. If we say 'Ts65Dn' is positive, and 'Control' is negative, then we basically want to minimize both _false positives_ and _false negatives_. A metric that can balance both is the F1-Score."
      ]
    },
    {
      "cell_type": "markdown",
      "metadata": {
        "id": "ZkqZTPfRie4G"
      },
      "source": [
        "Source of inspiration and information on choosing a good metric for multivariate classification: https://towardsdatascience.com/comprehensive-guide-on-multiclass-classification-metrics-af94cfb83fbd"
      ]
    },
    {
      "cell_type": "markdown",
      "metadata": {
        "id": "cqiSVof9y7Yt"
      },
      "source": [
        "#### Question 5."
      ]
    },
    {
      "cell_type": "markdown",
      "metadata": {
        "id": "fHHurGPBzB2l"
      },
      "source": [
        "##### (a)"
      ]
    },
    {
      "cell_type": "code",
      "source": [
        "# define training datasets X, y, and z\n",
        "X = mt_num_imp\n",
        "\n",
        "# y is the desired output of binary classification\n",
        "y = mouse_train['Genotype']\n",
        "y = y.replace({\"Control\": 0, \"Ts65Dn\": 1})\n",
        "\n",
        "# z is the desired output of multi-class classification\n",
        "z = mouse_train['Treatment_Behavior']"
      ],
      "metadata": {
        "id": "VyKVFvZ0wHda"
      },
      "execution_count": null,
      "outputs": []
    },
    {
      "cell_type": "code",
      "execution_count": null,
      "metadata": {
        "colab": {
          "base_uri": "https://localhost:8080/",
          "height": 116
        },
        "id": "HErA_OEPzBYR",
        "outputId": "b5d005c7-f60e-48c6-a940-76e805e297d5"
      },
      "outputs": [
        {
          "output_type": "execute_result",
          "data": {
            "text/plain": [
              "GridSearchCV(estimator=SVC(kernel='linear', max_iter=100000000),\n",
              "             param_grid={'C': [0.0001, 0.001, 0.01, 0.1, 1, 10]}, scoring='f1')"
            ],
            "text/html": [
              "<style>#sk-container-id-19 {color: black;background-color: white;}#sk-container-id-19 pre{padding: 0;}#sk-container-id-19 div.sk-toggleable {background-color: white;}#sk-container-id-19 label.sk-toggleable__label {cursor: pointer;display: block;width: 100%;margin-bottom: 0;padding: 0.3em;box-sizing: border-box;text-align: center;}#sk-container-id-19 label.sk-toggleable__label-arrow:before {content: \"▸\";float: left;margin-right: 0.25em;color: #696969;}#sk-container-id-19 label.sk-toggleable__label-arrow:hover:before {color: black;}#sk-container-id-19 div.sk-estimator:hover label.sk-toggleable__label-arrow:before {color: black;}#sk-container-id-19 div.sk-toggleable__content {max-height: 0;max-width: 0;overflow: hidden;text-align: left;background-color: #f0f8ff;}#sk-container-id-19 div.sk-toggleable__content pre {margin: 0.2em;color: black;border-radius: 0.25em;background-color: #f0f8ff;}#sk-container-id-19 input.sk-toggleable__control:checked~div.sk-toggleable__content {max-height: 200px;max-width: 100%;overflow: auto;}#sk-container-id-19 input.sk-toggleable__control:checked~label.sk-toggleable__label-arrow:before {content: \"▾\";}#sk-container-id-19 div.sk-estimator input.sk-toggleable__control:checked~label.sk-toggleable__label {background-color: #d4ebff;}#sk-container-id-19 div.sk-label input.sk-toggleable__control:checked~label.sk-toggleable__label {background-color: #d4ebff;}#sk-container-id-19 input.sk-hidden--visually {border: 0;clip: rect(1px 1px 1px 1px);clip: rect(1px, 1px, 1px, 1px);height: 1px;margin: -1px;overflow: hidden;padding: 0;position: absolute;width: 1px;}#sk-container-id-19 div.sk-estimator {font-family: monospace;background-color: #f0f8ff;border: 1px dotted black;border-radius: 0.25em;box-sizing: border-box;margin-bottom: 0.5em;}#sk-container-id-19 div.sk-estimator:hover {background-color: #d4ebff;}#sk-container-id-19 div.sk-parallel-item::after {content: \"\";width: 100%;border-bottom: 1px solid gray;flex-grow: 1;}#sk-container-id-19 div.sk-label:hover label.sk-toggleable__label {background-color: #d4ebff;}#sk-container-id-19 div.sk-serial::before {content: \"\";position: absolute;border-left: 1px solid gray;box-sizing: border-box;top: 0;bottom: 0;left: 50%;z-index: 0;}#sk-container-id-19 div.sk-serial {display: flex;flex-direction: column;align-items: center;background-color: white;padding-right: 0.2em;padding-left: 0.2em;position: relative;}#sk-container-id-19 div.sk-item {position: relative;z-index: 1;}#sk-container-id-19 div.sk-parallel {display: flex;align-items: stretch;justify-content: center;background-color: white;position: relative;}#sk-container-id-19 div.sk-item::before, #sk-container-id-19 div.sk-parallel-item::before {content: \"\";position: absolute;border-left: 1px solid gray;box-sizing: border-box;top: 0;bottom: 0;left: 50%;z-index: -1;}#sk-container-id-19 div.sk-parallel-item {display: flex;flex-direction: column;z-index: 1;position: relative;background-color: white;}#sk-container-id-19 div.sk-parallel-item:first-child::after {align-self: flex-end;width: 50%;}#sk-container-id-19 div.sk-parallel-item:last-child::after {align-self: flex-start;width: 50%;}#sk-container-id-19 div.sk-parallel-item:only-child::after {width: 0;}#sk-container-id-19 div.sk-dashed-wrapped {border: 1px dashed gray;margin: 0 0.4em 0.5em 0.4em;box-sizing: border-box;padding-bottom: 0.4em;background-color: white;}#sk-container-id-19 div.sk-label label {font-family: monospace;font-weight: bold;display: inline-block;line-height: 1.2em;}#sk-container-id-19 div.sk-label-container {text-align: center;}#sk-container-id-19 div.sk-container {/* jupyter's `normalize.less` sets `[hidden] { display: none; }` but bootstrap.min.css set `[hidden] { display: none !important; }` so we also need the `!important` here to be able to override the default hidden behavior on the sphinx rendered scikit-learn.org. See: https://github.com/scikit-learn/scikit-learn/issues/21755 */display: inline-block !important;position: relative;}#sk-container-id-19 div.sk-text-repr-fallback {display: none;}</style><div id=\"sk-container-id-19\" class=\"sk-top-container\"><div class=\"sk-text-repr-fallback\"><pre>GridSearchCV(estimator=SVC(kernel=&#x27;linear&#x27;, max_iter=100000000),\n",
              "             param_grid={&#x27;C&#x27;: [0.0001, 0.001, 0.01, 0.1, 1, 10]}, scoring=&#x27;f1&#x27;)</pre><b>In a Jupyter environment, please rerun this cell to show the HTML representation or trust the notebook. <br />On GitHub, the HTML representation is unable to render, please try loading this page with nbviewer.org.</b></div><div class=\"sk-container\" hidden><div class=\"sk-item sk-dashed-wrapped\"><div class=\"sk-label-container\"><div class=\"sk-label sk-toggleable\"><input class=\"sk-toggleable__control sk-hidden--visually\" id=\"sk-estimator-id-55\" type=\"checkbox\" ><label for=\"sk-estimator-id-55\" class=\"sk-toggleable__label sk-toggleable__label-arrow\">GridSearchCV</label><div class=\"sk-toggleable__content\"><pre>GridSearchCV(estimator=SVC(kernel=&#x27;linear&#x27;, max_iter=100000000),\n",
              "             param_grid={&#x27;C&#x27;: [0.0001, 0.001, 0.01, 0.1, 1, 10]}, scoring=&#x27;f1&#x27;)</pre></div></div></div><div class=\"sk-parallel\"><div class=\"sk-parallel-item\"><div class=\"sk-item\"><div class=\"sk-label-container\"><div class=\"sk-label sk-toggleable\"><input class=\"sk-toggleable__control sk-hidden--visually\" id=\"sk-estimator-id-56\" type=\"checkbox\" ><label for=\"sk-estimator-id-56\" class=\"sk-toggleable__label sk-toggleable__label-arrow\">estimator: SVC</label><div class=\"sk-toggleable__content\"><pre>SVC(kernel=&#x27;linear&#x27;, max_iter=100000000)</pre></div></div></div><div class=\"sk-serial\"><div class=\"sk-item\"><div class=\"sk-estimator sk-toggleable\"><input class=\"sk-toggleable__control sk-hidden--visually\" id=\"sk-estimator-id-57\" type=\"checkbox\" ><label for=\"sk-estimator-id-57\" class=\"sk-toggleable__label sk-toggleable__label-arrow\">SVC</label><div class=\"sk-toggleable__content\"><pre>SVC(kernel=&#x27;linear&#x27;, max_iter=100000000)</pre></div></div></div></div></div></div></div></div></div></div>"
            ]
          },
          "metadata": {},
          "execution_count": 118
        }
      ],
      "source": [
        "# define param_grid to do exhaustive search over\n",
        "y_params = {\"C\": [0.0001, 0.001, 0.01, 0.1, 1, 10]}\n",
        "\n",
        "# define the Linear SVM Classifiers (binary and multi-class)\n",
        "svc = SVC(kernel = 'linear', max_iter = 10**8)\n",
        "\n",
        "# multi-class classification decision function based on one vs. one classification\n",
        "svc_m = SVC(kernel = 'linear', max_iter = 10**8, decision_function_shape = 'ovo')\n",
        "\n",
        "# perform grid search cv over binary Linear SVM Classification\n",
        "clf_1_binary = GridSearchCV(svc, param_grid=y_params, scoring='f1')\n",
        "clf_1_binary.fit(X, y)"
      ]
    },
    {
      "cell_type": "code",
      "execution_count": null,
      "metadata": {
        "colab": {
          "base_uri": "https://localhost:8080/"
        },
        "id": "r-HY9cNnvg1m",
        "outputId": "6fd03e53-c760-4e45-ddc9-991b1a68f5ab"
      },
      "outputs": [
        {
          "output_type": "execute_result",
          "data": {
            "text/plain": [
              "{'mean_fit_time': array([0.01758113, 0.00977607, 0.01458578, 0.08076539, 0.59942689]),\n",
              " 'std_fit_time': array([0.01172832, 0.00046024, 0.00374791, 0.02929613, 0.24136629]),\n",
              " 'mean_score_time': array([0.00481086, 0.00388913, 0.003789  , 0.00393734, 0.00395746]),\n",
              " 'std_score_time': array([2.23023493e-04, 9.96772622e-05, 2.37445629e-04, 2.22784250e-04,\n",
              "        1.56793701e-04]),\n",
              " 'param_C': masked_array(data=[0.01, 0.1, 1, 10, 100],\n",
              "              mask=[False, False, False, False, False],\n",
              "        fill_value='?',\n",
              "             dtype=object),\n",
              " 'params': [{'C': 0.01}, {'C': 0.1}, {'C': 1}, {'C': 10}, {'C': 100}],\n",
              " 'split0_test_score': array([0.85714286, 0.85245902, 0.84552846, 0.84126984, 0.848     ]),\n",
              " 'split1_test_score': array([0.796875  , 0.77941176, 0.77464789, 0.77142857, 0.77464789]),\n",
              " 'split2_test_score': array([0.81355932, 0.81666667, 0.74603175, 0.76190476, 0.768     ]),\n",
              " 'split3_test_score': array([0.7518797 , 0.74074074, 0.64661654, 0.61764706, 0.56296296]),\n",
              " 'split4_test_score': array([0.89256198, 0.93548387, 0.89256198, 0.8852459 , 0.896     ]),\n",
              " 'mean_test_score': array([0.82240377, 0.82495241, 0.78107732, 0.77549923, 0.76992217]),\n",
              " 'std_test_score': array([0.04864682, 0.06664537, 0.08477265, 0.09109203, 0.11388583]),\n",
              " 'rank_test_score': array([2, 1, 3, 4, 5], dtype=int32)}"
            ]
          },
          "metadata": {},
          "execution_count": 22
        }
      ],
      "source": [
        "# display the cv_results_ dictionary for the classification\n",
        "clf_1_binary.cv_results_"
      ]
    },
    {
      "cell_type": "code",
      "source": [
        "clf_1_binary_results = clf_1_binary.cv_results_\n",
        "\n",
        "# maximum value of mean f1-score among the scores obtained\n",
        "max_f1 = max(clf_1_binary_results['mean_test_score'])\n",
        "\n",
        "print(max_f1)"
      ],
      "metadata": {
        "colab": {
          "base_uri": "https://localhost:8080/"
        },
        "id": "KKjnw6xbPvVw",
        "outputId": "89812afb-bc02-4ff3-ebd7-bf2f35f42746"
      },
      "execution_count": null,
      "outputs": [
        {
          "output_type": "stream",
          "name": "stdout",
          "text": [
            "0.7808341475875198\n"
          ]
        }
      ]
    },
    {
      "cell_type": "code",
      "source": [
        "# indices with the max value of f1-score\n",
        "max_f1_index = [i for i in range(len(clf_1_binary_results['mean_test_score'])) if clf_1_binary_results['mean_test_score'][i] == max_f1]\n",
        "print(max_f1_index)"
      ],
      "metadata": {
        "colab": {
          "base_uri": "https://localhost:8080/"
        },
        "id": "DHSTzLpzP3Aw",
        "outputId": "b37fb1f6-cdfd-4108-a2a3-a1f7eb06958f"
      },
      "execution_count": null,
      "outputs": [
        {
          "output_type": "stream",
          "name": "stdout",
          "text": [
            "[2]\n"
          ]
        }
      ]
    },
    {
      "cell_type": "code",
      "source": [
        "# prints the hyperparameter values for which we obtained highest f1-score\n",
        "for i in max_f1_index:\n",
        "  print(clf_1_binary_results['params'][i])"
      ],
      "metadata": {
        "colab": {
          "base_uri": "https://localhost:8080/"
        },
        "id": "EYojOWfHP_Gg",
        "outputId": "1d3bba40-2fd5-4fee-ae34-fb67052630f3"
      },
      "execution_count": null,
      "outputs": [
        {
          "output_type": "stream",
          "name": "stdout",
          "text": [
            "{'C': 0.01}\n"
          ]
        }
      ]
    },
    {
      "cell_type": "code",
      "source": [
        "# define param_grid to do exhaustive search over\n",
        "z_params = {\"C\": [0.01, 0.1, 1, 10, 100]}\n",
        "\n",
        "# perform grid search cv over multi-class Linear SVM Classification\n",
        "clf_1_mc = GridSearchCV(svc_m, param_grid=z_params, scoring='accuracy')\n",
        "clf_1_mc.fit(X, z)"
      ],
      "metadata": {
        "colab": {
          "base_uri": "https://localhost:8080/",
          "height": 116
        },
        "id": "jEJsOsndHw8p",
        "outputId": "9d5f3ac9-51b4-4c4d-ff14-3ed9890e9e0b"
      },
      "execution_count": null,
      "outputs": [
        {
          "output_type": "execute_result",
          "data": {
            "text/plain": [
              "GridSearchCV(estimator=SVC(decision_function_shape='ovo', kernel='linear',\n",
              "                           max_iter=100000000),\n",
              "             param_grid={'C': [0.01, 0.1, 1, 10, 100]}, scoring='accuracy')"
            ],
            "text/html": [
              "<style>#sk-container-id-21 {color: black;background-color: white;}#sk-container-id-21 pre{padding: 0;}#sk-container-id-21 div.sk-toggleable {background-color: white;}#sk-container-id-21 label.sk-toggleable__label {cursor: pointer;display: block;width: 100%;margin-bottom: 0;padding: 0.3em;box-sizing: border-box;text-align: center;}#sk-container-id-21 label.sk-toggleable__label-arrow:before {content: \"▸\";float: left;margin-right: 0.25em;color: #696969;}#sk-container-id-21 label.sk-toggleable__label-arrow:hover:before {color: black;}#sk-container-id-21 div.sk-estimator:hover label.sk-toggleable__label-arrow:before {color: black;}#sk-container-id-21 div.sk-toggleable__content {max-height: 0;max-width: 0;overflow: hidden;text-align: left;background-color: #f0f8ff;}#sk-container-id-21 div.sk-toggleable__content pre {margin: 0.2em;color: black;border-radius: 0.25em;background-color: #f0f8ff;}#sk-container-id-21 input.sk-toggleable__control:checked~div.sk-toggleable__content {max-height: 200px;max-width: 100%;overflow: auto;}#sk-container-id-21 input.sk-toggleable__control:checked~label.sk-toggleable__label-arrow:before {content: \"▾\";}#sk-container-id-21 div.sk-estimator input.sk-toggleable__control:checked~label.sk-toggleable__label {background-color: #d4ebff;}#sk-container-id-21 div.sk-label input.sk-toggleable__control:checked~label.sk-toggleable__label {background-color: #d4ebff;}#sk-container-id-21 input.sk-hidden--visually {border: 0;clip: rect(1px 1px 1px 1px);clip: rect(1px, 1px, 1px, 1px);height: 1px;margin: -1px;overflow: hidden;padding: 0;position: absolute;width: 1px;}#sk-container-id-21 div.sk-estimator {font-family: monospace;background-color: #f0f8ff;border: 1px dotted black;border-radius: 0.25em;box-sizing: border-box;margin-bottom: 0.5em;}#sk-container-id-21 div.sk-estimator:hover {background-color: #d4ebff;}#sk-container-id-21 div.sk-parallel-item::after {content: \"\";width: 100%;border-bottom: 1px solid gray;flex-grow: 1;}#sk-container-id-21 div.sk-label:hover label.sk-toggleable__label {background-color: #d4ebff;}#sk-container-id-21 div.sk-serial::before {content: \"\";position: absolute;border-left: 1px solid gray;box-sizing: border-box;top: 0;bottom: 0;left: 50%;z-index: 0;}#sk-container-id-21 div.sk-serial {display: flex;flex-direction: column;align-items: center;background-color: white;padding-right: 0.2em;padding-left: 0.2em;position: relative;}#sk-container-id-21 div.sk-item {position: relative;z-index: 1;}#sk-container-id-21 div.sk-parallel {display: flex;align-items: stretch;justify-content: center;background-color: white;position: relative;}#sk-container-id-21 div.sk-item::before, #sk-container-id-21 div.sk-parallel-item::before {content: \"\";position: absolute;border-left: 1px solid gray;box-sizing: border-box;top: 0;bottom: 0;left: 50%;z-index: -1;}#sk-container-id-21 div.sk-parallel-item {display: flex;flex-direction: column;z-index: 1;position: relative;background-color: white;}#sk-container-id-21 div.sk-parallel-item:first-child::after {align-self: flex-end;width: 50%;}#sk-container-id-21 div.sk-parallel-item:last-child::after {align-self: flex-start;width: 50%;}#sk-container-id-21 div.sk-parallel-item:only-child::after {width: 0;}#sk-container-id-21 div.sk-dashed-wrapped {border: 1px dashed gray;margin: 0 0.4em 0.5em 0.4em;box-sizing: border-box;padding-bottom: 0.4em;background-color: white;}#sk-container-id-21 div.sk-label label {font-family: monospace;font-weight: bold;display: inline-block;line-height: 1.2em;}#sk-container-id-21 div.sk-label-container {text-align: center;}#sk-container-id-21 div.sk-container {/* jupyter's `normalize.less` sets `[hidden] { display: none; }` but bootstrap.min.css set `[hidden] { display: none !important; }` so we also need the `!important` here to be able to override the default hidden behavior on the sphinx rendered scikit-learn.org. See: https://github.com/scikit-learn/scikit-learn/issues/21755 */display: inline-block !important;position: relative;}#sk-container-id-21 div.sk-text-repr-fallback {display: none;}</style><div id=\"sk-container-id-21\" class=\"sk-top-container\"><div class=\"sk-text-repr-fallback\"><pre>GridSearchCV(estimator=SVC(decision_function_shape=&#x27;ovo&#x27;, kernel=&#x27;linear&#x27;,\n",
              "                           max_iter=100000000),\n",
              "             param_grid={&#x27;C&#x27;: [0.01, 0.1, 1, 10, 100]}, scoring=&#x27;accuracy&#x27;)</pre><b>In a Jupyter environment, please rerun this cell to show the HTML representation or trust the notebook. <br />On GitHub, the HTML representation is unable to render, please try loading this page with nbviewer.org.</b></div><div class=\"sk-container\" hidden><div class=\"sk-item sk-dashed-wrapped\"><div class=\"sk-label-container\"><div class=\"sk-label sk-toggleable\"><input class=\"sk-toggleable__control sk-hidden--visually\" id=\"sk-estimator-id-61\" type=\"checkbox\" ><label for=\"sk-estimator-id-61\" class=\"sk-toggleable__label sk-toggleable__label-arrow\">GridSearchCV</label><div class=\"sk-toggleable__content\"><pre>GridSearchCV(estimator=SVC(decision_function_shape=&#x27;ovo&#x27;, kernel=&#x27;linear&#x27;,\n",
              "                           max_iter=100000000),\n",
              "             param_grid={&#x27;C&#x27;: [0.01, 0.1, 1, 10, 100]}, scoring=&#x27;accuracy&#x27;)</pre></div></div></div><div class=\"sk-parallel\"><div class=\"sk-parallel-item\"><div class=\"sk-item\"><div class=\"sk-label-container\"><div class=\"sk-label sk-toggleable\"><input class=\"sk-toggleable__control sk-hidden--visually\" id=\"sk-estimator-id-62\" type=\"checkbox\" ><label for=\"sk-estimator-id-62\" class=\"sk-toggleable__label sk-toggleable__label-arrow\">estimator: SVC</label><div class=\"sk-toggleable__content\"><pre>SVC(decision_function_shape=&#x27;ovo&#x27;, kernel=&#x27;linear&#x27;, max_iter=100000000)</pre></div></div></div><div class=\"sk-serial\"><div class=\"sk-item\"><div class=\"sk-estimator sk-toggleable\"><input class=\"sk-toggleable__control sk-hidden--visually\" id=\"sk-estimator-id-63\" type=\"checkbox\" ><label for=\"sk-estimator-id-63\" class=\"sk-toggleable__label sk-toggleable__label-arrow\">SVC</label><div class=\"sk-toggleable__content\"><pre>SVC(decision_function_shape=&#x27;ovo&#x27;, kernel=&#x27;linear&#x27;, max_iter=100000000)</pre></div></div></div></div></div></div></div></div></div></div>"
            ]
          },
          "metadata": {},
          "execution_count": 120
        }
      ]
    },
    {
      "cell_type": "code",
      "source": [
        "clf_1_mc_results = clf_1_mc.cv_results_\n",
        "\n",
        "# maximum value of mean accuracy among the scores obtained\n",
        "max_accuracy = max(clf_1_mc_results['mean_test_score'])\n",
        "print(max_accuracy)"
      ],
      "metadata": {
        "colab": {
          "base_uri": "https://localhost:8080/"
        },
        "id": "L1IB3rhFQCo9",
        "outputId": "ffd495ad-74d8-488d-f388-dcaeb93df70a"
      },
      "execution_count": null,
      "outputs": [
        {
          "output_type": "stream",
          "name": "stdout",
          "text": [
            "0.7559769521843824\n"
          ]
        }
      ]
    },
    {
      "cell_type": "code",
      "source": [
        "# indices with the max value of accuracy\n",
        "max_acc_index = [i for i in range(len(clf_1_mc_results['mean_test_score'])) if clf_1_mc_results['mean_test_score'][i] == max_accuracy]\n",
        "\n",
        "# prints the hyperparameter values for which we obtained highest accuracy\n",
        "for i in max_acc_index:\n",
        "  print(clf_1_mc_results['params'][i])"
      ],
      "metadata": {
        "colab": {
          "base_uri": "https://localhost:8080/"
        },
        "id": "rah9yrG-QLl2",
        "outputId": "f995c252-0fbd-4bdd-a673-ec43928b6488"
      },
      "execution_count": null,
      "outputs": [
        {
          "output_type": "stream",
          "name": "stdout",
          "text": [
            "{'C': 0.1}\n"
          ]
        }
      ]
    },
    {
      "cell_type": "markdown",
      "source": [
        "##### (b)"
      ],
      "metadata": {
        "id": "DHloUVzOO4cF"
      }
    },
    {
      "cell_type": "code",
      "source": [
        "# define RBF SVM Classifier\n",
        "rbf = SVC(kernel = 'rbf', max_iter = 10**8)\n",
        "\n",
        "# get RBF SVM Classifier params\n",
        "rbf.get_params()"
      ],
      "metadata": {
        "colab": {
          "base_uri": "https://localhost:8080/"
        },
        "id": "57D1r7axO6OA",
        "outputId": "74c4cd75-e3cc-4475-a274-790c2e96c9c0"
      },
      "execution_count": null,
      "outputs": [
        {
          "output_type": "execute_result",
          "data": {
            "text/plain": [
              "{'C': 1.0,\n",
              " 'break_ties': False,\n",
              " 'cache_size': 200,\n",
              " 'class_weight': None,\n",
              " 'coef0': 0.0,\n",
              " 'decision_function_shape': 'ovr',\n",
              " 'degree': 3,\n",
              " 'gamma': 'scale',\n",
              " 'kernel': 'rbf',\n",
              " 'max_iter': 100000000,\n",
              " 'probability': False,\n",
              " 'random_state': None,\n",
              " 'shrinking': True,\n",
              " 'tol': 0.001,\n",
              " 'verbose': False}"
            ]
          },
          "metadata": {},
          "execution_count": 125
        }
      ]
    },
    {
      "cell_type": "markdown",
      "source": [
        "The parameter \"gamma\" above is equal to $1/2σ^2$, where $\\sigma$ is the standard deviation of the gaussian curve formed by the RBF Kernel. $\\sigma$ is a measure of the kernel width. Thus, we'll use \"gamma\" as our hyperparameter in place of kernel width mentioned in the question."
      ],
      "metadata": {
        "id": "OB-OoyH_TA2f"
      }
    },
    {
      "cell_type": "code",
      "source": [
        "# define params to do exhaustive search over\n",
        "y_params = {\"C\": [1, 10, 100, 1000, 10000, 100000], \"gamma\": [0.000001, 0.00001, 0.0001, 0.001, 0.01]}\n",
        "\n",
        "# perform grid search cv over binary RBF SVM Classification\n",
        "clf_2_binary = GridSearchCV(rbf, param_grid=y_params, scoring='f1')\n",
        "clf_2_binary.fit(X, y)"
      ],
      "metadata": {
        "colab": {
          "base_uri": "https://localhost:8080/",
          "height": 116
        },
        "id": "UXiq58kwTAif",
        "outputId": "b8f38515-4d5c-4764-d767-ed9c34f8fd05"
      },
      "execution_count": null,
      "outputs": [
        {
          "output_type": "execute_result",
          "data": {
            "text/plain": [
              "GridSearchCV(estimator=SVC(max_iter=100000000),\n",
              "             param_grid={'C': [1, 10, 100, 1000, 10000, 100000],\n",
              "                         'gamma': [1e-06, 1e-05, 0.0001, 0.001, 0.01]},\n",
              "             scoring='f1')"
            ],
            "text/html": [
              "<style>#sk-container-id-23 {color: black;background-color: white;}#sk-container-id-23 pre{padding: 0;}#sk-container-id-23 div.sk-toggleable {background-color: white;}#sk-container-id-23 label.sk-toggleable__label {cursor: pointer;display: block;width: 100%;margin-bottom: 0;padding: 0.3em;box-sizing: border-box;text-align: center;}#sk-container-id-23 label.sk-toggleable__label-arrow:before {content: \"▸\";float: left;margin-right: 0.25em;color: #696969;}#sk-container-id-23 label.sk-toggleable__label-arrow:hover:before {color: black;}#sk-container-id-23 div.sk-estimator:hover label.sk-toggleable__label-arrow:before {color: black;}#sk-container-id-23 div.sk-toggleable__content {max-height: 0;max-width: 0;overflow: hidden;text-align: left;background-color: #f0f8ff;}#sk-container-id-23 div.sk-toggleable__content pre {margin: 0.2em;color: black;border-radius: 0.25em;background-color: #f0f8ff;}#sk-container-id-23 input.sk-toggleable__control:checked~div.sk-toggleable__content {max-height: 200px;max-width: 100%;overflow: auto;}#sk-container-id-23 input.sk-toggleable__control:checked~label.sk-toggleable__label-arrow:before {content: \"▾\";}#sk-container-id-23 div.sk-estimator input.sk-toggleable__control:checked~label.sk-toggleable__label {background-color: #d4ebff;}#sk-container-id-23 div.sk-label input.sk-toggleable__control:checked~label.sk-toggleable__label {background-color: #d4ebff;}#sk-container-id-23 input.sk-hidden--visually {border: 0;clip: rect(1px 1px 1px 1px);clip: rect(1px, 1px, 1px, 1px);height: 1px;margin: -1px;overflow: hidden;padding: 0;position: absolute;width: 1px;}#sk-container-id-23 div.sk-estimator {font-family: monospace;background-color: #f0f8ff;border: 1px dotted black;border-radius: 0.25em;box-sizing: border-box;margin-bottom: 0.5em;}#sk-container-id-23 div.sk-estimator:hover {background-color: #d4ebff;}#sk-container-id-23 div.sk-parallel-item::after {content: \"\";width: 100%;border-bottom: 1px solid gray;flex-grow: 1;}#sk-container-id-23 div.sk-label:hover label.sk-toggleable__label {background-color: #d4ebff;}#sk-container-id-23 div.sk-serial::before {content: \"\";position: absolute;border-left: 1px solid gray;box-sizing: border-box;top: 0;bottom: 0;left: 50%;z-index: 0;}#sk-container-id-23 div.sk-serial {display: flex;flex-direction: column;align-items: center;background-color: white;padding-right: 0.2em;padding-left: 0.2em;position: relative;}#sk-container-id-23 div.sk-item {position: relative;z-index: 1;}#sk-container-id-23 div.sk-parallel {display: flex;align-items: stretch;justify-content: center;background-color: white;position: relative;}#sk-container-id-23 div.sk-item::before, #sk-container-id-23 div.sk-parallel-item::before {content: \"\";position: absolute;border-left: 1px solid gray;box-sizing: border-box;top: 0;bottom: 0;left: 50%;z-index: -1;}#sk-container-id-23 div.sk-parallel-item {display: flex;flex-direction: column;z-index: 1;position: relative;background-color: white;}#sk-container-id-23 div.sk-parallel-item:first-child::after {align-self: flex-end;width: 50%;}#sk-container-id-23 div.sk-parallel-item:last-child::after {align-self: flex-start;width: 50%;}#sk-container-id-23 div.sk-parallel-item:only-child::after {width: 0;}#sk-container-id-23 div.sk-dashed-wrapped {border: 1px dashed gray;margin: 0 0.4em 0.5em 0.4em;box-sizing: border-box;padding-bottom: 0.4em;background-color: white;}#sk-container-id-23 div.sk-label label {font-family: monospace;font-weight: bold;display: inline-block;line-height: 1.2em;}#sk-container-id-23 div.sk-label-container {text-align: center;}#sk-container-id-23 div.sk-container {/* jupyter's `normalize.less` sets `[hidden] { display: none; }` but bootstrap.min.css set `[hidden] { display: none !important; }` so we also need the `!important` here to be able to override the default hidden behavior on the sphinx rendered scikit-learn.org. See: https://github.com/scikit-learn/scikit-learn/issues/21755 */display: inline-block !important;position: relative;}#sk-container-id-23 div.sk-text-repr-fallback {display: none;}</style><div id=\"sk-container-id-23\" class=\"sk-top-container\"><div class=\"sk-text-repr-fallback\"><pre>GridSearchCV(estimator=SVC(max_iter=100000000),\n",
              "             param_grid={&#x27;C&#x27;: [1, 10, 100, 1000, 10000, 100000],\n",
              "                         &#x27;gamma&#x27;: [1e-06, 1e-05, 0.0001, 0.001, 0.01]},\n",
              "             scoring=&#x27;f1&#x27;)</pre><b>In a Jupyter environment, please rerun this cell to show the HTML representation or trust the notebook. <br />On GitHub, the HTML representation is unable to render, please try loading this page with nbviewer.org.</b></div><div class=\"sk-container\" hidden><div class=\"sk-item sk-dashed-wrapped\"><div class=\"sk-label-container\"><div class=\"sk-label sk-toggleable\"><input class=\"sk-toggleable__control sk-hidden--visually\" id=\"sk-estimator-id-67\" type=\"checkbox\" ><label for=\"sk-estimator-id-67\" class=\"sk-toggleable__label sk-toggleable__label-arrow\">GridSearchCV</label><div class=\"sk-toggleable__content\"><pre>GridSearchCV(estimator=SVC(max_iter=100000000),\n",
              "             param_grid={&#x27;C&#x27;: [1, 10, 100, 1000, 10000, 100000],\n",
              "                         &#x27;gamma&#x27;: [1e-06, 1e-05, 0.0001, 0.001, 0.01]},\n",
              "             scoring=&#x27;f1&#x27;)</pre></div></div></div><div class=\"sk-parallel\"><div class=\"sk-parallel-item\"><div class=\"sk-item\"><div class=\"sk-label-container\"><div class=\"sk-label sk-toggleable\"><input class=\"sk-toggleable__control sk-hidden--visually\" id=\"sk-estimator-id-68\" type=\"checkbox\" ><label for=\"sk-estimator-id-68\" class=\"sk-toggleable__label sk-toggleable__label-arrow\">estimator: SVC</label><div class=\"sk-toggleable__content\"><pre>SVC(max_iter=100000000)</pre></div></div></div><div class=\"sk-serial\"><div class=\"sk-item\"><div class=\"sk-estimator sk-toggleable\"><input class=\"sk-toggleable__control sk-hidden--visually\" id=\"sk-estimator-id-69\" type=\"checkbox\" ><label for=\"sk-estimator-id-69\" class=\"sk-toggleable__label sk-toggleable__label-arrow\">SVC</label><div class=\"sk-toggleable__content\"><pre>SVC(max_iter=100000000)</pre></div></div></div></div></div></div></div></div></div></div>"
            ]
          },
          "metadata": {},
          "execution_count": 134
        }
      ]
    },
    {
      "cell_type": "code",
      "source": [
        "clf_2_binary_results = clf_2_binary.cv_results_\n",
        "\n",
        "# maximum value of mean f1-score among the scores obtained\n",
        "max_f1 = max(clf_2_binary_results['mean_test_score'])\n",
        "print(max_f1)"
      ],
      "metadata": {
        "colab": {
          "base_uri": "https://localhost:8080/"
        },
        "id": "Ss2YYZz3GgcH",
        "outputId": "68e3a6b8-b8c7-4661-eeb8-ef96badb4fb9"
      },
      "execution_count": null,
      "outputs": [
        {
          "output_type": "stream",
          "name": "stdout",
          "text": [
            "0.8074564690418496\n"
          ]
        }
      ]
    },
    {
      "cell_type": "code",
      "source": [
        "# indices with the max value of f1-score\n",
        "max_f1_index = [i for i in range(len(clf_2_binary_results['mean_test_score'])) if clf_2_binary_results['mean_test_score'][i] == max_f1]\n",
        "\n",
        "# prints the hyperparameter values for which we obtained highest f1-score\n",
        "for i in max_f1_index:\n",
        "  print(clf_2_binary_results['params'][i])"
      ],
      "metadata": {
        "colab": {
          "base_uri": "https://localhost:8080/"
        },
        "id": "2QaeKQGJGr2W",
        "outputId": "38f3e445-b906-4a5e-a920-5bf480a246db"
      },
      "execution_count": null,
      "outputs": [
        {
          "output_type": "stream",
          "name": "stdout",
          "text": [
            "{'C': 10, 'gamma': 0.001}\n"
          ]
        }
      ]
    },
    {
      "cell_type": "code",
      "source": [
        "# define params to do exhaustive search over\n",
        "z_params = {\"C\": [1, 10, 100, 1000, 10000, 100000], \"gamma\": [0.00001, 0.0001, 0.001, 0.01, 0.1, 1]}\n",
        "\n",
        "# perform grid search cv over multi-class RBF SVM Classification\n",
        "clf_2_mc = GridSearchCV(rbf, param_grid=z_params, scoring='accuracy')\n",
        "clf_2_mc.fit(X, z)"
      ],
      "metadata": {
        "colab": {
          "base_uri": "https://localhost:8080/",
          "height": 116
        },
        "id": "b-otQG_o9fUx",
        "outputId": "46b3a783-b221-408a-fd5a-0a1f33bef797"
      },
      "execution_count": null,
      "outputs": [
        {
          "output_type": "execute_result",
          "data": {
            "text/plain": [
              "GridSearchCV(estimator=SVC(max_iter=100000000),\n",
              "             param_grid={'C': [1, 10, 100, 1000, 10000, 100000],\n",
              "                         'gamma': [1e-05, 0.0001, 0.001, 0.01, 0.1, 1]},\n",
              "             scoring='accuracy')"
            ],
            "text/html": [
              "<style>#sk-container-id-22 {color: black;background-color: white;}#sk-container-id-22 pre{padding: 0;}#sk-container-id-22 div.sk-toggleable {background-color: white;}#sk-container-id-22 label.sk-toggleable__label {cursor: pointer;display: block;width: 100%;margin-bottom: 0;padding: 0.3em;box-sizing: border-box;text-align: center;}#sk-container-id-22 label.sk-toggleable__label-arrow:before {content: \"▸\";float: left;margin-right: 0.25em;color: #696969;}#sk-container-id-22 label.sk-toggleable__label-arrow:hover:before {color: black;}#sk-container-id-22 div.sk-estimator:hover label.sk-toggleable__label-arrow:before {color: black;}#sk-container-id-22 div.sk-toggleable__content {max-height: 0;max-width: 0;overflow: hidden;text-align: left;background-color: #f0f8ff;}#sk-container-id-22 div.sk-toggleable__content pre {margin: 0.2em;color: black;border-radius: 0.25em;background-color: #f0f8ff;}#sk-container-id-22 input.sk-toggleable__control:checked~div.sk-toggleable__content {max-height: 200px;max-width: 100%;overflow: auto;}#sk-container-id-22 input.sk-toggleable__control:checked~label.sk-toggleable__label-arrow:before {content: \"▾\";}#sk-container-id-22 div.sk-estimator input.sk-toggleable__control:checked~label.sk-toggleable__label {background-color: #d4ebff;}#sk-container-id-22 div.sk-label input.sk-toggleable__control:checked~label.sk-toggleable__label {background-color: #d4ebff;}#sk-container-id-22 input.sk-hidden--visually {border: 0;clip: rect(1px 1px 1px 1px);clip: rect(1px, 1px, 1px, 1px);height: 1px;margin: -1px;overflow: hidden;padding: 0;position: absolute;width: 1px;}#sk-container-id-22 div.sk-estimator {font-family: monospace;background-color: #f0f8ff;border: 1px dotted black;border-radius: 0.25em;box-sizing: border-box;margin-bottom: 0.5em;}#sk-container-id-22 div.sk-estimator:hover {background-color: #d4ebff;}#sk-container-id-22 div.sk-parallel-item::after {content: \"\";width: 100%;border-bottom: 1px solid gray;flex-grow: 1;}#sk-container-id-22 div.sk-label:hover label.sk-toggleable__label {background-color: #d4ebff;}#sk-container-id-22 div.sk-serial::before {content: \"\";position: absolute;border-left: 1px solid gray;box-sizing: border-box;top: 0;bottom: 0;left: 50%;z-index: 0;}#sk-container-id-22 div.sk-serial {display: flex;flex-direction: column;align-items: center;background-color: white;padding-right: 0.2em;padding-left: 0.2em;position: relative;}#sk-container-id-22 div.sk-item {position: relative;z-index: 1;}#sk-container-id-22 div.sk-parallel {display: flex;align-items: stretch;justify-content: center;background-color: white;position: relative;}#sk-container-id-22 div.sk-item::before, #sk-container-id-22 div.sk-parallel-item::before {content: \"\";position: absolute;border-left: 1px solid gray;box-sizing: border-box;top: 0;bottom: 0;left: 50%;z-index: -1;}#sk-container-id-22 div.sk-parallel-item {display: flex;flex-direction: column;z-index: 1;position: relative;background-color: white;}#sk-container-id-22 div.sk-parallel-item:first-child::after {align-self: flex-end;width: 50%;}#sk-container-id-22 div.sk-parallel-item:last-child::after {align-self: flex-start;width: 50%;}#sk-container-id-22 div.sk-parallel-item:only-child::after {width: 0;}#sk-container-id-22 div.sk-dashed-wrapped {border: 1px dashed gray;margin: 0 0.4em 0.5em 0.4em;box-sizing: border-box;padding-bottom: 0.4em;background-color: white;}#sk-container-id-22 div.sk-label label {font-family: monospace;font-weight: bold;display: inline-block;line-height: 1.2em;}#sk-container-id-22 div.sk-label-container {text-align: center;}#sk-container-id-22 div.sk-container {/* jupyter's `normalize.less` sets `[hidden] { display: none; }` but bootstrap.min.css set `[hidden] { display: none !important; }` so we also need the `!important` here to be able to override the default hidden behavior on the sphinx rendered scikit-learn.org. See: https://github.com/scikit-learn/scikit-learn/issues/21755 */display: inline-block !important;position: relative;}#sk-container-id-22 div.sk-text-repr-fallback {display: none;}</style><div id=\"sk-container-id-22\" class=\"sk-top-container\"><div class=\"sk-text-repr-fallback\"><pre>GridSearchCV(estimator=SVC(max_iter=100000000),\n",
              "             param_grid={&#x27;C&#x27;: [1, 10, 100, 1000, 10000, 100000],\n",
              "                         &#x27;gamma&#x27;: [1e-05, 0.0001, 0.001, 0.01, 0.1, 1]},\n",
              "             scoring=&#x27;accuracy&#x27;)</pre><b>In a Jupyter environment, please rerun this cell to show the HTML representation or trust the notebook. <br />On GitHub, the HTML representation is unable to render, please try loading this page with nbviewer.org.</b></div><div class=\"sk-container\" hidden><div class=\"sk-item sk-dashed-wrapped\"><div class=\"sk-label-container\"><div class=\"sk-label sk-toggleable\"><input class=\"sk-toggleable__control sk-hidden--visually\" id=\"sk-estimator-id-64\" type=\"checkbox\" ><label for=\"sk-estimator-id-64\" class=\"sk-toggleable__label sk-toggleable__label-arrow\">GridSearchCV</label><div class=\"sk-toggleable__content\"><pre>GridSearchCV(estimator=SVC(max_iter=100000000),\n",
              "             param_grid={&#x27;C&#x27;: [1, 10, 100, 1000, 10000, 100000],\n",
              "                         &#x27;gamma&#x27;: [1e-05, 0.0001, 0.001, 0.01, 0.1, 1]},\n",
              "             scoring=&#x27;accuracy&#x27;)</pre></div></div></div><div class=\"sk-parallel\"><div class=\"sk-parallel-item\"><div class=\"sk-item\"><div class=\"sk-label-container\"><div class=\"sk-label sk-toggleable\"><input class=\"sk-toggleable__control sk-hidden--visually\" id=\"sk-estimator-id-65\" type=\"checkbox\" ><label for=\"sk-estimator-id-65\" class=\"sk-toggleable__label sk-toggleable__label-arrow\">estimator: SVC</label><div class=\"sk-toggleable__content\"><pre>SVC(max_iter=100000000)</pre></div></div></div><div class=\"sk-serial\"><div class=\"sk-item\"><div class=\"sk-estimator sk-toggleable\"><input class=\"sk-toggleable__control sk-hidden--visually\" id=\"sk-estimator-id-66\" type=\"checkbox\" ><label for=\"sk-estimator-id-66\" class=\"sk-toggleable__label sk-toggleable__label-arrow\">SVC</label><div class=\"sk-toggleable__content\"><pre>SVC(max_iter=100000000)</pre></div></div></div></div></div></div></div></div></div></div>"
            ]
          },
          "metadata": {},
          "execution_count": 126
        }
      ]
    },
    {
      "cell_type": "code",
      "source": [
        "clf_2_mc_results = clf_2_mc.cv_results_\n",
        "\n",
        "# maximum value of mean accuracy among the scores obtained\n",
        "max_accuracy = max(clf_2_mc_results['mean_test_score'])\n",
        "print(max_accuracy)"
      ],
      "metadata": {
        "colab": {
          "base_uri": "https://localhost:8080/"
        },
        "id": "iaZOc5EnDkvh",
        "outputId": "058e7e77-ebd8-4d16-adfb-f5ff059cfc0f"
      },
      "execution_count": null,
      "outputs": [
        {
          "output_type": "stream",
          "name": "stdout",
          "text": [
            "0.7638114895080839\n"
          ]
        }
      ]
    },
    {
      "cell_type": "code",
      "source": [
        "# indices with the max value of accuracy\n",
        "max_acc_index = [i for i in range(len(clf_2_mc_results['mean_test_score'])) if clf_2_mc_results['mean_test_score'][i] == max_accuracy]\n",
        "\n",
        "# prints the hyperparameter values for which we obtained highest accuracy\n",
        "for i in max_acc_index:\n",
        "  print(clf_2_mc_results['params'][i])"
      ],
      "metadata": {
        "colab": {
          "base_uri": "https://localhost:8080/"
        },
        "id": "FdjjmgWlEMY-",
        "outputId": "7f419d1e-34e0-4af2-8e74-783c6bc649bc"
      },
      "execution_count": null,
      "outputs": [
        {
          "output_type": "stream",
          "name": "stdout",
          "text": [
            "{'C': 1000, 'gamma': 0.0001}\n"
          ]
        }
      ]
    },
    {
      "cell_type": "markdown",
      "source": [
        "##### (c)"
      ],
      "metadata": {
        "id": "E6JKEd40JBRH"
      }
    },
    {
      "cell_type": "code",
      "source": [
        "# define Neural Network classifer with SGD solver and ReLU activation function\n",
        "nnet = MLPClassifier(solver='sgd', activation = 'relu', learning_rate='constant', max_iter = 10000)\n",
        "\n",
        "# define params to do exhaustive search over\n",
        "y_params = {\"hidden_layer_sizes\": [(5,), (10,), (20,), (35,), (50,), (75,), (100,), (150,), (200,), (250,)],\n",
        "            \"learning_rate_init\": [0.00001, 0.0001, 0.001, 0.01, 0.1, 1, 10]}\n",
        "\n",
        "# perform grid search cv over binary Neural Network Classification\n",
        "clf_3_binary = GridSearchCV(nnet, param_grid=y_params, scoring='f1')\n",
        "clf_3_binary.fit(X, y)"
      ],
      "metadata": {
        "colab": {
          "base_uri": "https://localhost:8080/",
          "height": 116
        },
        "id": "aHq6wsW9C6lh",
        "outputId": "dbf6a0aa-a949-4d58-ba0b-8be5bb8df5f7"
      },
      "execution_count": null,
      "outputs": [
        {
          "output_type": "execute_result",
          "data": {
            "text/plain": [
              "GridSearchCV(estimator=MLPClassifier(max_iter=10000, solver='sgd'),\n",
              "             param_grid={'hidden_layer_sizes': [(5,), (10,), (20,), (35,),\n",
              "                                                (50,), (75,), (100,), (150,),\n",
              "                                                (200,), (250,)],\n",
              "                         'learning_rate_init': [1e-05, 0.0001, 0.001, 0.01, 0.1,\n",
              "                                                1, 10]},\n",
              "             scoring='f1')"
            ],
            "text/html": [
              "<style>#sk-container-id-24 {color: black;background-color: white;}#sk-container-id-24 pre{padding: 0;}#sk-container-id-24 div.sk-toggleable {background-color: white;}#sk-container-id-24 label.sk-toggleable__label {cursor: pointer;display: block;width: 100%;margin-bottom: 0;padding: 0.3em;box-sizing: border-box;text-align: center;}#sk-container-id-24 label.sk-toggleable__label-arrow:before {content: \"▸\";float: left;margin-right: 0.25em;color: #696969;}#sk-container-id-24 label.sk-toggleable__label-arrow:hover:before {color: black;}#sk-container-id-24 div.sk-estimator:hover label.sk-toggleable__label-arrow:before {color: black;}#sk-container-id-24 div.sk-toggleable__content {max-height: 0;max-width: 0;overflow: hidden;text-align: left;background-color: #f0f8ff;}#sk-container-id-24 div.sk-toggleable__content pre {margin: 0.2em;color: black;border-radius: 0.25em;background-color: #f0f8ff;}#sk-container-id-24 input.sk-toggleable__control:checked~div.sk-toggleable__content {max-height: 200px;max-width: 100%;overflow: auto;}#sk-container-id-24 input.sk-toggleable__control:checked~label.sk-toggleable__label-arrow:before {content: \"▾\";}#sk-container-id-24 div.sk-estimator input.sk-toggleable__control:checked~label.sk-toggleable__label {background-color: #d4ebff;}#sk-container-id-24 div.sk-label input.sk-toggleable__control:checked~label.sk-toggleable__label {background-color: #d4ebff;}#sk-container-id-24 input.sk-hidden--visually {border: 0;clip: rect(1px 1px 1px 1px);clip: rect(1px, 1px, 1px, 1px);height: 1px;margin: -1px;overflow: hidden;padding: 0;position: absolute;width: 1px;}#sk-container-id-24 div.sk-estimator {font-family: monospace;background-color: #f0f8ff;border: 1px dotted black;border-radius: 0.25em;box-sizing: border-box;margin-bottom: 0.5em;}#sk-container-id-24 div.sk-estimator:hover {background-color: #d4ebff;}#sk-container-id-24 div.sk-parallel-item::after {content: \"\";width: 100%;border-bottom: 1px solid gray;flex-grow: 1;}#sk-container-id-24 div.sk-label:hover label.sk-toggleable__label {background-color: #d4ebff;}#sk-container-id-24 div.sk-serial::before {content: \"\";position: absolute;border-left: 1px solid gray;box-sizing: border-box;top: 0;bottom: 0;left: 50%;z-index: 0;}#sk-container-id-24 div.sk-serial {display: flex;flex-direction: column;align-items: center;background-color: white;padding-right: 0.2em;padding-left: 0.2em;position: relative;}#sk-container-id-24 div.sk-item {position: relative;z-index: 1;}#sk-container-id-24 div.sk-parallel {display: flex;align-items: stretch;justify-content: center;background-color: white;position: relative;}#sk-container-id-24 div.sk-item::before, #sk-container-id-24 div.sk-parallel-item::before {content: \"\";position: absolute;border-left: 1px solid gray;box-sizing: border-box;top: 0;bottom: 0;left: 50%;z-index: -1;}#sk-container-id-24 div.sk-parallel-item {display: flex;flex-direction: column;z-index: 1;position: relative;background-color: white;}#sk-container-id-24 div.sk-parallel-item:first-child::after {align-self: flex-end;width: 50%;}#sk-container-id-24 div.sk-parallel-item:last-child::after {align-self: flex-start;width: 50%;}#sk-container-id-24 div.sk-parallel-item:only-child::after {width: 0;}#sk-container-id-24 div.sk-dashed-wrapped {border: 1px dashed gray;margin: 0 0.4em 0.5em 0.4em;box-sizing: border-box;padding-bottom: 0.4em;background-color: white;}#sk-container-id-24 div.sk-label label {font-family: monospace;font-weight: bold;display: inline-block;line-height: 1.2em;}#sk-container-id-24 div.sk-label-container {text-align: center;}#sk-container-id-24 div.sk-container {/* jupyter's `normalize.less` sets `[hidden] { display: none; }` but bootstrap.min.css set `[hidden] { display: none !important; }` so we also need the `!important` here to be able to override the default hidden behavior on the sphinx rendered scikit-learn.org. See: https://github.com/scikit-learn/scikit-learn/issues/21755 */display: inline-block !important;position: relative;}#sk-container-id-24 div.sk-text-repr-fallback {display: none;}</style><div id=\"sk-container-id-24\" class=\"sk-top-container\"><div class=\"sk-text-repr-fallback\"><pre>GridSearchCV(estimator=MLPClassifier(max_iter=10000, solver=&#x27;sgd&#x27;),\n",
              "             param_grid={&#x27;hidden_layer_sizes&#x27;: [(5,), (10,), (20,), (35,),\n",
              "                                                (50,), (75,), (100,), (150,),\n",
              "                                                (200,), (250,)],\n",
              "                         &#x27;learning_rate_init&#x27;: [1e-05, 0.0001, 0.001, 0.01, 0.1,\n",
              "                                                1, 10]},\n",
              "             scoring=&#x27;f1&#x27;)</pre><b>In a Jupyter environment, please rerun this cell to show the HTML representation or trust the notebook. <br />On GitHub, the HTML representation is unable to render, please try loading this page with nbviewer.org.</b></div><div class=\"sk-container\" hidden><div class=\"sk-item sk-dashed-wrapped\"><div class=\"sk-label-container\"><div class=\"sk-label sk-toggleable\"><input class=\"sk-toggleable__control sk-hidden--visually\" id=\"sk-estimator-id-70\" type=\"checkbox\" ><label for=\"sk-estimator-id-70\" class=\"sk-toggleable__label sk-toggleable__label-arrow\">GridSearchCV</label><div class=\"sk-toggleable__content\"><pre>GridSearchCV(estimator=MLPClassifier(max_iter=10000, solver=&#x27;sgd&#x27;),\n",
              "             param_grid={&#x27;hidden_layer_sizes&#x27;: [(5,), (10,), (20,), (35,),\n",
              "                                                (50,), (75,), (100,), (150,),\n",
              "                                                (200,), (250,)],\n",
              "                         &#x27;learning_rate_init&#x27;: [1e-05, 0.0001, 0.001, 0.01, 0.1,\n",
              "                                                1, 10]},\n",
              "             scoring=&#x27;f1&#x27;)</pre></div></div></div><div class=\"sk-parallel\"><div class=\"sk-parallel-item\"><div class=\"sk-item\"><div class=\"sk-label-container\"><div class=\"sk-label sk-toggleable\"><input class=\"sk-toggleable__control sk-hidden--visually\" id=\"sk-estimator-id-71\" type=\"checkbox\" ><label for=\"sk-estimator-id-71\" class=\"sk-toggleable__label sk-toggleable__label-arrow\">estimator: MLPClassifier</label><div class=\"sk-toggleable__content\"><pre>MLPClassifier(max_iter=10000, solver=&#x27;sgd&#x27;)</pre></div></div></div><div class=\"sk-serial\"><div class=\"sk-item\"><div class=\"sk-estimator sk-toggleable\"><input class=\"sk-toggleable__control sk-hidden--visually\" id=\"sk-estimator-id-72\" type=\"checkbox\" ><label for=\"sk-estimator-id-72\" class=\"sk-toggleable__label sk-toggleable__label-arrow\">MLPClassifier</label><div class=\"sk-toggleable__content\"><pre>MLPClassifier(max_iter=10000, solver=&#x27;sgd&#x27;)</pre></div></div></div></div></div></div></div></div></div></div>"
            ]
          },
          "metadata": {},
          "execution_count": 141
        }
      ]
    },
    {
      "cell_type": "code",
      "source": [
        "clf_3_binary_results = clf_3_binary.cv_results_\n",
        "\n",
        "# maximum value of mean f1-score among the scores obtained\n",
        "max_f1 = max(clf_3_binary_results['mean_test_score'])\n",
        "\n",
        "print(max_f1)"
      ],
      "metadata": {
        "colab": {
          "base_uri": "https://localhost:8080/"
        },
        "id": "tAu1GvdGPBHN",
        "outputId": "1355b41c-c5fe-46eb-f02a-e9e3d0353e61"
      },
      "execution_count": null,
      "outputs": [
        {
          "output_type": "stream",
          "name": "stdout",
          "text": [
            "0.7505813880435596\n"
          ]
        }
      ]
    },
    {
      "cell_type": "code",
      "source": [
        "# indices with the max value of f1-score\n",
        "max_f1_index = [i for i in range(len(clf_3_binary_results['mean_test_score'])) if clf_3_binary_results['mean_test_score'][i] == max_f1]\n",
        "\n",
        "# prints the hyperparameter values for which we obtained highest f1-score\n",
        "\n",
        "for i in max_f1_index:\n",
        "  print(clf_3_binary_results['params'][i])"
      ],
      "metadata": {
        "colab": {
          "base_uri": "https://localhost:8080/"
        },
        "id": "hPPAuB4EPJFQ",
        "outputId": "2a3b0eaf-c931-4dc3-f4bd-a028efd562fd"
      },
      "execution_count": null,
      "outputs": [
        {
          "output_type": "stream",
          "name": "stdout",
          "text": [
            "{'hidden_layer_sizes': (35,), 'learning_rate_init': 0.1}\n"
          ]
        }
      ]
    },
    {
      "cell_type": "code",
      "source": [
        "# define params to do exhaustive search over\n",
        "z_params = {\"hidden_layer_sizes\": [(5,), (10,), (20,), (35,), (50,), (75,), (100,), (150,), (200,), (250,)],\n",
        "            \"learning_rate_init\": [0.00001, 0.0001, 0.001, 0.01, 0.1, 1, 10]}\n",
        "\n",
        "# perform grid search cv over multi-class Neural Network Classification\n",
        "clf_3_mc = GridSearchCV(nnet, param_grid=z_params, scoring='accuracy')\n",
        "clf_3_mc.fit(X, z)"
      ],
      "metadata": {
        "colab": {
          "base_uri": "https://localhost:8080/",
          "height": 116
        },
        "id": "Lby2Il-nS1bp",
        "outputId": "589b12f0-f4b5-4efd-ec32-0a7fb88a1194"
      },
      "execution_count": null,
      "outputs": [
        {
          "output_type": "execute_result",
          "data": {
            "text/plain": [
              "GridSearchCV(estimator=MLPClassifier(max_iter=10000, solver='sgd'),\n",
              "             param_grid={'hidden_layer_sizes': [(5,), (10,), (20,), (35,),\n",
              "                                                (50,), (75,), (100,), (150,),\n",
              "                                                (200,), (250,)],\n",
              "                         'learning_rate_init': [1e-05, 0.0001, 0.001, 0.01, 0.1,\n",
              "                                                1, 10]},\n",
              "             scoring='accuracy')"
            ],
            "text/html": [
              "<style>#sk-container-id-25 {color: black;background-color: white;}#sk-container-id-25 pre{padding: 0;}#sk-container-id-25 div.sk-toggleable {background-color: white;}#sk-container-id-25 label.sk-toggleable__label {cursor: pointer;display: block;width: 100%;margin-bottom: 0;padding: 0.3em;box-sizing: border-box;text-align: center;}#sk-container-id-25 label.sk-toggleable__label-arrow:before {content: \"▸\";float: left;margin-right: 0.25em;color: #696969;}#sk-container-id-25 label.sk-toggleable__label-arrow:hover:before {color: black;}#sk-container-id-25 div.sk-estimator:hover label.sk-toggleable__label-arrow:before {color: black;}#sk-container-id-25 div.sk-toggleable__content {max-height: 0;max-width: 0;overflow: hidden;text-align: left;background-color: #f0f8ff;}#sk-container-id-25 div.sk-toggleable__content pre {margin: 0.2em;color: black;border-radius: 0.25em;background-color: #f0f8ff;}#sk-container-id-25 input.sk-toggleable__control:checked~div.sk-toggleable__content {max-height: 200px;max-width: 100%;overflow: auto;}#sk-container-id-25 input.sk-toggleable__control:checked~label.sk-toggleable__label-arrow:before {content: \"▾\";}#sk-container-id-25 div.sk-estimator input.sk-toggleable__control:checked~label.sk-toggleable__label {background-color: #d4ebff;}#sk-container-id-25 div.sk-label input.sk-toggleable__control:checked~label.sk-toggleable__label {background-color: #d4ebff;}#sk-container-id-25 input.sk-hidden--visually {border: 0;clip: rect(1px 1px 1px 1px);clip: rect(1px, 1px, 1px, 1px);height: 1px;margin: -1px;overflow: hidden;padding: 0;position: absolute;width: 1px;}#sk-container-id-25 div.sk-estimator {font-family: monospace;background-color: #f0f8ff;border: 1px dotted black;border-radius: 0.25em;box-sizing: border-box;margin-bottom: 0.5em;}#sk-container-id-25 div.sk-estimator:hover {background-color: #d4ebff;}#sk-container-id-25 div.sk-parallel-item::after {content: \"\";width: 100%;border-bottom: 1px solid gray;flex-grow: 1;}#sk-container-id-25 div.sk-label:hover label.sk-toggleable__label {background-color: #d4ebff;}#sk-container-id-25 div.sk-serial::before {content: \"\";position: absolute;border-left: 1px solid gray;box-sizing: border-box;top: 0;bottom: 0;left: 50%;z-index: 0;}#sk-container-id-25 div.sk-serial {display: flex;flex-direction: column;align-items: center;background-color: white;padding-right: 0.2em;padding-left: 0.2em;position: relative;}#sk-container-id-25 div.sk-item {position: relative;z-index: 1;}#sk-container-id-25 div.sk-parallel {display: flex;align-items: stretch;justify-content: center;background-color: white;position: relative;}#sk-container-id-25 div.sk-item::before, #sk-container-id-25 div.sk-parallel-item::before {content: \"\";position: absolute;border-left: 1px solid gray;box-sizing: border-box;top: 0;bottom: 0;left: 50%;z-index: -1;}#sk-container-id-25 div.sk-parallel-item {display: flex;flex-direction: column;z-index: 1;position: relative;background-color: white;}#sk-container-id-25 div.sk-parallel-item:first-child::after {align-self: flex-end;width: 50%;}#sk-container-id-25 div.sk-parallel-item:last-child::after {align-self: flex-start;width: 50%;}#sk-container-id-25 div.sk-parallel-item:only-child::after {width: 0;}#sk-container-id-25 div.sk-dashed-wrapped {border: 1px dashed gray;margin: 0 0.4em 0.5em 0.4em;box-sizing: border-box;padding-bottom: 0.4em;background-color: white;}#sk-container-id-25 div.sk-label label {font-family: monospace;font-weight: bold;display: inline-block;line-height: 1.2em;}#sk-container-id-25 div.sk-label-container {text-align: center;}#sk-container-id-25 div.sk-container {/* jupyter's `normalize.less` sets `[hidden] { display: none; }` but bootstrap.min.css set `[hidden] { display: none !important; }` so we also need the `!important` here to be able to override the default hidden behavior on the sphinx rendered scikit-learn.org. See: https://github.com/scikit-learn/scikit-learn/issues/21755 */display: inline-block !important;position: relative;}#sk-container-id-25 div.sk-text-repr-fallback {display: none;}</style><div id=\"sk-container-id-25\" class=\"sk-top-container\"><div class=\"sk-text-repr-fallback\"><pre>GridSearchCV(estimator=MLPClassifier(max_iter=10000, solver=&#x27;sgd&#x27;),\n",
              "             param_grid={&#x27;hidden_layer_sizes&#x27;: [(5,), (10,), (20,), (35,),\n",
              "                                                (50,), (75,), (100,), (150,),\n",
              "                                                (200,), (250,)],\n",
              "                         &#x27;learning_rate_init&#x27;: [1e-05, 0.0001, 0.001, 0.01, 0.1,\n",
              "                                                1, 10]},\n",
              "             scoring=&#x27;accuracy&#x27;)</pre><b>In a Jupyter environment, please rerun this cell to show the HTML representation or trust the notebook. <br />On GitHub, the HTML representation is unable to render, please try loading this page with nbviewer.org.</b></div><div class=\"sk-container\" hidden><div class=\"sk-item sk-dashed-wrapped\"><div class=\"sk-label-container\"><div class=\"sk-label sk-toggleable\"><input class=\"sk-toggleable__control sk-hidden--visually\" id=\"sk-estimator-id-73\" type=\"checkbox\" ><label for=\"sk-estimator-id-73\" class=\"sk-toggleable__label sk-toggleable__label-arrow\">GridSearchCV</label><div class=\"sk-toggleable__content\"><pre>GridSearchCV(estimator=MLPClassifier(max_iter=10000, solver=&#x27;sgd&#x27;),\n",
              "             param_grid={&#x27;hidden_layer_sizes&#x27;: [(5,), (10,), (20,), (35,),\n",
              "                                                (50,), (75,), (100,), (150,),\n",
              "                                                (200,), (250,)],\n",
              "                         &#x27;learning_rate_init&#x27;: [1e-05, 0.0001, 0.001, 0.01, 0.1,\n",
              "                                                1, 10]},\n",
              "             scoring=&#x27;accuracy&#x27;)</pre></div></div></div><div class=\"sk-parallel\"><div class=\"sk-parallel-item\"><div class=\"sk-item\"><div class=\"sk-label-container\"><div class=\"sk-label sk-toggleable\"><input class=\"sk-toggleable__control sk-hidden--visually\" id=\"sk-estimator-id-74\" type=\"checkbox\" ><label for=\"sk-estimator-id-74\" class=\"sk-toggleable__label sk-toggleable__label-arrow\">estimator: MLPClassifier</label><div class=\"sk-toggleable__content\"><pre>MLPClassifier(max_iter=10000, solver=&#x27;sgd&#x27;)</pre></div></div></div><div class=\"sk-serial\"><div class=\"sk-item\"><div class=\"sk-estimator sk-toggleable\"><input class=\"sk-toggleable__control sk-hidden--visually\" id=\"sk-estimator-id-75\" type=\"checkbox\" ><label for=\"sk-estimator-id-75\" class=\"sk-toggleable__label sk-toggleable__label-arrow\">MLPClassifier</label><div class=\"sk-toggleable__content\"><pre>MLPClassifier(max_iter=10000, solver=&#x27;sgd&#x27;)</pre></div></div></div></div></div></div></div></div></div></div>"
            ]
          },
          "metadata": {},
          "execution_count": 144
        }
      ]
    },
    {
      "cell_type": "code",
      "source": [
        "clf_3_mc_results = clf_3_mc.cv_results_\n",
        "\n",
        "# maximum value of mean accuracy among the scores obtained\n",
        "max_accuracy = max(clf_3_mc_results['mean_test_score'])\n",
        "print(max_accuracy)"
      ],
      "metadata": {
        "colab": {
          "base_uri": "https://localhost:8080/"
        },
        "id": "0u-vyxaxUCXd",
        "outputId": "18b1d3dd-1926-4f2f-8791-3590cb2a004c"
      },
      "execution_count": null,
      "outputs": [
        {
          "output_type": "stream",
          "name": "stdout",
          "text": [
            "0.7323357413140694\n"
          ]
        }
      ]
    },
    {
      "cell_type": "code",
      "source": [
        "# indices with the max value of accuracy\n",
        "max_acc_index = [i for i in range(len(clf_3_mc_results['mean_test_score'])) if clf_3_mc_results['mean_test_score'][i] == max_accuracy]\n",
        "\n",
        "# prints the hyperparameter values for which we obtained highest accuracy\n",
        "for i in max_acc_index:\n",
        "  print(clf_3_mc_results['params'][i])"
      ],
      "metadata": {
        "colab": {
          "base_uri": "https://localhost:8080/"
        },
        "id": "Zk6uzWykULXx",
        "outputId": "f32c3a25-04d5-4252-de5a-6fbe0671a70b"
      },
      "execution_count": null,
      "outputs": [
        {
          "output_type": "stream",
          "name": "stdout",
          "text": [
            "{'hidden_layer_sizes': (5,), 'learning_rate_init': 0.1}\n"
          ]
        }
      ]
    },
    {
      "cell_type": "markdown",
      "source": [
        "##### (d)"
      ],
      "metadata": {
        "id": "6aiiQCs9aIrQ"
      }
    },
    {
      "cell_type": "code",
      "source": [
        "# define Random Forest Classifier\n",
        "rndf = RandomForestClassifier()\n",
        "\n",
        "# define params to do grid search over binary RNDForest Classification\n",
        "y_params = {\"max_depth\": [2, 4, 6, 8, 10, 25, 50], \"max_features\": [3*i for i in range(1, 21)]}\n",
        "\n",
        "# perform grid search cv\n",
        "clf_4_binary = GridSearchCV(rndf, param_grid=y_params, scoring='f1')\n",
        "clf_4_binary.fit(X, y)"
      ],
      "metadata": {
        "colab": {
          "base_uri": "https://localhost:8080/",
          "height": 116
        },
        "id": "ylisEjguaK10",
        "outputId": "0d3f0a29-8259-45db-d536-d03c986564a7"
      },
      "execution_count": null,
      "outputs": [
        {
          "data": {
            "text/html": [
              "<style>#sk-container-id-26 {color: black;background-color: white;}#sk-container-id-26 pre{padding: 0;}#sk-container-id-26 div.sk-toggleable {background-color: white;}#sk-container-id-26 label.sk-toggleable__label {cursor: pointer;display: block;width: 100%;margin-bottom: 0;padding: 0.3em;box-sizing: border-box;text-align: center;}#sk-container-id-26 label.sk-toggleable__label-arrow:before {content: \"▸\";float: left;margin-right: 0.25em;color: #696969;}#sk-container-id-26 label.sk-toggleable__label-arrow:hover:before {color: black;}#sk-container-id-26 div.sk-estimator:hover label.sk-toggleable__label-arrow:before {color: black;}#sk-container-id-26 div.sk-toggleable__content {max-height: 0;max-width: 0;overflow: hidden;text-align: left;background-color: #f0f8ff;}#sk-container-id-26 div.sk-toggleable__content pre {margin: 0.2em;color: black;border-radius: 0.25em;background-color: #f0f8ff;}#sk-container-id-26 input.sk-toggleable__control:checked~div.sk-toggleable__content {max-height: 200px;max-width: 100%;overflow: auto;}#sk-container-id-26 input.sk-toggleable__control:checked~label.sk-toggleable__label-arrow:before {content: \"▾\";}#sk-container-id-26 div.sk-estimator input.sk-toggleable__control:checked~label.sk-toggleable__label {background-color: #d4ebff;}#sk-container-id-26 div.sk-label input.sk-toggleable__control:checked~label.sk-toggleable__label {background-color: #d4ebff;}#sk-container-id-26 input.sk-hidden--visually {border: 0;clip: rect(1px 1px 1px 1px);clip: rect(1px, 1px, 1px, 1px);height: 1px;margin: -1px;overflow: hidden;padding: 0;position: absolute;width: 1px;}#sk-container-id-26 div.sk-estimator {font-family: monospace;background-color: #f0f8ff;border: 1px dotted black;border-radius: 0.25em;box-sizing: border-box;margin-bottom: 0.5em;}#sk-container-id-26 div.sk-estimator:hover {background-color: #d4ebff;}#sk-container-id-26 div.sk-parallel-item::after {content: \"\";width: 100%;border-bottom: 1px solid gray;flex-grow: 1;}#sk-container-id-26 div.sk-label:hover label.sk-toggleable__label {background-color: #d4ebff;}#sk-container-id-26 div.sk-serial::before {content: \"\";position: absolute;border-left: 1px solid gray;box-sizing: border-box;top: 0;bottom: 0;left: 50%;z-index: 0;}#sk-container-id-26 div.sk-serial {display: flex;flex-direction: column;align-items: center;background-color: white;padding-right: 0.2em;padding-left: 0.2em;position: relative;}#sk-container-id-26 div.sk-item {position: relative;z-index: 1;}#sk-container-id-26 div.sk-parallel {display: flex;align-items: stretch;justify-content: center;background-color: white;position: relative;}#sk-container-id-26 div.sk-item::before, #sk-container-id-26 div.sk-parallel-item::before {content: \"\";position: absolute;border-left: 1px solid gray;box-sizing: border-box;top: 0;bottom: 0;left: 50%;z-index: -1;}#sk-container-id-26 div.sk-parallel-item {display: flex;flex-direction: column;z-index: 1;position: relative;background-color: white;}#sk-container-id-26 div.sk-parallel-item:first-child::after {align-self: flex-end;width: 50%;}#sk-container-id-26 div.sk-parallel-item:last-child::after {align-self: flex-start;width: 50%;}#sk-container-id-26 div.sk-parallel-item:only-child::after {width: 0;}#sk-container-id-26 div.sk-dashed-wrapped {border: 1px dashed gray;margin: 0 0.4em 0.5em 0.4em;box-sizing: border-box;padding-bottom: 0.4em;background-color: white;}#sk-container-id-26 div.sk-label label {font-family: monospace;font-weight: bold;display: inline-block;line-height: 1.2em;}#sk-container-id-26 div.sk-label-container {text-align: center;}#sk-container-id-26 div.sk-container {/* jupyter's `normalize.less` sets `[hidden] { display: none; }` but bootstrap.min.css set `[hidden] { display: none !important; }` so we also need the `!important` here to be able to override the default hidden behavior on the sphinx rendered scikit-learn.org. See: https://github.com/scikit-learn/scikit-learn/issues/21755 */display: inline-block !important;position: relative;}#sk-container-id-26 div.sk-text-repr-fallback {display: none;}</style><div id=\"sk-container-id-26\" class=\"sk-top-container\"><div class=\"sk-text-repr-fallback\"><pre>GridSearchCV(estimator=RandomForestClassifier(),\n",
              "             param_grid={&#x27;max_depth&#x27;: [2, 4, 6, 8, 10, 25, 50],\n",
              "                         &#x27;max_features&#x27;: [3, 6, 9, 12, 15, 18, 21, 24, 27, 30,\n",
              "                                          33, 36, 39, 42, 45, 48, 51, 54, 57,\n",
              "                                          60]},\n",
              "             scoring=&#x27;f1&#x27;)</pre><b>In a Jupyter environment, please rerun this cell to show the HTML representation or trust the notebook. <br />On GitHub, the HTML representation is unable to render, please try loading this page with nbviewer.org.</b></div><div class=\"sk-container\" hidden><div class=\"sk-item sk-dashed-wrapped\"><div class=\"sk-label-container\"><div class=\"sk-label sk-toggleable\"><input class=\"sk-toggleable__control sk-hidden--visually\" id=\"sk-estimator-id-76\" type=\"checkbox\" ><label for=\"sk-estimator-id-76\" class=\"sk-toggleable__label sk-toggleable__label-arrow\">GridSearchCV</label><div class=\"sk-toggleable__content\"><pre>GridSearchCV(estimator=RandomForestClassifier(),\n",
              "             param_grid={&#x27;max_depth&#x27;: [2, 4, 6, 8, 10, 25, 50],\n",
              "                         &#x27;max_features&#x27;: [3, 6, 9, 12, 15, 18, 21, 24, 27, 30,\n",
              "                                          33, 36, 39, 42, 45, 48, 51, 54, 57,\n",
              "                                          60]},\n",
              "             scoring=&#x27;f1&#x27;)</pre></div></div></div><div class=\"sk-parallel\"><div class=\"sk-parallel-item\"><div class=\"sk-item\"><div class=\"sk-label-container\"><div class=\"sk-label sk-toggleable\"><input class=\"sk-toggleable__control sk-hidden--visually\" id=\"sk-estimator-id-77\" type=\"checkbox\" ><label for=\"sk-estimator-id-77\" class=\"sk-toggleable__label sk-toggleable__label-arrow\">estimator: RandomForestClassifier</label><div class=\"sk-toggleable__content\"><pre>RandomForestClassifier()</pre></div></div></div><div class=\"sk-serial\"><div class=\"sk-item\"><div class=\"sk-estimator sk-toggleable\"><input class=\"sk-toggleable__control sk-hidden--visually\" id=\"sk-estimator-id-78\" type=\"checkbox\" ><label for=\"sk-estimator-id-78\" class=\"sk-toggleable__label sk-toggleable__label-arrow\">RandomForestClassifier</label><div class=\"sk-toggleable__content\"><pre>RandomForestClassifier()</pre></div></div></div></div></div></div></div></div></div></div>"
            ],
            "text/plain": [
              "GridSearchCV(estimator=RandomForestClassifier(),\n",
              "             param_grid={'max_depth': [2, 4, 6, 8, 10, 25, 50],\n",
              "                         'max_features': [3, 6, 9, 12, 15, 18, 21, 24, 27, 30,\n",
              "                                          33, 36, 39, 42, 45, 48, 51, 54, 57,\n",
              "                                          60]},\n",
              "             scoring='f1')"
            ]
          },
          "execution_count": 147,
          "metadata": {},
          "output_type": "execute_result"
        }
      ]
    },
    {
      "cell_type": "code",
      "source": [
        "clf_4_binary_results = clf_4_binary.cv_results_\n",
        "\n",
        "# maximum value of mean f1-score among the scores obtained\n",
        "max_f1 = max(clf_4_binary_results['mean_test_score'])\n",
        "print(max_f1)"
      ],
      "metadata": {
        "colab": {
          "base_uri": "https://localhost:8080/"
        },
        "id": "8vzt2C4id57C",
        "outputId": "a5b7ba96-e467-430f-eb11-fe6662a11b2d"
      },
      "execution_count": null,
      "outputs": [
        {
          "metadata": {
            "tags": null
          },
          "name": "stdout",
          "output_type": "stream",
          "text": [
            "0.6622847485434988\n"
          ]
        }
      ]
    },
    {
      "cell_type": "code",
      "source": [
        "# indices with the max value of f1-score\n",
        "max_f1_index = [i for i in range(len(clf_4_binary_results['mean_test_score'])) if clf_4_binary_results['mean_test_score'][i] == max_f1]\n",
        "\n",
        "# prints the hyperparameter values for which we obtained highest f1-score\n",
        "for i in max_f1_index:\n",
        "  print(clf_4_binary_results['params'][i])"
      ],
      "metadata": {
        "colab": {
          "base_uri": "https://localhost:8080/"
        },
        "id": "ljt_lACweBqh",
        "outputId": "781013bb-86f6-4e91-d69a-c137f8b5c197"
      },
      "execution_count": null,
      "outputs": [
        {
          "metadata": {
            "tags": null
          },
          "name": "stdout",
          "output_type": "stream",
          "text": [
            "{'max_depth': 2, 'max_features': 51}\n"
          ]
        }
      ]
    },
    {
      "cell_type": "code",
      "source": [
        "# define params to do grid search over for multi-class RNDForest Classification\n",
        "z_params = {\"max_depth\": [1, 2, 3, 4, 5, 6, 7, 8, 9, 10, 25, 50], \"max_features\": [4*i for i in range(1, 16)]}\n",
        "\n",
        "# perform grid search cv\n",
        "clf_4_mc = GridSearchCV(rndf, param_grid=z_params, scoring='accuracy')\n",
        "clf_4_mc.fit(X, z)"
      ],
      "metadata": {
        "colab": {
          "base_uri": "https://localhost:8080/",
          "height": 116
        },
        "id": "KJgcd97aeOPF",
        "outputId": "3754535c-644a-4529-cc93-c59463d40a9c"
      },
      "execution_count": null,
      "outputs": [
        {
          "output_type": "execute_result",
          "data": {
            "text/plain": [
              "GridSearchCV(estimator=RandomForestClassifier(),\n",
              "             param_grid={'max_depth': [1, 2, 3, 4, 5, 6, 7, 8, 9, 10, 25, 50],\n",
              "                         'max_features': [4, 8, 12, 16, 20, 24, 28, 32, 36, 40,\n",
              "                                          44, 48, 52, 56, 60]},\n",
              "             scoring='accuracy')"
            ],
            "text/html": [
              "<style>#sk-container-id-27 {color: black;background-color: white;}#sk-container-id-27 pre{padding: 0;}#sk-container-id-27 div.sk-toggleable {background-color: white;}#sk-container-id-27 label.sk-toggleable__label {cursor: pointer;display: block;width: 100%;margin-bottom: 0;padding: 0.3em;box-sizing: border-box;text-align: center;}#sk-container-id-27 label.sk-toggleable__label-arrow:before {content: \"▸\";float: left;margin-right: 0.25em;color: #696969;}#sk-container-id-27 label.sk-toggleable__label-arrow:hover:before {color: black;}#sk-container-id-27 div.sk-estimator:hover label.sk-toggleable__label-arrow:before {color: black;}#sk-container-id-27 div.sk-toggleable__content {max-height: 0;max-width: 0;overflow: hidden;text-align: left;background-color: #f0f8ff;}#sk-container-id-27 div.sk-toggleable__content pre {margin: 0.2em;color: black;border-radius: 0.25em;background-color: #f0f8ff;}#sk-container-id-27 input.sk-toggleable__control:checked~div.sk-toggleable__content {max-height: 200px;max-width: 100%;overflow: auto;}#sk-container-id-27 input.sk-toggleable__control:checked~label.sk-toggleable__label-arrow:before {content: \"▾\";}#sk-container-id-27 div.sk-estimator input.sk-toggleable__control:checked~label.sk-toggleable__label {background-color: #d4ebff;}#sk-container-id-27 div.sk-label input.sk-toggleable__control:checked~label.sk-toggleable__label {background-color: #d4ebff;}#sk-container-id-27 input.sk-hidden--visually {border: 0;clip: rect(1px 1px 1px 1px);clip: rect(1px, 1px, 1px, 1px);height: 1px;margin: -1px;overflow: hidden;padding: 0;position: absolute;width: 1px;}#sk-container-id-27 div.sk-estimator {font-family: monospace;background-color: #f0f8ff;border: 1px dotted black;border-radius: 0.25em;box-sizing: border-box;margin-bottom: 0.5em;}#sk-container-id-27 div.sk-estimator:hover {background-color: #d4ebff;}#sk-container-id-27 div.sk-parallel-item::after {content: \"\";width: 100%;border-bottom: 1px solid gray;flex-grow: 1;}#sk-container-id-27 div.sk-label:hover label.sk-toggleable__label {background-color: #d4ebff;}#sk-container-id-27 div.sk-serial::before {content: \"\";position: absolute;border-left: 1px solid gray;box-sizing: border-box;top: 0;bottom: 0;left: 50%;z-index: 0;}#sk-container-id-27 div.sk-serial {display: flex;flex-direction: column;align-items: center;background-color: white;padding-right: 0.2em;padding-left: 0.2em;position: relative;}#sk-container-id-27 div.sk-item {position: relative;z-index: 1;}#sk-container-id-27 div.sk-parallel {display: flex;align-items: stretch;justify-content: center;background-color: white;position: relative;}#sk-container-id-27 div.sk-item::before, #sk-container-id-27 div.sk-parallel-item::before {content: \"\";position: absolute;border-left: 1px solid gray;box-sizing: border-box;top: 0;bottom: 0;left: 50%;z-index: -1;}#sk-container-id-27 div.sk-parallel-item {display: flex;flex-direction: column;z-index: 1;position: relative;background-color: white;}#sk-container-id-27 div.sk-parallel-item:first-child::after {align-self: flex-end;width: 50%;}#sk-container-id-27 div.sk-parallel-item:last-child::after {align-self: flex-start;width: 50%;}#sk-container-id-27 div.sk-parallel-item:only-child::after {width: 0;}#sk-container-id-27 div.sk-dashed-wrapped {border: 1px dashed gray;margin: 0 0.4em 0.5em 0.4em;box-sizing: border-box;padding-bottom: 0.4em;background-color: white;}#sk-container-id-27 div.sk-label label {font-family: monospace;font-weight: bold;display: inline-block;line-height: 1.2em;}#sk-container-id-27 div.sk-label-container {text-align: center;}#sk-container-id-27 div.sk-container {/* jupyter's `normalize.less` sets `[hidden] { display: none; }` but bootstrap.min.css set `[hidden] { display: none !important; }` so we also need the `!important` here to be able to override the default hidden behavior on the sphinx rendered scikit-learn.org. See: https://github.com/scikit-learn/scikit-learn/issues/21755 */display: inline-block !important;position: relative;}#sk-container-id-27 div.sk-text-repr-fallback {display: none;}</style><div id=\"sk-container-id-27\" class=\"sk-top-container\"><div class=\"sk-text-repr-fallback\"><pre>GridSearchCV(estimator=RandomForestClassifier(),\n",
              "             param_grid={&#x27;max_depth&#x27;: [1, 2, 3, 4, 5, 6, 7, 8, 9, 10, 25, 50],\n",
              "                         &#x27;max_features&#x27;: [4, 8, 12, 16, 20, 24, 28, 32, 36, 40,\n",
              "                                          44, 48, 52, 56, 60]},\n",
              "             scoring=&#x27;accuracy&#x27;)</pre><b>In a Jupyter environment, please rerun this cell to show the HTML representation or trust the notebook. <br />On GitHub, the HTML representation is unable to render, please try loading this page with nbviewer.org.</b></div><div class=\"sk-container\" hidden><div class=\"sk-item sk-dashed-wrapped\"><div class=\"sk-label-container\"><div class=\"sk-label sk-toggleable\"><input class=\"sk-toggleable__control sk-hidden--visually\" id=\"sk-estimator-id-79\" type=\"checkbox\" ><label for=\"sk-estimator-id-79\" class=\"sk-toggleable__label sk-toggleable__label-arrow\">GridSearchCV</label><div class=\"sk-toggleable__content\"><pre>GridSearchCV(estimator=RandomForestClassifier(),\n",
              "             param_grid={&#x27;max_depth&#x27;: [1, 2, 3, 4, 5, 6, 7, 8, 9, 10, 25, 50],\n",
              "                         &#x27;max_features&#x27;: [4, 8, 12, 16, 20, 24, 28, 32, 36, 40,\n",
              "                                          44, 48, 52, 56, 60]},\n",
              "             scoring=&#x27;accuracy&#x27;)</pre></div></div></div><div class=\"sk-parallel\"><div class=\"sk-parallel-item\"><div class=\"sk-item\"><div class=\"sk-label-container\"><div class=\"sk-label sk-toggleable\"><input class=\"sk-toggleable__control sk-hidden--visually\" id=\"sk-estimator-id-80\" type=\"checkbox\" ><label for=\"sk-estimator-id-80\" class=\"sk-toggleable__label sk-toggleable__label-arrow\">estimator: RandomForestClassifier</label><div class=\"sk-toggleable__content\"><pre>RandomForestClassifier()</pre></div></div></div><div class=\"sk-serial\"><div class=\"sk-item\"><div class=\"sk-estimator sk-toggleable\"><input class=\"sk-toggleable__control sk-hidden--visually\" id=\"sk-estimator-id-81\" type=\"checkbox\" ><label for=\"sk-estimator-id-81\" class=\"sk-toggleable__label sk-toggleable__label-arrow\">RandomForestClassifier</label><div class=\"sk-toggleable__content\"><pre>RandomForestClassifier()</pre></div></div></div></div></div></div></div></div></div></div>"
            ]
          },
          "metadata": {},
          "execution_count": 150
        }
      ]
    },
    {
      "cell_type": "code",
      "source": [
        "clf_4_mc_results = clf_4_mc.cv_results_\n",
        "\n",
        "# maximum value of mean accuracy among the scores obtained\n",
        "max_accuracy = max(clf_4_mc_results['mean_test_score'])\n",
        "print(max_accuracy)"
      ],
      "metadata": {
        "colab": {
          "base_uri": "https://localhost:8080/"
        },
        "id": "u5s5DykFfHOQ",
        "outputId": "6a838f4c-5c31-41cb-e160-7ad6802fe2b4"
      },
      "execution_count": null,
      "outputs": [
        {
          "output_type": "stream",
          "name": "stdout",
          "text": [
            "0.6759115927072583\n"
          ]
        }
      ]
    },
    {
      "cell_type": "code",
      "source": [
        "# indices with the max value of accuracy\n",
        "max_acc_index = [i for i in range(len(clf_4_mc_results['mean_test_score'])) if clf_4_mc_results['mean_test_score'][i] == max_accuracy]\n",
        "\n",
        "# prints the hyperparameter values for which we obtained highest accuracy\n",
        "for i in max_acc_index:\n",
        "  print(clf_4_mc_results['params'][i])"
      ],
      "metadata": {
        "colab": {
          "base_uri": "https://localhost:8080/"
        },
        "id": "aA4HPidkiaxt",
        "outputId": "b887378a-dcbe-4b7d-9415-446a98382f6a"
      },
      "execution_count": null,
      "outputs": [
        {
          "output_type": "stream",
          "name": "stdout",
          "text": [
            "{'max_depth': 9, 'max_features': 4}\n"
          ]
        }
      ]
    },
    {
      "cell_type": "markdown",
      "source": [
        "#### Question 6."
      ],
      "metadata": {
        "id": "hm3NNF_k0oHn"
      }
    },
    {
      "cell_type": "markdown",
      "source": [
        "We'll use **permutation_importance** function from **sklearn.inspection** to check feature importance. We'll use the hyperparameters that gave the best scores in GridSearchCV."
      ],
      "metadata": {
        "id": "_3UaSxPlQT3L"
      }
    },
    {
      "cell_type": "code",
      "source": [
        "# define Linear SVM for Binary Classification and fit model\n",
        "svc_binary = SVC(kernel = 'linear', C = 0.01, max_iter = 10**8)\n",
        "svc_binary.fit(X, y)\n",
        "\n",
        "# perform permutation importance over the model to check for feature importance\n",
        "svc_bin_result = permutation_importance(svc_binary, X, y, scoring = 'f1', n_repeats = 10)\n",
        "\n",
        "# plot feature importance for each feature (indexed by column number)\n",
        "plt.bar([x for x in range(len(svc_bin_result.importances_mean))], svc_bin_result.importances_mean)\n",
        "plt.xlabel('Feature index in $X$')\n",
        "plt.ylabel('Feature Importance')\n",
        "plt.title('Feature Importance for SVC Binary Classification')\n",
        "plt.show()"
      ],
      "metadata": {
        "colab": {
          "base_uri": "https://localhost:8080/",
          "height": 297
        },
        "id": "S_yVlAREjFuk",
        "outputId": "8ec50cb9-c612-4e59-d063-f10e91099084"
      },
      "execution_count": null,
      "outputs": [
        {
          "output_type": "display_data",
          "data": {
            "text/plain": [
              "<Figure size 432x288 with 1 Axes>"
            ],
            "image/png": "[encoded data removed]"
          },
          "metadata": {
            "needs_background": "light"
          }
        }
      ]
    },
    {
      "cell_type": "code",
      "source": [
        "# define Linear SVM for Multi-Class Classification and fit model\n",
        "svc_mc = SVC(kernel = 'linear', C = 0.1, max_iter = 10**8)\n",
        "svc_mc.fit(X, z)\n",
        "\n",
        "# perform permutation importance over the model to check for feature importance\n",
        "svc_mc_result = permutation_importance(svc_mc, X, z, scoring = 'accuracy', n_repeats = 10)\n",
        "\n",
        "# plot feature importance for each feature (indexed by column number)\n",
        "plt.bar([x for x in range(len(svc_mc_result.importances_mean))], svc_mc_result.importances_mean)\n",
        "plt.xlabel('Feature index in $X$')\n",
        "plt.ylabel('Feature Importance')\n",
        "plt.title('Feature Importance for SVC Multi-Class Classification')\n",
        "plt.show()"
      ],
      "metadata": {
        "colab": {
          "base_uri": "https://localhost:8080/",
          "height": 297
        },
        "id": "6pxX10fpnvLX",
        "outputId": "6a0b0f4c-fecb-4ca2-81b6-5776359eb4a9"
      },
      "execution_count": null,
      "outputs": [
        {
          "output_type": "display_data",
          "data": {
            "text/plain": [
              "<Figure size 432x288 with 1 Axes>"
            ],
            "image/png": "[encoded data removed]"
          },
          "metadata": {
            "needs_background": "light"
          }
        }
      ]
    },
    {
      "cell_type": "code",
      "source": [
        "# define RBF Kernel SVM for Binary Classification and fit model\n",
        "rbf_binary = SVC(kernel = 'rbf', C = 10, gamma = 0.001, max_iter = 10**8)\n",
        "rbf_binary.fit(X, y)\n",
        "\n",
        "# perform permutation importance over the model to check for feature importance\n",
        "rbf_bin_result = permutation_importance(rbf_binary, X, y, scoring = 'f1', n_repeats = 10)\n",
        "\n",
        "# plot feature importance for each feature (indexed by column number)\n",
        "plt.bar([x for x in range(len(rbf_bin_result.importances_mean))], rbf_bin_result.importances_mean)\n",
        "plt.xlabel('Feature index in $X$')\n",
        "plt.ylabel('Feature Importance')\n",
        "plt.title('Feature Importance for RBF kernel SVM Binary Classification')\n",
        "plt.show()"
      ],
      "metadata": {
        "colab": {
          "base_uri": "https://localhost:8080/",
          "height": 297
        },
        "id": "TN5qAd9joePl",
        "outputId": "de0ffbec-e1d2-455f-b1d3-6064fda30c67"
      },
      "execution_count": null,
      "outputs": [
        {
          "output_type": "display_data",
          "data": {
            "text/plain": [
              "<Figure size 432x288 with 1 Axes>"
            ],
            "image/png": "[encoded data removed]"
          },
          "metadata": {
            "needs_background": "light"
          }
        }
      ]
    },
    {
      "cell_type": "code",
      "source": [
        "# define RBF Kernel SVM for Multi-Class Classification and fit model\n",
        "rbf_mc = SVC(kernel = 'rbf', C = 1000, gamma = 0.0001, max_iter = 10**8)\n",
        "rbf_mc.fit(X, z)\n",
        "\n",
        "# perform permutation importance over the model to check for feature importance\n",
        "rbf_mc_result = permutation_importance(rbf_mc, X, z, scoring = 'accuracy', n_repeats = 10)\n",
        "\n",
        "# plot feature importance for each feature (indexed by column number)\n",
        "plt.bar([x for x in range(len(rbf_mc_result.importances_mean))], rbf_mc_result.importances_mean)\n",
        "plt.xlabel('Feature index in $X$')\n",
        "plt.ylabel('Feature Importance')\n",
        "plt.title('Feature Importance for RBF kernel SVM Multi-Class Classification')\n",
        "plt.show()"
      ],
      "metadata": {
        "colab": {
          "base_uri": "https://localhost:8080/",
          "height": 297
        },
        "id": "Y6ut4txrpxWn",
        "outputId": "533d9336-ea1c-4045-e6a4-6336a44be5d7"
      },
      "execution_count": null,
      "outputs": [
        {
          "output_type": "display_data",
          "data": {
            "text/plain": [
              "<Figure size 432x288 with 1 Axes>"
            ],
            "image/png": "[encoded data removed]"
          },
          "metadata": {
            "needs_background": "light"
          }
        }
      ]
    },
    {
      "cell_type": "code",
      "source": [
        "# define NN for Binary Classification and fit model\n",
        "nnet_binary = MLPClassifier(solver='sgd', activation = 'relu', \n",
        "                         learning_rate='constant', max_iter = 10000,\n",
        "                         hidden_layer_sizes = (35,), learning_rate_init = 0.1)\n",
        "nnet_binary.fit(X, y)\n",
        "\n",
        "# perform permutation importance over the model to check for feature importance\n",
        "nnet_bin_result = permutation_importance(nnet_binary, X, y, scoring = 'f1', n_repeats = 10)\n",
        "\n",
        "# plot feature importance for each feature (indexed by column number)\n",
        "plt.bar([x for x in range(len(nnet_bin_result.importances_mean))], nnet_bin_result.importances_mean)\n",
        "plt.xlabel('Feature index in $X$')\n",
        "plt.ylabel('Feature Importance')\n",
        "plt.title('Feature Importance for NN Binary Classification')\n",
        "plt.show()"
      ],
      "metadata": {
        "colab": {
          "base_uri": "https://localhost:8080/",
          "height": 297
        },
        "id": "15bjFJmCqrhm",
        "outputId": "86909dc5-aea2-4889-fcdf-c5e88c4ebc48"
      },
      "execution_count": null,
      "outputs": [
        {
          "output_type": "display_data",
          "data": {
            "text/plain": [
              "<Figure size 432x288 with 1 Axes>"
            ],
            "image/png": "[encoded data removed]"
          },
          "metadata": {
            "needs_background": "light"
          }
        }
      ]
    },
    {
      "cell_type": "code",
      "source": [
        "# define NN for Multi-Class Classification and fit model\n",
        "nnet_mc = MLPClassifier(solver='sgd', activation = 'relu', \n",
        "                         learning_rate='constant', max_iter = 10000,\n",
        "                         hidden_layer_sizes = (5,), learning_rate_init = 0.1)\n",
        "nnet_mc.fit(X, z)\n",
        "\n",
        "# perform permutation importance over the model to check for feature importance\n",
        "nnet_mc_result = permutation_importance(nnet_mc, X, z, scoring = 'accuracy', n_repeats = 10)\n",
        "\n",
        "# plot feature importance for each feature (indexed by column number)\n",
        "plt.bar([x for x in range(len(nnet_mc_result.importances_mean))], nnet_mc_result.importances_mean)\n",
        "plt.xlabel('Feature index in $X$')\n",
        "plt.ylabel('Feature Importance')\n",
        "plt.title('Feature Importance for NN Multi-Class Classification')\n",
        "plt.show()"
      ],
      "metadata": {
        "colab": {
          "base_uri": "https://localhost:8080/",
          "height": 297
        },
        "id": "ZnZQZXq0r0xx",
        "outputId": "b9f81e4c-180f-4045-a95d-f512d93947fc"
      },
      "execution_count": null,
      "outputs": [
        {
          "output_type": "display_data",
          "data": {
            "text/plain": [
              "<Figure size 432x288 with 1 Axes>"
            ],
            "image/png": "[encoded data removed]"
          },
          "metadata": {
            "needs_background": "light"
          }
        }
      ]
    },
    {
      "cell_type": "code",
      "source": [
        "# define Random Forest Classifer for Binary Classification and fit model\n",
        "rndf_binary = RandomForestClassifier(max_depth = 2, max_features = 51)\n",
        "rndf_binary.fit(X, y)\n",
        "\n",
        "# perform permutation importance over the model to check for feature importance\n",
        "rndf_bin_result = permutation_importance(rndf_binary, X, y, scoring = 'f1', n_repeats = 10)\n",
        "\n",
        "# plot feature importance for each feature (indexed by column number)\n",
        "plt.bar([x for x in range(len(rndf_bin_result.importances_mean))], rndf_bin_result.importances_mean)\n",
        "plt.xlabel('Feature index in $X$')\n",
        "plt.ylabel('Feature Importance')\n",
        "plt.title('Feature Importance for Random Forest Binary Classification')\n",
        "plt.show()"
      ],
      "metadata": {
        "colab": {
          "base_uri": "https://localhost:8080/",
          "height": 297
        },
        "id": "OhZmgLvTsN8u",
        "outputId": "eb1ac6c7-a1a1-4e96-f161-862881fa75a1"
      },
      "execution_count": null,
      "outputs": [
        {
          "output_type": "display_data",
          "data": {
            "text/plain": [
              "<Figure size 432x288 with 1 Axes>"
            ],
            "image/png": "[encoded data removed]"
          },
          "metadata": {
            "needs_background": "light"
          }
        }
      ]
    },
    {
      "cell_type": "code",
      "source": [
        "# define Random Forest Classifer for Multi-Class Classification and fit model\n",
        "rndf_mc = RandomForestClassifier(max_depth = 9, max_features = 4)\n",
        "rndf_mc.fit(X, z)\n",
        "\n",
        "# perform permutation importance over the model to check for feature importance\n",
        "rndf_mc_result = permutation_importance(rndf_mc, X, z, scoring = 'accuracy', n_repeats = 10)\n",
        "\n",
        "# plot feature importance for each feature (indexed by column number)\n",
        "plt.bar([x for x in range(len(rndf_mc_result.importances_mean))], rndf_mc_result.importances_mean)\n",
        "plt.xlabel('Feature index in $X$')\n",
        "plt.ylabel('Feature Importance')\n",
        "plt.title('Feature Importance for Random Forest Multi-Class Classification')\n",
        "plt.show()"
      ],
      "metadata": {
        "colab": {
          "base_uri": "https://localhost:8080/",
          "height": 297
        },
        "id": "9bDOoZrfs2Oy",
        "outputId": "8aba5184-2169-4e9a-b85b-19bef6721818"
      },
      "execution_count": null,
      "outputs": [
        {
          "output_type": "display_data",
          "data": {
            "text/plain": [
              "<Figure size 432x288 with 1 Axes>"
            ],
            "image/png": "[encoded data removed]"
          },
          "metadata": {
            "needs_background": "light"
          }
        }
      ]
    },
    {
      "cell_type": "markdown",
      "source": [
        "#### Question 7."
      ],
      "metadata": {
        "id": "Ly6o-P49F4T3"
      }
    },
    {
      "cell_type": "markdown",
      "source": [
        "The RFECV function works only for the Linear SVM and Random Forest Classifier models. It does not work for RBF Kernel SVM and Neural Network Classifier models."
      ],
      "metadata": {
        "id": "X1e9q5KfR3Fb"
      }
    },
    {
      "cell_type": "markdown",
      "source": [
        "RFECV on dataset $X$ for the Linear SVM Binary Classification model."
      ],
      "metadata": {
        "id": "8P3TCQ3PRL3T"
      }
    },
    {
      "cell_type": "code",
      "source": [
        "# perform RFECV on Linear SVM Binary Classification\n",
        "svc_bin_rfe = RFECV(estimator = svc_binary, scoring = 'f1', min_features_to_select = 25)\n",
        "svc_bin_rfe.fit(X, y)"
      ],
      "metadata": {
        "colab": {
          "base_uri": "https://localhost:8080/",
          "height": 116
        },
        "id": "IZZuIRsHB7aZ",
        "outputId": "75b0691d-2d15-4b30-8077-eea96613bdf4"
      },
      "execution_count": null,
      "outputs": [
        {
          "output_type": "execute_result",
          "data": {
            "text/plain": [
              "RFECV(estimator=SVC(C=0.01, kernel='linear', max_iter=100000000),\n",
              "      min_features_to_select=25, scoring='f1')"
            ],
            "text/html": [
              "<style>#sk-container-id-28 {color: black;background-color: white;}#sk-container-id-28 pre{padding: 0;}#sk-container-id-28 div.sk-toggleable {background-color: white;}#sk-container-id-28 label.sk-toggleable__label {cursor: pointer;display: block;width: 100%;margin-bottom: 0;padding: 0.3em;box-sizing: border-box;text-align: center;}#sk-container-id-28 label.sk-toggleable__label-arrow:before {content: \"▸\";float: left;margin-right: 0.25em;color: #696969;}#sk-container-id-28 label.sk-toggleable__label-arrow:hover:before {color: black;}#sk-container-id-28 div.sk-estimator:hover label.sk-toggleable__label-arrow:before {color: black;}#sk-container-id-28 div.sk-toggleable__content {max-height: 0;max-width: 0;overflow: hidden;text-align: left;background-color: #f0f8ff;}#sk-container-id-28 div.sk-toggleable__content pre {margin: 0.2em;color: black;border-radius: 0.25em;background-color: #f0f8ff;}#sk-container-id-28 input.sk-toggleable__control:checked~div.sk-toggleable__content {max-height: 200px;max-width: 100%;overflow: auto;}#sk-container-id-28 input.sk-toggleable__control:checked~label.sk-toggleable__label-arrow:before {content: \"▾\";}#sk-container-id-28 div.sk-estimator input.sk-toggleable__control:checked~label.sk-toggleable__label {background-color: #d4ebff;}#sk-container-id-28 div.sk-label input.sk-toggleable__control:checked~label.sk-toggleable__label {background-color: #d4ebff;}#sk-container-id-28 input.sk-hidden--visually {border: 0;clip: rect(1px 1px 1px 1px);clip: rect(1px, 1px, 1px, 1px);height: 1px;margin: -1px;overflow: hidden;padding: 0;position: absolute;width: 1px;}#sk-container-id-28 div.sk-estimator {font-family: monospace;background-color: #f0f8ff;border: 1px dotted black;border-radius: 0.25em;box-sizing: border-box;margin-bottom: 0.5em;}#sk-container-id-28 div.sk-estimator:hover {background-color: #d4ebff;}#sk-container-id-28 div.sk-parallel-item::after {content: \"\";width: 100%;border-bottom: 1px solid gray;flex-grow: 1;}#sk-container-id-28 div.sk-label:hover label.sk-toggleable__label {background-color: #d4ebff;}#sk-container-id-28 div.sk-serial::before {content: \"\";position: absolute;border-left: 1px solid gray;box-sizing: border-box;top: 0;bottom: 0;left: 50%;z-index: 0;}#sk-container-id-28 div.sk-serial {display: flex;flex-direction: column;align-items: center;background-color: white;padding-right: 0.2em;padding-left: 0.2em;position: relative;}#sk-container-id-28 div.sk-item {position: relative;z-index: 1;}#sk-container-id-28 div.sk-parallel {display: flex;align-items: stretch;justify-content: center;background-color: white;position: relative;}#sk-container-id-28 div.sk-item::before, #sk-container-id-28 div.sk-parallel-item::before {content: \"\";position: absolute;border-left: 1px solid gray;box-sizing: border-box;top: 0;bottom: 0;left: 50%;z-index: -1;}#sk-container-id-28 div.sk-parallel-item {display: flex;flex-direction: column;z-index: 1;position: relative;background-color: white;}#sk-container-id-28 div.sk-parallel-item:first-child::after {align-self: flex-end;width: 50%;}#sk-container-id-28 div.sk-parallel-item:last-child::after {align-self: flex-start;width: 50%;}#sk-container-id-28 div.sk-parallel-item:only-child::after {width: 0;}#sk-container-id-28 div.sk-dashed-wrapped {border: 1px dashed gray;margin: 0 0.4em 0.5em 0.4em;box-sizing: border-box;padding-bottom: 0.4em;background-color: white;}#sk-container-id-28 div.sk-label label {font-family: monospace;font-weight: bold;display: inline-block;line-height: 1.2em;}#sk-container-id-28 div.sk-label-container {text-align: center;}#sk-container-id-28 div.sk-container {/* jupyter's `normalize.less` sets `[hidden] { display: none; }` but bootstrap.min.css set `[hidden] { display: none !important; }` so we also need the `!important` here to be able to override the default hidden behavior on the sphinx rendered scikit-learn.org. See: https://github.com/scikit-learn/scikit-learn/issues/21755 */display: inline-block !important;position: relative;}#sk-container-id-28 div.sk-text-repr-fallback {display: none;}</style><div id=\"sk-container-id-28\" class=\"sk-top-container\"><div class=\"sk-text-repr-fallback\"><pre>RFECV(estimator=SVC(C=0.01, kernel=&#x27;linear&#x27;, max_iter=100000000),\n",
              "      min_features_to_select=25, scoring=&#x27;f1&#x27;)</pre><b>In a Jupyter environment, please rerun this cell to show the HTML representation or trust the notebook. <br />On GitHub, the HTML representation is unable to render, please try loading this page with nbviewer.org.</b></div><div class=\"sk-container\" hidden><div class=\"sk-item sk-dashed-wrapped\"><div class=\"sk-label-container\"><div class=\"sk-label sk-toggleable\"><input class=\"sk-toggleable__control sk-hidden--visually\" id=\"sk-estimator-id-82\" type=\"checkbox\" ><label for=\"sk-estimator-id-82\" class=\"sk-toggleable__label sk-toggleable__label-arrow\">RFECV</label><div class=\"sk-toggleable__content\"><pre>RFECV(estimator=SVC(C=0.01, kernel=&#x27;linear&#x27;, max_iter=100000000),\n",
              "      min_features_to_select=25, scoring=&#x27;f1&#x27;)</pre></div></div></div><div class=\"sk-parallel\"><div class=\"sk-parallel-item\"><div class=\"sk-item\"><div class=\"sk-label-container\"><div class=\"sk-label sk-toggleable\"><input class=\"sk-toggleable__control sk-hidden--visually\" id=\"sk-estimator-id-83\" type=\"checkbox\" ><label for=\"sk-estimator-id-83\" class=\"sk-toggleable__label sk-toggleable__label-arrow\">estimator: SVC</label><div class=\"sk-toggleable__content\"><pre>SVC(C=0.01, kernel=&#x27;linear&#x27;, max_iter=100000000)</pre></div></div></div><div class=\"sk-serial\"><div class=\"sk-item\"><div class=\"sk-estimator sk-toggleable\"><input class=\"sk-toggleable__control sk-hidden--visually\" id=\"sk-estimator-id-84\" type=\"checkbox\" ><label for=\"sk-estimator-id-84\" class=\"sk-toggleable__label sk-toggleable__label-arrow\">SVC</label><div class=\"sk-toggleable__content\"><pre>SVC(C=0.01, kernel=&#x27;linear&#x27;, max_iter=100000000)</pre></div></div></div></div></div></div></div></div></div></div>"
            ]
          },
          "metadata": {},
          "execution_count": 167
        }
      ]
    },
    {
      "cell_type": "code",
      "source": [
        "# print best mean f1-score obtained RFECV\n",
        "print(max(svc_bin_rfe.cv_results_[\"mean_test_score\"]))"
      ],
      "metadata": {
        "colab": {
          "base_uri": "https://localhost:8080/"
        },
        "id": "9zsSiTNxQsYA",
        "outputId": "7efc1a42-d548-47fd-d0cf-daa27f5d447b"
      },
      "execution_count": null,
      "outputs": [
        {
          "output_type": "stream",
          "name": "stdout",
          "text": [
            "0.7965919138513851\n"
          ]
        }
      ]
    },
    {
      "cell_type": "markdown",
      "source": [
        "RFECV on X for the Linear SVM Multi-Class Classification Model."
      ],
      "metadata": {
        "id": "n3z5IrhhRT5r"
      }
    },
    {
      "cell_type": "code",
      "source": [
        "# perform RFECV on Linear SVM Multi-Class Classification\n",
        "svc_mc_rfe = RFECV(estimator = svc_mc, scoring = 'accuracy', min_features_to_select = 25)\n",
        "svc_mc_rfe.fit(X, z)"
      ],
      "metadata": {
        "colab": {
          "base_uri": "https://localhost:8080/",
          "height": 116
        },
        "id": "qD3Gz0sYRdQ7",
        "outputId": "871301de-13aa-42e6-aef1-5a40c3f154fb"
      },
      "execution_count": null,
      "outputs": [
        {
          "output_type": "execute_result",
          "data": {
            "text/plain": [
              "RFECV(estimator=SVC(C=0.1, kernel='linear', max_iter=100000000),\n",
              "      min_features_to_select=25, scoring='accuracy')"
            ],
            "text/html": [
              "<style>#sk-container-id-29 {color: black;background-color: white;}#sk-container-id-29 pre{padding: 0;}#sk-container-id-29 div.sk-toggleable {background-color: white;}#sk-container-id-29 label.sk-toggleable__label {cursor: pointer;display: block;width: 100%;margin-bottom: 0;padding: 0.3em;box-sizing: border-box;text-align: center;}#sk-container-id-29 label.sk-toggleable__label-arrow:before {content: \"▸\";float: left;margin-right: 0.25em;color: #696969;}#sk-container-id-29 label.sk-toggleable__label-arrow:hover:before {color: black;}#sk-container-id-29 div.sk-estimator:hover label.sk-toggleable__label-arrow:before {color: black;}#sk-container-id-29 div.sk-toggleable__content {max-height: 0;max-width: 0;overflow: hidden;text-align: left;background-color: #f0f8ff;}#sk-container-id-29 div.sk-toggleable__content pre {margin: 0.2em;color: black;border-radius: 0.25em;background-color: #f0f8ff;}#sk-container-id-29 input.sk-toggleable__control:checked~div.sk-toggleable__content {max-height: 200px;max-width: 100%;overflow: auto;}#sk-container-id-29 input.sk-toggleable__control:checked~label.sk-toggleable__label-arrow:before {content: \"▾\";}#sk-container-id-29 div.sk-estimator input.sk-toggleable__control:checked~label.sk-toggleable__label {background-color: #d4ebff;}#sk-container-id-29 div.sk-label input.sk-toggleable__control:checked~label.sk-toggleable__label {background-color: #d4ebff;}#sk-container-id-29 input.sk-hidden--visually {border: 0;clip: rect(1px 1px 1px 1px);clip: rect(1px, 1px, 1px, 1px);height: 1px;margin: -1px;overflow: hidden;padding: 0;position: absolute;width: 1px;}#sk-container-id-29 div.sk-estimator {font-family: monospace;background-color: #f0f8ff;border: 1px dotted black;border-radius: 0.25em;box-sizing: border-box;margin-bottom: 0.5em;}#sk-container-id-29 div.sk-estimator:hover {background-color: #d4ebff;}#sk-container-id-29 div.sk-parallel-item::after {content: \"\";width: 100%;border-bottom: 1px solid gray;flex-grow: 1;}#sk-container-id-29 div.sk-label:hover label.sk-toggleable__label {background-color: #d4ebff;}#sk-container-id-29 div.sk-serial::before {content: \"\";position: absolute;border-left: 1px solid gray;box-sizing: border-box;top: 0;bottom: 0;left: 50%;z-index: 0;}#sk-container-id-29 div.sk-serial {display: flex;flex-direction: column;align-items: center;background-color: white;padding-right: 0.2em;padding-left: 0.2em;position: relative;}#sk-container-id-29 div.sk-item {position: relative;z-index: 1;}#sk-container-id-29 div.sk-parallel {display: flex;align-items: stretch;justify-content: center;background-color: white;position: relative;}#sk-container-id-29 div.sk-item::before, #sk-container-id-29 div.sk-parallel-item::before {content: \"\";position: absolute;border-left: 1px solid gray;box-sizing: border-box;top: 0;bottom: 0;left: 50%;z-index: -1;}#sk-container-id-29 div.sk-parallel-item {display: flex;flex-direction: column;z-index: 1;position: relative;background-color: white;}#sk-container-id-29 div.sk-parallel-item:first-child::after {align-self: flex-end;width: 50%;}#sk-container-id-29 div.sk-parallel-item:last-child::after {align-self: flex-start;width: 50%;}#sk-container-id-29 div.sk-parallel-item:only-child::after {width: 0;}#sk-container-id-29 div.sk-dashed-wrapped {border: 1px dashed gray;margin: 0 0.4em 0.5em 0.4em;box-sizing: border-box;padding-bottom: 0.4em;background-color: white;}#sk-container-id-29 div.sk-label label {font-family: monospace;font-weight: bold;display: inline-block;line-height: 1.2em;}#sk-container-id-29 div.sk-label-container {text-align: center;}#sk-container-id-29 div.sk-container {/* jupyter's `normalize.less` sets `[hidden] { display: none; }` but bootstrap.min.css set `[hidden] { display: none !important; }` so we also need the `!important` here to be able to override the default hidden behavior on the sphinx rendered scikit-learn.org. See: https://github.com/scikit-learn/scikit-learn/issues/21755 */display: inline-block !important;position: relative;}#sk-container-id-29 div.sk-text-repr-fallback {display: none;}</style><div id=\"sk-container-id-29\" class=\"sk-top-container\"><div class=\"sk-text-repr-fallback\"><pre>RFECV(estimator=SVC(C=0.1, kernel=&#x27;linear&#x27;, max_iter=100000000),\n",
              "      min_features_to_select=25, scoring=&#x27;accuracy&#x27;)</pre><b>In a Jupyter environment, please rerun this cell to show the HTML representation or trust the notebook. <br />On GitHub, the HTML representation is unable to render, please try loading this page with nbviewer.org.</b></div><div class=\"sk-container\" hidden><div class=\"sk-item sk-dashed-wrapped\"><div class=\"sk-label-container\"><div class=\"sk-label sk-toggleable\"><input class=\"sk-toggleable__control sk-hidden--visually\" id=\"sk-estimator-id-85\" type=\"checkbox\" ><label for=\"sk-estimator-id-85\" class=\"sk-toggleable__label sk-toggleable__label-arrow\">RFECV</label><div class=\"sk-toggleable__content\"><pre>RFECV(estimator=SVC(C=0.1, kernel=&#x27;linear&#x27;, max_iter=100000000),\n",
              "      min_features_to_select=25, scoring=&#x27;accuracy&#x27;)</pre></div></div></div><div class=\"sk-parallel\"><div class=\"sk-parallel-item\"><div class=\"sk-item\"><div class=\"sk-label-container\"><div class=\"sk-label sk-toggleable\"><input class=\"sk-toggleable__control sk-hidden--visually\" id=\"sk-estimator-id-86\" type=\"checkbox\" ><label for=\"sk-estimator-id-86\" class=\"sk-toggleable__label sk-toggleable__label-arrow\">estimator: SVC</label><div class=\"sk-toggleable__content\"><pre>SVC(C=0.1, kernel=&#x27;linear&#x27;, max_iter=100000000)</pre></div></div></div><div class=\"sk-serial\"><div class=\"sk-item\"><div class=\"sk-estimator sk-toggleable\"><input class=\"sk-toggleable__control sk-hidden--visually\" id=\"sk-estimator-id-87\" type=\"checkbox\" ><label for=\"sk-estimator-id-87\" class=\"sk-toggleable__label sk-toggleable__label-arrow\">SVC</label><div class=\"sk-toggleable__content\"><pre>SVC(C=0.1, kernel=&#x27;linear&#x27;, max_iter=100000000)</pre></div></div></div></div></div></div></div></div></div></div>"
            ]
          },
          "metadata": {},
          "execution_count": 170
        }
      ]
    },
    {
      "cell_type": "code",
      "source": [
        "# print best mean accuracy obtained in RFECV\n",
        "print(max(svc_mc_rfe.cv_results_[\"mean_test_score\"]))"
      ],
      "metadata": {
        "colab": {
          "base_uri": "https://localhost:8080/"
        },
        "id": "8jTypdl5RwQr",
        "outputId": "0fe7c5e5-0a19-4de9-a9bb-a1cf287cacba"
      },
      "execution_count": null,
      "outputs": [
        {
          "output_type": "stream",
          "name": "stdout",
          "text": [
            "0.7835483316133471\n"
          ]
        }
      ]
    },
    {
      "cell_type": "markdown",
      "source": [
        "RFECV on X for the Random Forest Classification Model."
      ],
      "metadata": {
        "id": "qKL5cjkZSaJi"
      }
    },
    {
      "cell_type": "code",
      "source": [
        "# perform RFECV on Random Forest Classifier Binary Classification\n",
        "rndf_bin_rfe = RFECV(estimator = rndf_binary, scoring = 'f1', min_features_to_select = 20)\n",
        "rndf_bin_rfe.fit(X, y)"
      ],
      "metadata": {
        "colab": {
          "base_uri": "https://localhost:8080/",
          "height": 116
        },
        "id": "zmQUcgKPSYhH",
        "outputId": "cadf211d-b100-44c5-af86-6fde5acc60d4"
      },
      "execution_count": null,
      "outputs": [
        {
          "output_type": "execute_result",
          "data": {
            "text/plain": [
              "RFECV(estimator=RandomForestClassifier(max_depth=2, max_features=51),\n",
              "      min_features_to_select=20, scoring='f1')"
            ],
            "text/html": [
              "<style>#sk-container-id-31 {color: black;background-color: white;}#sk-container-id-31 pre{padding: 0;}#sk-container-id-31 div.sk-toggleable {background-color: white;}#sk-container-id-31 label.sk-toggleable__label {cursor: pointer;display: block;width: 100%;margin-bottom: 0;padding: 0.3em;box-sizing: border-box;text-align: center;}#sk-container-id-31 label.sk-toggleable__label-arrow:before {content: \"▸\";float: left;margin-right: 0.25em;color: #696969;}#sk-container-id-31 label.sk-toggleable__label-arrow:hover:before {color: black;}#sk-container-id-31 div.sk-estimator:hover label.sk-toggleable__label-arrow:before {color: black;}#sk-container-id-31 div.sk-toggleable__content {max-height: 0;max-width: 0;overflow: hidden;text-align: left;background-color: #f0f8ff;}#sk-container-id-31 div.sk-toggleable__content pre {margin: 0.2em;color: black;border-radius: 0.25em;background-color: #f0f8ff;}#sk-container-id-31 input.sk-toggleable__control:checked~div.sk-toggleable__content {max-height: 200px;max-width: 100%;overflow: auto;}#sk-container-id-31 input.sk-toggleable__control:checked~label.sk-toggleable__label-arrow:before {content: \"▾\";}#sk-container-id-31 div.sk-estimator input.sk-toggleable__control:checked~label.sk-toggleable__label {background-color: #d4ebff;}#sk-container-id-31 div.sk-label input.sk-toggleable__control:checked~label.sk-toggleable__label {background-color: #d4ebff;}#sk-container-id-31 input.sk-hidden--visually {border: 0;clip: rect(1px 1px 1px 1px);clip: rect(1px, 1px, 1px, 1px);height: 1px;margin: -1px;overflow: hidden;padding: 0;position: absolute;width: 1px;}#sk-container-id-31 div.sk-estimator {font-family: monospace;background-color: #f0f8ff;border: 1px dotted black;border-radius: 0.25em;box-sizing: border-box;margin-bottom: 0.5em;}#sk-container-id-31 div.sk-estimator:hover {background-color: #d4ebff;}#sk-container-id-31 div.sk-parallel-item::after {content: \"\";width: 100%;border-bottom: 1px solid gray;flex-grow: 1;}#sk-container-id-31 div.sk-label:hover label.sk-toggleable__label {background-color: #d4ebff;}#sk-container-id-31 div.sk-serial::before {content: \"\";position: absolute;border-left: 1px solid gray;box-sizing: border-box;top: 0;bottom: 0;left: 50%;z-index: 0;}#sk-container-id-31 div.sk-serial {display: flex;flex-direction: column;align-items: center;background-color: white;padding-right: 0.2em;padding-left: 0.2em;position: relative;}#sk-container-id-31 div.sk-item {position: relative;z-index: 1;}#sk-container-id-31 div.sk-parallel {display: flex;align-items: stretch;justify-content: center;background-color: white;position: relative;}#sk-container-id-31 div.sk-item::before, #sk-container-id-31 div.sk-parallel-item::before {content: \"\";position: absolute;border-left: 1px solid gray;box-sizing: border-box;top: 0;bottom: 0;left: 50%;z-index: -1;}#sk-container-id-31 div.sk-parallel-item {display: flex;flex-direction: column;z-index: 1;position: relative;background-color: white;}#sk-container-id-31 div.sk-parallel-item:first-child::after {align-self: flex-end;width: 50%;}#sk-container-id-31 div.sk-parallel-item:last-child::after {align-self: flex-start;width: 50%;}#sk-container-id-31 div.sk-parallel-item:only-child::after {width: 0;}#sk-container-id-31 div.sk-dashed-wrapped {border: 1px dashed gray;margin: 0 0.4em 0.5em 0.4em;box-sizing: border-box;padding-bottom: 0.4em;background-color: white;}#sk-container-id-31 div.sk-label label {font-family: monospace;font-weight: bold;display: inline-block;line-height: 1.2em;}#sk-container-id-31 div.sk-label-container {text-align: center;}#sk-container-id-31 div.sk-container {/* jupyter's `normalize.less` sets `[hidden] { display: none; }` but bootstrap.min.css set `[hidden] { display: none !important; }` so we also need the `!important` here to be able to override the default hidden behavior on the sphinx rendered scikit-learn.org. See: https://github.com/scikit-learn/scikit-learn/issues/21755 */display: inline-block !important;position: relative;}#sk-container-id-31 div.sk-text-repr-fallback {display: none;}</style><div id=\"sk-container-id-31\" class=\"sk-top-container\"><div class=\"sk-text-repr-fallback\"><pre>RFECV(estimator=RandomForestClassifier(max_depth=2, max_features=51),\n",
              "      min_features_to_select=20, scoring=&#x27;f1&#x27;)</pre><b>In a Jupyter environment, please rerun this cell to show the HTML representation or trust the notebook. <br />On GitHub, the HTML representation is unable to render, please try loading this page with nbviewer.org.</b></div><div class=\"sk-container\" hidden><div class=\"sk-item sk-dashed-wrapped\"><div class=\"sk-label-container\"><div class=\"sk-label sk-toggleable\"><input class=\"sk-toggleable__control sk-hidden--visually\" id=\"sk-estimator-id-91\" type=\"checkbox\" ><label for=\"sk-estimator-id-91\" class=\"sk-toggleable__label sk-toggleable__label-arrow\">RFECV</label><div class=\"sk-toggleable__content\"><pre>RFECV(estimator=RandomForestClassifier(max_depth=2, max_features=51),\n",
              "      min_features_to_select=20, scoring=&#x27;f1&#x27;)</pre></div></div></div><div class=\"sk-parallel\"><div class=\"sk-parallel-item\"><div class=\"sk-item\"><div class=\"sk-label-container\"><div class=\"sk-label sk-toggleable\"><input class=\"sk-toggleable__control sk-hidden--visually\" id=\"sk-estimator-id-92\" type=\"checkbox\" ><label for=\"sk-estimator-id-92\" class=\"sk-toggleable__label sk-toggleable__label-arrow\">estimator: RandomForestClassifier</label><div class=\"sk-toggleable__content\"><pre>RandomForestClassifier(max_depth=2, max_features=51)</pre></div></div></div><div class=\"sk-serial\"><div class=\"sk-item\"><div class=\"sk-estimator sk-toggleable\"><input class=\"sk-toggleable__control sk-hidden--visually\" id=\"sk-estimator-id-93\" type=\"checkbox\" ><label for=\"sk-estimator-id-93\" class=\"sk-toggleable__label sk-toggleable__label-arrow\">RandomForestClassifier</label><div class=\"sk-toggleable__content\"><pre>RandomForestClassifier(max_depth=2, max_features=51)</pre></div></div></div></div></div></div></div></div></div></div>"
            ]
          },
          "metadata": {},
          "execution_count": 177
        }
      ]
    },
    {
      "cell_type": "code",
      "source": [
        "# print best mean f1-score obtained in RFECV\n",
        "print(max(rndf_bin_rfe.cv_results_[\"mean_test_score\"]))"
      ],
      "metadata": {
        "colab": {
          "base_uri": "https://localhost:8080/"
        },
        "id": "m98E3A0_XQhX",
        "outputId": "f5ab1ea1-1a32-4009-f552-b1f2fd45a832"
      },
      "execution_count": null,
      "outputs": [
        {
          "output_type": "stream",
          "name": "stdout",
          "text": [
            "0.6825542547171868\n"
          ]
        }
      ]
    },
    {
      "cell_type": "code",
      "source": [
        "# perform RFECV on Random Forest Classifier Multi-Class Classification\n",
        "rndf_mc_rfe = RFECV(estimator = rndf_mc, scoring = 'accuracy', min_features_to_select = 20)\n",
        "rndf_mc_rfe.fit(X, z)"
      ],
      "metadata": {
        "colab": {
          "base_uri": "https://localhost:8080/",
          "height": 116
        },
        "id": "xTBsWB6kXxhm",
        "outputId": "1ac74557-1472-4350-d11c-e54b4c4135fd"
      },
      "execution_count": null,
      "outputs": [
        {
          "output_type": "execute_result",
          "data": {
            "text/plain": [
              "RFECV(estimator=RandomForestClassifier(max_depth=9, max_features=4),\n",
              "      min_features_to_select=20, scoring='accuracy')"
            ],
            "text/html": [
              "<style>#sk-container-id-32 {color: black;background-color: white;}#sk-container-id-32 pre{padding: 0;}#sk-container-id-32 div.sk-toggleable {background-color: white;}#sk-container-id-32 label.sk-toggleable__label {cursor: pointer;display: block;width: 100%;margin-bottom: 0;padding: 0.3em;box-sizing: border-box;text-align: center;}#sk-container-id-32 label.sk-toggleable__label-arrow:before {content: \"▸\";float: left;margin-right: 0.25em;color: #696969;}#sk-container-id-32 label.sk-toggleable__label-arrow:hover:before {color: black;}#sk-container-id-32 div.sk-estimator:hover label.sk-toggleable__label-arrow:before {color: black;}#sk-container-id-32 div.sk-toggleable__content {max-height: 0;max-width: 0;overflow: hidden;text-align: left;background-color: #f0f8ff;}#sk-container-id-32 div.sk-toggleable__content pre {margin: 0.2em;color: black;border-radius: 0.25em;background-color: #f0f8ff;}#sk-container-id-32 input.sk-toggleable__control:checked~div.sk-toggleable__content {max-height: 200px;max-width: 100%;overflow: auto;}#sk-container-id-32 input.sk-toggleable__control:checked~label.sk-toggleable__label-arrow:before {content: \"▾\";}#sk-container-id-32 div.sk-estimator input.sk-toggleable__control:checked~label.sk-toggleable__label {background-color: #d4ebff;}#sk-container-id-32 div.sk-label input.sk-toggleable__control:checked~label.sk-toggleable__label {background-color: #d4ebff;}#sk-container-id-32 input.sk-hidden--visually {border: 0;clip: rect(1px 1px 1px 1px);clip: rect(1px, 1px, 1px, 1px);height: 1px;margin: -1px;overflow: hidden;padding: 0;position: absolute;width: 1px;}#sk-container-id-32 div.sk-estimator {font-family: monospace;background-color: #f0f8ff;border: 1px dotted black;border-radius: 0.25em;box-sizing: border-box;margin-bottom: 0.5em;}#sk-container-id-32 div.sk-estimator:hover {background-color: #d4ebff;}#sk-container-id-32 div.sk-parallel-item::after {content: \"\";width: 100%;border-bottom: 1px solid gray;flex-grow: 1;}#sk-container-id-32 div.sk-label:hover label.sk-toggleable__label {background-color: #d4ebff;}#sk-container-id-32 div.sk-serial::before {content: \"\";position: absolute;border-left: 1px solid gray;box-sizing: border-box;top: 0;bottom: 0;left: 50%;z-index: 0;}#sk-container-id-32 div.sk-serial {display: flex;flex-direction: column;align-items: center;background-color: white;padding-right: 0.2em;padding-left: 0.2em;position: relative;}#sk-container-id-32 div.sk-item {position: relative;z-index: 1;}#sk-container-id-32 div.sk-parallel {display: flex;align-items: stretch;justify-content: center;background-color: white;position: relative;}#sk-container-id-32 div.sk-item::before, #sk-container-id-32 div.sk-parallel-item::before {content: \"\";position: absolute;border-left: 1px solid gray;box-sizing: border-box;top: 0;bottom: 0;left: 50%;z-index: -1;}#sk-container-id-32 div.sk-parallel-item {display: flex;flex-direction: column;z-index: 1;position: relative;background-color: white;}#sk-container-id-32 div.sk-parallel-item:first-child::after {align-self: flex-end;width: 50%;}#sk-container-id-32 div.sk-parallel-item:last-child::after {align-self: flex-start;width: 50%;}#sk-container-id-32 div.sk-parallel-item:only-child::after {width: 0;}#sk-container-id-32 div.sk-dashed-wrapped {border: 1px dashed gray;margin: 0 0.4em 0.5em 0.4em;box-sizing: border-box;padding-bottom: 0.4em;background-color: white;}#sk-container-id-32 div.sk-label label {font-family: monospace;font-weight: bold;display: inline-block;line-height: 1.2em;}#sk-container-id-32 div.sk-label-container {text-align: center;}#sk-container-id-32 div.sk-container {/* jupyter's `normalize.less` sets `[hidden] { display: none; }` but bootstrap.min.css set `[hidden] { display: none !important; }` so we also need the `!important` here to be able to override the default hidden behavior on the sphinx rendered scikit-learn.org. See: https://github.com/scikit-learn/scikit-learn/issues/21755 */display: inline-block !important;position: relative;}#sk-container-id-32 div.sk-text-repr-fallback {display: none;}</style><div id=\"sk-container-id-32\" class=\"sk-top-container\"><div class=\"sk-text-repr-fallback\"><pre>RFECV(estimator=RandomForestClassifier(max_depth=9, max_features=4),\n",
              "      min_features_to_select=20, scoring=&#x27;accuracy&#x27;)</pre><b>In a Jupyter environment, please rerun this cell to show the HTML representation or trust the notebook. <br />On GitHub, the HTML representation is unable to render, please try loading this page with nbviewer.org.</b></div><div class=\"sk-container\" hidden><div class=\"sk-item sk-dashed-wrapped\"><div class=\"sk-label-container\"><div class=\"sk-label sk-toggleable\"><input class=\"sk-toggleable__control sk-hidden--visually\" id=\"sk-estimator-id-94\" type=\"checkbox\" ><label for=\"sk-estimator-id-94\" class=\"sk-toggleable__label sk-toggleable__label-arrow\">RFECV</label><div class=\"sk-toggleable__content\"><pre>RFECV(estimator=RandomForestClassifier(max_depth=9, max_features=4),\n",
              "      min_features_to_select=20, scoring=&#x27;accuracy&#x27;)</pre></div></div></div><div class=\"sk-parallel\"><div class=\"sk-parallel-item\"><div class=\"sk-item\"><div class=\"sk-label-container\"><div class=\"sk-label sk-toggleable\"><input class=\"sk-toggleable__control sk-hidden--visually\" id=\"sk-estimator-id-95\" type=\"checkbox\" ><label for=\"sk-estimator-id-95\" class=\"sk-toggleable__label sk-toggleable__label-arrow\">estimator: RandomForestClassifier</label><div class=\"sk-toggleable__content\"><pre>RandomForestClassifier(max_depth=9, max_features=4)</pre></div></div></div><div class=\"sk-serial\"><div class=\"sk-item\"><div class=\"sk-estimator sk-toggleable\"><input class=\"sk-toggleable__control sk-hidden--visually\" id=\"sk-estimator-id-96\" type=\"checkbox\" ><label for=\"sk-estimator-id-96\" class=\"sk-toggleable__label sk-toggleable__label-arrow\">RandomForestClassifier</label><div class=\"sk-toggleable__content\"><pre>RandomForestClassifier(max_depth=9, max_features=4)</pre></div></div></div></div></div></div></div></div></div></div>"
            ]
          },
          "metadata": {},
          "execution_count": 178
        }
      ]
    },
    {
      "cell_type": "code",
      "source": [
        "# print best mean accuracy obtained in RFECV\n",
        "print(max(rndf_mc_rfe.cv_results_[\"mean_test_score\"]))"
      ],
      "metadata": {
        "colab": {
          "base_uri": "https://localhost:8080/"
        },
        "id": "N4tAOPylX6i7",
        "outputId": "a4d25360-c42d-42a0-f8a6-3d7ee6f3d2e5"
      },
      "execution_count": null,
      "outputs": [
        {
          "output_type": "stream",
          "name": "stdout",
          "text": [
            "0.690325077399381\n"
          ]
        }
      ]
    },
    {
      "cell_type": "markdown",
      "source": [
        "#### Question 8."
      ],
      "metadata": {
        "id": "cjB6JfqH6OFI"
      }
    },
    {
      "cell_type": "markdown",
      "source": [
        "We obtained $<0.7$ scores for both Binary and Multi-Class Classifications using the Random Forest Classifier model even after RFECV. So, it's not worth testing over. Whereas with Linear SVM we got $0.78-0.79$ -ish scores for both Binary and Multi-Class Classification after RFECV, we can go ahead with testing this model on test data. Also, the RBF Kernel SVM gave amazing F1-Score of about $0.81$ for the Binary Classification. We'll go ahead and test this model's performance on test data as well. The Neural Network model performed okayish compared to these above three models, so, we'll not test it with test data."
      ],
      "metadata": {
        "id": "siJPC3SBVBEb"
      }
    },
    {
      "cell_type": "code",
      "source": [
        "# read test data into a pandas dataframe\n",
        "mouse_test = pd.read_csv('https://www.ee.iitb.ac.in/~asethi/Dump/MouseTest.csv')\n",
        "\n",
        "# define X_test (features of test data)\n",
        "X_test = mouse_test[X.columns.tolist()]\n",
        "\n",
        "# define y_test_bin for binary classification\n",
        "y_test_bin = mouse_test[\"Genotype\"]\n",
        "y_test_bin = y_test_bin.replace({\"Control\": 0, \"Ts65Dn\": 1})\n",
        "\n",
        "# define y_test_mc for multi-class classification\n",
        "y_test_mc = mouse_test[\"Treatment_Behavior\"]"
      ],
      "metadata": {
        "id": "X86-dYNz_m_M"
      },
      "execution_count": null,
      "outputs": []
    },
    {
      "cell_type": "code",
      "source": [
        "# check if there are any columns in X_test with NaN values\n",
        "X_test.isna().any().sum()"
      ],
      "metadata": {
        "colab": {
          "base_uri": "https://localhost:8080/"
        },
        "id": "U4pn4j1J_8mA",
        "outputId": "fddd5ea9-d307-4658-c1b3-3148635cb671"
      },
      "execution_count": null,
      "outputs": [
        {
          "output_type": "execute_result",
          "data": {
            "text/plain": [
              "0"
            ]
          },
          "metadata": {},
          "execution_count": 43
        }
      ]
    },
    {
      "cell_type": "markdown",
      "source": [
        "Since there are no NaN values in X_test, we'll skip the imputing part as it's not required."
      ],
      "metadata": {
        "id": "QqWAuhe6T2ss"
      }
    },
    {
      "cell_type": "code",
      "source": [
        "# scale the data to have mean 0 and variance 1\n",
        "X_test = pd.DataFrame(scaler.fit_transform(X_test), columns = X_test.columns.tolist())"
      ],
      "metadata": {
        "id": "35_ykTtAAPxO"
      },
      "execution_count": null,
      "outputs": []
    },
    {
      "cell_type": "code",
      "source": [
        "# predict y values for binary and multi-class classifications of Linear SVM model (post RFECV)\n",
        "y_pred_bin = svc_bin_rfe.predict(X_test)\n",
        "y_pred_mc = svc_mc_rfe.predict(X_test)\n",
        "\n",
        "# display classification reports for both classifications\n",
        "print(classification_report(y_test_bin, y_pred_bin))\n",
        "print(classification_report(y_test_mc, y_pred_mc))"
      ],
      "metadata": {
        "colab": {
          "base_uri": "https://localhost:8080/"
        },
        "id": "Alpgs6xW6P7D",
        "outputId": "dd9c8a24-c09f-4549-fca5-3501405d7346"
      },
      "execution_count": null,
      "outputs": [
        {
          "output_type": "stream",
          "name": "stdout",
          "text": [
            "              precision    recall  f1-score   support\n",
            "\n",
            "           0       0.88      0.79      0.83       135\n",
            "           1       0.72      0.84      0.78        90\n",
            "\n",
            "    accuracy                           0.81       225\n",
            "   macro avg       0.80      0.81      0.81       225\n",
            "weighted avg       0.82      0.81      0.81       225\n",
            "\n",
            "               precision    recall  f1-score   support\n",
            "\n",
            "Memantine_C/S       0.65      0.87      0.74        60\n",
            "Memantine_S/C       0.94      1.00      0.97        60\n",
            "   Saline_C/S       0.80      0.53      0.64        60\n",
            "   Saline_S/C       1.00      0.91      0.95        45\n",
            "\n",
            "     accuracy                           0.82       225\n",
            "    macro avg       0.85      0.83      0.83       225\n",
            " weighted avg       0.84      0.82      0.82       225\n",
            "\n"
          ]
        }
      ]
    },
    {
      "cell_type": "markdown",
      "source": [
        "We obtained an F1-Score of 0.78 for 'Ts65Dn' class, which is decent enough. And we obtained an accuracy of 0.82 for the multi-class classification, which is also good."
      ],
      "metadata": {
        "id": "ObSbd_CdURoV"
      }
    },
    {
      "cell_type": "code",
      "source": [
        "# predict y values for binary classification of RBF Kernel SVM model\n",
        "y_pred_bin = rbf_binary.predict(X_test)\n",
        "\n",
        "# display the classification report\n",
        "print(classification_report(y_test_bin, y_pred_bin))"
      ],
      "metadata": {
        "colab": {
          "base_uri": "https://localhost:8080/"
        },
        "id": "G8so35Kw3P1r",
        "outputId": "6f1655c2-8c80-4eb5-af7c-0b7d5bbc2223"
      },
      "execution_count": null,
      "outputs": [
        {
          "output_type": "stream",
          "name": "stdout",
          "text": [
            "              precision    recall  f1-score   support\n",
            "\n",
            "           0       0.88      0.73      0.80       135\n",
            "           1       0.68      0.86      0.75        90\n",
            "\n",
            "    accuracy                           0.78       225\n",
            "   macro avg       0.78      0.79      0.78       225\n",
            "weighted avg       0.80      0.78      0.78       225\n",
            "\n"
          ]
        }
      ]
    },
    {
      "cell_type": "markdown",
      "source": [
        "We obtained an F1-Score of 0.75 for 'Ts65Dn' class on test data for the Binary CLassification by RBF Kernel SVM. That's a pretty good score too, just a little less than the score obtained from Linear SVM."
      ],
      "metadata": {
        "id": "cFxPsjI5rZem"
      }
    },
    {
      "cell_type": "markdown",
      "source": [
        "### **Objective 2.**"
      ],
      "metadata": {
        "id": "-8KinHk90lNa"
      }
    },
    {
      "cell_type": "markdown",
      "source": [
        "#### Question 9.  \n",
        "Implementing the PyTorch tutorial https://pytorch.org/tutorials/beginner/transfer_learning_tutorial.html as is and checking its working, except for Fine Tuning ConvNet section."
      ],
      "metadata": {
        "id": "WzNUEiHn0q-Y"
      }
    },
    {
      "cell_type": "code",
      "source": [
        "# License: BSD\n",
        "# Author: Sasank Chilamkurthy\n",
        "\n",
        "from __future__ import print_function, division\n",
        "\n",
        "import torch\n",
        "import torch.nn as nn\n",
        "import torch.optim as optim\n",
        "from torch.optim import lr_scheduler\n",
        "import torch.backends.cudnn as cudnn\n",
        "import torchvision\n",
        "from torchvision import datasets, models, transforms\n",
        "import time\n",
        "import os\n",
        "import copy\n",
        "\n",
        "cudnn.benchmark = True\n",
        "plt.ion()   # interactive mode"
      ],
      "metadata": {
        "colab": {
          "base_uri": "https://localhost:8080/"
        },
        "id": "yi9D0CGbpZbe",
        "outputId": "a9d73089-a364-4045-ad1d-4314786c91c6"
      },
      "execution_count": null,
      "outputs": [
        {
          "output_type": "execute_result",
          "data": {
            "text/plain": [
              "<matplotlib.pyplot._IonContext at 0x7f01f5dd81c0>"
            ]
          },
          "metadata": {},
          "execution_count": 2
        }
      ]
    },
    {
      "cell_type": "code",
      "source": [
        "# Data augmentation and normalization for training\n",
        "# Just normalization for validation\n",
        "data_transforms = {\n",
        "    'train': transforms.Compose([\n",
        "        transforms.RandomResizedCrop(224),\n",
        "        transforms.RandomHorizontalFlip(),\n",
        "        transforms.ToTensor(),\n",
        "        transforms.Normalize([0.485, 0.456, 0.406], [0.229, 0.224, 0.225])\n",
        "    ]),\n",
        "    'val': transforms.Compose([\n",
        "        transforms.Resize(256),\n",
        "        transforms.CenterCrop(224),\n",
        "        transforms.ToTensor(),\n",
        "        transforms.Normalize([0.485, 0.456, 0.406], [0.229, 0.224, 0.225])\n",
        "    ]),\n",
        "}\n",
        "\n",
        "data_dir = 'drive/MyDrive/Colab Notebooks/hymenoptera_data'\n",
        "image_datasets = {x: datasets.ImageFolder(os.path.join(data_dir, x),\n",
        "                                          data_transforms[x])\n",
        "                  for x in ['train', 'val']}\n",
        "dataloaders = {x: torch.utils.data.DataLoader(image_datasets[x], batch_size=4,\n",
        "                                             shuffle=True, num_workers=2)\n",
        "              for x in ['train', 'val']}\n",
        "dataset_sizes = {x: len(image_datasets[x]) for x in ['train', 'val']}\n",
        "class_names = image_datasets['train'].classes\n",
        "\n",
        "device = torch.device(\"cuda:0\" if torch.cuda.is_available() else \"cpu\")"
      ],
      "metadata": {
        "id": "-wxzwxUDp1-W"
      },
      "execution_count": null,
      "outputs": []
    },
    {
      "cell_type": "code",
      "source": [
        "def imshow(inp, title=None):\n",
        "    \"\"\"Imshow for Tensor.\"\"\"\n",
        "    inp = inp.numpy().transpose((1, 2, 0))\n",
        "    mean = np.array([0.485, 0.456, 0.406])\n",
        "    std = np.array([0.229, 0.224, 0.225])\n",
        "    inp = std * inp + mean\n",
        "    inp = np.clip(inp, 0, 1)\n",
        "    plt.imshow(inp)\n",
        "    if title is not None:\n",
        "        plt.title(title)\n",
        "    plt.pause(0.001)  # pause a bit so that plots are updated\n",
        "\n",
        "\n",
        "# Get a batch of training data\n",
        "inputs, classes = next(iter(dataloaders['train']))\n",
        "\n",
        "# Make a grid from batch\n",
        "out = torchvision.utils.make_grid(inputs)\n",
        "\n",
        "imshow(out, title=[class_names[x] for x in classes])"
      ],
      "metadata": {
        "colab": {
          "base_uri": "https://localhost:8080/",
          "height": 148
        },
        "id": "Um4HRbgdzlqJ",
        "outputId": "70d2d19f-35fe-4f72-8025-7edeb3bc7c95"
      },
      "execution_count": null,
      "outputs": [
        {
          "output_type": "display_data",
          "data": {
            "text/plain": [
              "<Figure size 432x288 with 1 Axes>"
            ],
            "image/png": "[encoded data removed]"
          },
          "metadata": {
            "needs_background": "light"
          }
        }
      ]
    },
    {
      "cell_type": "code",
      "source": [
        "def train_model(model, criterion, optimizer, scheduler, num_epochs=25):\n",
        "    since = time.time()\n",
        "\n",
        "    best_model_wts = copy.deepcopy(model.state_dict())\n",
        "    best_acc = 0.0\n",
        "\n",
        "    for epoch in range(num_epochs):\n",
        "        print(f'Epoch {epoch}/{num_epochs - 1}')\n",
        "        print('-' * 10)\n",
        "\n",
        "        # Each epoch has a training and validation phase\n",
        "        for phase in ['train', 'val']:\n",
        "            if phase == 'train':\n",
        "                model.train()  # Set model to training mode\n",
        "            else:\n",
        "                model.eval()   # Set model to evaluate mode\n",
        "\n",
        "            running_loss = 0.0\n",
        "            running_corrects = 0\n",
        "\n",
        "            # Iterate over data.\n",
        "            for inputs, labels in dataloaders[phase]:\n",
        "                inputs = inputs.to(device)\n",
        "                labels = labels.to(device)\n",
        "\n",
        "                # zero the parameter gradients\n",
        "                optimizer.zero_grad()\n",
        "\n",
        "                # forward\n",
        "                # track history if only in train\n",
        "                with torch.set_grad_enabled(phase == 'train'):\n",
        "                    outputs = model(inputs)\n",
        "                    _, preds = torch.max(outputs, 1)\n",
        "                    loss = criterion(outputs, labels)\n",
        "\n",
        "                    # backward + optimize only if in training phase\n",
        "                    if phase == 'train':\n",
        "                        loss.backward()\n",
        "                        optimizer.step()\n",
        "\n",
        "                # statistics\n",
        "                running_loss += loss.item() * inputs.size(0)\n",
        "                running_corrects += torch.sum(preds == labels.data)\n",
        "            if phase == 'train':\n",
        "                scheduler.step()\n",
        "\n",
        "            epoch_loss = running_loss / dataset_sizes[phase]\n",
        "            epoch_acc = running_corrects.double() / dataset_sizes[phase]\n",
        "\n",
        "            print(f'{phase} Loss: {epoch_loss:.4f} Acc: {epoch_acc:.4f}')\n",
        "\n",
        "            # deep copy the model\n",
        "            if phase == 'val' and epoch_acc > best_acc:\n",
        "                best_acc = epoch_acc\n",
        "                best_model_wts = copy.deepcopy(model.state_dict())\n",
        "\n",
        "        print()\n",
        "\n",
        "    time_elapsed = time.time() - since\n",
        "    print(f'Training complete in {time_elapsed // 60:.0f}m {time_elapsed % 60:.0f}s')\n",
        "    print(f'Best val Acc: {best_acc:4f}')\n",
        "\n",
        "    # load best model weights\n",
        "    model.load_state_dict(best_model_wts)\n",
        "    return model"
      ],
      "metadata": {
        "id": "MreOhlcPz8Ug"
      },
      "execution_count": null,
      "outputs": []
    },
    {
      "cell_type": "code",
      "source": [
        "def visualize_model(model, num_images=6):\n",
        "    was_training = model.training\n",
        "    model.eval()\n",
        "    images_so_far = 0\n",
        "    fig = plt.figure()\n",
        "\n",
        "    with torch.no_grad():\n",
        "        for i, (inputs, labels) in enumerate(dataloaders['val']):\n",
        "            inputs = inputs.to(device)\n",
        "            labels = labels.to(device)\n",
        "\n",
        "            outputs = model(inputs)\n",
        "            _, preds = torch.max(outputs, 1)\n",
        "\n",
        "            for j in range(inputs.size()[0]):\n",
        "                images_so_far += 1\n",
        "                ax = plt.subplot(num_images//2, 2, images_so_far)\n",
        "                ax.axis('off')\n",
        "                ax.set_title(f'predicted: {class_names[preds[j]]}')\n",
        "                imshow(inputs.cpu().data[j])\n",
        "\n",
        "                if images_so_far == num_images:\n",
        "                    model.train(mode=was_training)\n",
        "                    return\n",
        "        model.train(mode=was_training)"
      ],
      "metadata": {
        "id": "fes8A3xq0ILO"
      },
      "execution_count": null,
      "outputs": []
    },
    {
      "cell_type": "code",
      "source": [
        "model_conv = torchvision.models.resnet18(pretrained=True)\n",
        "for param in model_conv.parameters():\n",
        "    param.requires_grad = False\n",
        "\n",
        "# Parameters of newly constructed modules have requires_grad=True by default\n",
        "num_ftrs = model_conv.fc.in_features\n",
        "model_conv.fc = nn.Linear(num_ftrs, 2)\n",
        "\n",
        "model_conv = model_conv.to(device)\n",
        "\n",
        "criterion = nn.CrossEntropyLoss()\n",
        "\n",
        "# Observe that only parameters of final layer are being optimized as\n",
        "# opposed to before.\n",
        "optimizer_conv = optim.SGD(model_conv.fc.parameters(), lr=0.001, momentum=0.9)\n",
        "\n",
        "# Decay LR by a factor of 0.1 every 7 epochs\n",
        "exp_lr_scheduler = lr_scheduler.StepLR(optimizer_conv, step_size=7, gamma=0.1)"
      ],
      "metadata": {
        "colab": {
          "base_uri": "https://localhost:8080/",
          "height": 156,
          "referenced_widgets": [
            "ee738775c71e43e2a28f7dd16a16d286",
            "b986738f7cc84bf08388392d0c572270",
            "07de98432a2147ef9aa16d63b1c843b2",
            "6cf1b31d138540079d683dfeaf547000",
            "57fc4fab4f114dd5a3b06b134516462f",
            "31cb9d6ffa094403af666f2d8015a843",
            "295aa2926e5d4072bedd266d36d32f8a",
            "70300f10e7fc44c5b6600bb510d7662e",
            "d6d783d3f2354613acb37d620e0a6913",
            "39b38e1c49234b1a86aad065033192d8",
            "0e46811d3df04fe293f1468e84dc71fb"
          ]
        },
        "id": "FecHjzjv3vf8",
        "outputId": "75cd9066-787f-4827-9718-89e64d81a015"
      },
      "execution_count": null,
      "outputs": [
        {
          "output_type": "stream",
          "name": "stderr",
          "text": [
            "/usr/local/lib/python3.9/dist-packages/torchvision/models/_utils.py:208: UserWarning: The parameter 'pretrained' is deprecated since 0.13 and may be removed in the future, please use 'weights' instead.\n",
            "  warnings.warn(\n",
            "/usr/local/lib/python3.9/dist-packages/torchvision/models/_utils.py:223: UserWarning: Arguments other than a weight enum or `None` for 'weights' are deprecated since 0.13 and may be removed in the future. The current behavior is equivalent to passing `weights=ResNet18_Weights.IMAGENET1K_V1`. You can also use `weights=ResNet18_Weights.DEFAULT` to get the most up-to-date weights.\n",
            "  warnings.warn(msg)\n",
            "Downloading: \"https://download.pytorch.org/models/resnet18-f37072fd.pth\" to /root/.cache/torch/hub/checkpoints/resnet18-f37072fd.pth\n"
          ]
        },
        {
          "output_type": "display_data",
          "data": {
            "text/plain": [
              "  0%|          | 0.00/44.7M [00:00<?, ?B/s]"
            ],
            "application/vnd.jupyter.widget-view+json": {
              "version_major": 2,
              "version_minor": 0,
              "model_id": "ee738775c71e43e2a28f7dd16a16d286"
            }
          },
          "metadata": {}
        }
      ]
    },
    {
      "cell_type": "code",
      "source": [
        "model_conv = train_model(model_conv, criterion, optimizer_conv,\n",
        "                         exp_lr_scheduler, num_epochs=25)"
      ],
      "metadata": {
        "colab": {
          "base_uri": "https://localhost:8080/"
        },
        "id": "NSourJYE4Jha",
        "outputId": "0610ee7e-6f34-4066-863b-2a0182d2b6b3"
      },
      "execution_count": null,
      "outputs": [
        {
          "output_type": "stream",
          "name": "stdout",
          "text": [
            "Epoch 0/24\n",
            "----------\n",
            "train Loss: 0.5338 Acc: 0.7213\n",
            "val Loss: 0.2309 Acc: 0.9281\n",
            "\n",
            "Epoch 1/24\n",
            "----------\n",
            "train Loss: 0.5521 Acc: 0.7336\n",
            "val Loss: 0.3090 Acc: 0.8758\n",
            "\n",
            "Epoch 2/24\n",
            "----------\n",
            "train Loss: 0.4710 Acc: 0.7664\n",
            "val Loss: 0.2001 Acc: 0.9477\n",
            "\n",
            "Epoch 3/24\n",
            "----------\n",
            "train Loss: 0.4349 Acc: 0.8279\n",
            "val Loss: 0.1868 Acc: 0.9281\n",
            "\n",
            "Epoch 4/24\n",
            "----------\n",
            "train Loss: 0.4760 Acc: 0.7623\n",
            "val Loss: 0.1911 Acc: 0.9477\n",
            "\n",
            "Epoch 5/24\n",
            "----------\n",
            "train Loss: 0.3585 Acc: 0.8484\n",
            "val Loss: 0.1890 Acc: 0.9542\n",
            "\n",
            "Epoch 6/24\n",
            "----------\n",
            "train Loss: 0.3629 Acc: 0.8443\n",
            "val Loss: 0.2710 Acc: 0.8889\n",
            "\n",
            "Epoch 7/24\n",
            "----------\n",
            "train Loss: 0.3830 Acc: 0.8402\n",
            "val Loss: 0.1849 Acc: 0.9477\n",
            "\n",
            "Epoch 8/24\n",
            "----------\n",
            "train Loss: 0.3892 Acc: 0.8238\n",
            "val Loss: 0.1951 Acc: 0.9542\n",
            "\n",
            "Epoch 9/24\n",
            "----------\n",
            "train Loss: 0.3678 Acc: 0.8443\n",
            "val Loss: 0.1961 Acc: 0.9477\n",
            "\n",
            "Epoch 10/24\n",
            "----------\n",
            "train Loss: 0.4211 Acc: 0.8115\n",
            "val Loss: 0.2127 Acc: 0.9412\n",
            "\n",
            "Epoch 11/24\n",
            "----------\n",
            "train Loss: 0.3832 Acc: 0.8197\n",
            "val Loss: 0.1836 Acc: 0.9477\n",
            "\n",
            "Epoch 12/24\n",
            "----------\n",
            "train Loss: 0.2684 Acc: 0.8770\n",
            "val Loss: 0.1892 Acc: 0.9412\n",
            "\n",
            "Epoch 13/24\n",
            "----------\n",
            "train Loss: 0.3509 Acc: 0.8279\n",
            "val Loss: 0.1984 Acc: 0.9477\n",
            "\n",
            "Epoch 14/24\n",
            "----------\n",
            "train Loss: 0.3555 Acc: 0.8443\n",
            "val Loss: 0.1919 Acc: 0.9412\n",
            "\n",
            "Epoch 15/24\n",
            "----------\n",
            "train Loss: 0.2682 Acc: 0.8975\n",
            "val Loss: 0.1869 Acc: 0.9477\n",
            "\n",
            "Epoch 16/24\n",
            "----------\n",
            "train Loss: 0.3550 Acc: 0.8648\n",
            "val Loss: 0.1982 Acc: 0.9477\n",
            "\n",
            "Epoch 17/24\n",
            "----------\n",
            "train Loss: 0.3188 Acc: 0.8566\n",
            "val Loss: 0.2167 Acc: 0.9216\n",
            "\n",
            "Epoch 18/24\n",
            "----------\n",
            "train Loss: 0.4236 Acc: 0.7992\n",
            "val Loss: 0.1829 Acc: 0.9542\n",
            "\n",
            "Epoch 19/24\n",
            "----------\n",
            "train Loss: 0.2596 Acc: 0.8934\n",
            "val Loss: 0.1878 Acc: 0.9477\n",
            "\n",
            "Epoch 20/24\n",
            "----------\n",
            "train Loss: 0.3872 Acc: 0.8320\n",
            "val Loss: 0.2020 Acc: 0.9477\n",
            "\n",
            "Epoch 21/24\n",
            "----------\n",
            "train Loss: 0.3551 Acc: 0.8566\n",
            "val Loss: 0.2080 Acc: 0.9477\n",
            "\n",
            "Epoch 22/24\n",
            "----------\n",
            "train Loss: 0.2933 Acc: 0.8811\n",
            "val Loss: 0.1955 Acc: 0.9477\n",
            "\n",
            "Epoch 23/24\n",
            "----------\n",
            "train Loss: 0.3595 Acc: 0.8279\n",
            "val Loss: 0.1875 Acc: 0.9542\n",
            "\n",
            "Epoch 24/24\n",
            "----------\n",
            "train Loss: 0.2964 Acc: 0.8566\n",
            "val Loss: 0.1795 Acc: 0.9477\n",
            "\n",
            "Training complete in 2m 3s\n",
            "Best val Acc: 0.954248\n"
          ]
        }
      ]
    },
    {
      "cell_type": "code",
      "source": [
        "visualize_model(model_conv)\n",
        "\n",
        "plt.ioff()\n",
        "plt.show()"
      ],
      "metadata": {
        "colab": {
          "base_uri": "https://localhost:8080/",
          "height": 581
        },
        "id": "HZ4JElbi4tTU",
        "outputId": "6b57c3f9-f4bc-4827-f1d6-432c1e3f3a70"
      },
      "execution_count": null,
      "outputs": [
        {
          "output_type": "display_data",
          "data": {
            "text/plain": [
              "<Figure size 432x288 with 1 Axes>"
            ],
            "image/png": "[encoded data removed]"
          },
          "metadata": {
            "needs_background": "light"
          }
        },
        {
          "output_type": "display_data",
          "data": {
            "text/plain": [
              "<Figure size 432x288 with 1 Axes>"
            ],
            "image/png": "[encoded data removed]"
          },
          "metadata": {
            "needs_background": "light"
          }
        },
        {
          "output_type": "display_data",
          "data": {
            "text/plain": [
              "<Figure size 432x288 with 1 Axes>"
            ],
            "image/png": "[encoded data removed]"
          },
          "metadata": {
            "needs_background": "light"
          }
        },
        {
          "output_type": "display_data",
          "data": {
            "text/plain": [
              "<Figure size 432x288 with 1 Axes>"
            ],
            "image/png": "[encoded data removed]"
          },
          "metadata": {
            "needs_background": "light"
          }
        },
        {
          "output_type": "display_data",
          "data": {
            "text/plain": [
              "<Figure size 432x288 with 1 Axes>"
            ],
            "image/png": "[encoded data removed]"
          },
          "metadata": {
            "needs_background": "light"
          }
        },
        {
          "output_type": "display_data",
          "data": {
            "text/plain": [
              "<Figure size 432x288 with 1 Axes>"
            ],
            "image/png": "[encoded data removed]"
          },
          "metadata": {
            "needs_background": "light"
          }
        }
      ]
    },
    {
      "cell_type": "markdown",
      "source": [
        "#### 10."
      ],
      "metadata": {
        "id": "Lz7g5f6j41pq"
      }
    },
    {
      "cell_type": "code",
      "source": [
        "def get_features(image_data):\n",
        "      \n",
        "      # define resnet18 model\n",
        "      model_conv_feat = torchvision.models.resnet18(pretrained=True)\n",
        "\n",
        "      # disable gradient requirement of the params in the model\n",
        "      for param in model_conv_feat.parameters():\n",
        "            param.requires_grad = False\n",
        "\n",
        "      # define the last layer to be Identity\n",
        "      # this will ensure that the output is basically the input to the last layer\n",
        "      # i.e., the features obtained\n",
        "      model_conv_feat.fc = nn.Identity()\n",
        "      model_conv_feat = model_conv_feat.to(device) \n",
        "\n",
        "      # define columns for the feature matrix dataframe     \n",
        "      df_columns = [x for x in range(512)].copy()\n",
        "      df_columns.append('label')\n",
        "\n",
        "      # empty image_features list\n",
        "      image_features = []\n",
        "\n",
        "      # use DataLoader to get the model interpretable image data\n",
        "      dataloader = {'data': torch.utils.data.DataLoader(image_data)}\n",
        "      \n",
        "      for inputs, labels in dataloader['data']:\n",
        "            inputs = inputs.to(device)\n",
        "            labels = labels.to(device)\n",
        "\n",
        "            # get output of the model\n",
        "            outputs = model_conv_feat(inputs)\n",
        "\n",
        "            # .cpu() needs to be done in order to convert the output to a list\n",
        "            outputs_cpu = outputs.cpu()\n",
        "\n",
        "            # [0] indexing is done because outputs_cpu.tolist() and labels.tolist()\n",
        "            # returns a list of list, we only need that inner list\n",
        "            outputs_cpu = outputs_cpu.tolist()[0].copy()\n",
        "            labels = labels.tolist()[0]\n",
        "            outputs_cpu.append(labels)\n",
        "\n",
        "            # append the output to image_features list\n",
        "            image_features.append(outputs_cpu)\n",
        "\n",
        "      # convert the image_features list to a pandas dataframe\n",
        "      image_features = pd.DataFrame(image_features, columns = df_columns)\n",
        "      \n",
        "      # return the image_features dataframe\n",
        "      return image_features"
      ],
      "metadata": {
        "id": "cS_kAj0M43U_"
      },
      "execution_count": null,
      "outputs": []
    },
    {
      "cell_type": "code",
      "source": [
        "# get training and validation features\n",
        "features_train = get_features(image_datasets['train'])\n",
        "features_val = get_features(image_datasets['val'])\n",
        "\n",
        "\n",
        "# drop the label column in both training and validation datasets\n",
        "# and define output y for both datasets as the same column\n",
        "\n",
        "X_train = features_train.drop(['label'], axis=1)\n",
        "y_train = features_train['label']\n",
        "\n",
        "X_val = features_val.drop(['label'], axis=1)\n",
        "y_val = features_val['label']"
      ],
      "metadata": {
        "colab": {
          "base_uri": "https://localhost:8080/",
          "height": 225,
          "referenced_widgets": [
            "96506a353da3498bb097019fe1ec0a2e",
            "d51b04ab9acb4b6c8186907465c70a0c",
            "64c91e01befc446e8d75306a2ee02dc7",
            "94e5dc10ec8b4e53baee15bd1b1fe8d0",
            "b08d9013054b4c78ac02d70bd6968d23",
            "99905067b7774d0b9aebac9ca8f6ef18",
            "3af39756bc72404092cf886a08446995",
            "5dc8306d39dd4a998b504daae8346d6d",
            "037d356b4c164e0d8a2c1b056de573ac",
            "6b8f15ca4f6b4ac2af825c6c106321b2",
            "1646020feaed44acaa81f2eb10076581"
          ]
        },
        "id": "8iV_ugpHI0tA",
        "outputId": "bc0a971b-7f5a-4dcb-d6fe-7320814ae35f"
      },
      "execution_count": null,
      "outputs": [
        {
          "output_type": "stream",
          "name": "stderr",
          "text": [
            "/usr/local/lib/python3.9/dist-packages/torchvision/models/_utils.py:208: UserWarning: The parameter 'pretrained' is deprecated since 0.13 and may be removed in the future, please use 'weights' instead.\n",
            "  warnings.warn(\n",
            "/usr/local/lib/python3.9/dist-packages/torchvision/models/_utils.py:223: UserWarning: Arguments other than a weight enum or `None` for 'weights' are deprecated since 0.13 and may be removed in the future. The current behavior is equivalent to passing `weights=ResNet18_Weights.IMAGENET1K_V1`. You can also use `weights=ResNet18_Weights.DEFAULT` to get the most up-to-date weights.\n",
            "  warnings.warn(msg)\n",
            "Downloading: \"https://download.pytorch.org/models/resnet18-f37072fd.pth\" to /root/.cache/torch/hub/checkpoints/resnet18-f37072fd.pth\n"
          ]
        },
        {
          "output_type": "display_data",
          "data": {
            "text/plain": [
              "  0%|          | 0.00/44.7M [00:00<?, ?B/s]"
            ],
            "application/vnd.jupyter.widget-view+json": {
              "version_major": 2,
              "version_minor": 0,
              "model_id": "96506a353da3498bb097019fe1ec0a2e"
            }
          },
          "metadata": {}
        },
        {
          "output_type": "stream",
          "name": "stderr",
          "text": [
            "/usr/local/lib/python3.9/dist-packages/torchvision/models/_utils.py:208: UserWarning: The parameter 'pretrained' is deprecated since 0.13 and may be removed in the future, please use 'weights' instead.\n",
            "  warnings.warn(\n",
            "/usr/local/lib/python3.9/dist-packages/torchvision/models/_utils.py:223: UserWarning: Arguments other than a weight enum or `None` for 'weights' are deprecated since 0.13 and may be removed in the future. The current behavior is equivalent to passing `weights=ResNet18_Weights.IMAGENET1K_V1`. You can also use `weights=ResNet18_Weights.DEFAULT` to get the most up-to-date weights.\n",
            "  warnings.warn(msg)\n"
          ]
        }
      ]
    },
    {
      "cell_type": "markdown",
      "source": [
        "#### Question 11."
      ],
      "metadata": {
        "id": "wHeK5geO7Lug"
      }
    },
    {
      "cell_type": "markdown",
      "source": [
        "We'll use the accuracy scoring metric to get the best parameters as we want both classifications to be correct. Accuracy is the best measure for the same."
      ],
      "metadata": {
        "id": "CCTeNnqPYcFB"
      }
    },
    {
      "cell_type": "code",
      "source": [
        "# define logistic regression classifier\n",
        "logistic_reg = LogisticRegression(penalty = 'l2', max_iter = 10**6)\n",
        "\n",
        "# define param_grid to perform exhaustive search over\n",
        "l2_params = {'C': [0.01, 0.1, 1, 10, 100, 1000]}\n",
        "\n",
        "# perform grid search cv over the model\n",
        "log_regcv = GridSearchCV(logistic_reg, param_grid = l2_params, scoring = 'accuracy')\n",
        "log_regcv.fit(X_train, y_train)"
      ],
      "metadata": {
        "colab": {
          "base_uri": "https://localhost:8080/",
          "height": 116
        },
        "id": "WM_LitUz8x_K",
        "outputId": "1099481c-6e74-4a0f-bc65-f4aa8783b862"
      },
      "execution_count": null,
      "outputs": [
        {
          "output_type": "execute_result",
          "data": {
            "text/plain": [
              "GridSearchCV(estimator=LogisticRegression(max_iter=1000000),\n",
              "             param_grid={'C': [0.01, 0.1, 1, 10, 100, 1000]},\n",
              "             scoring='accuracy')"
            ],
            "text/html": [
              "<style>#sk-container-id-4 {color: black;background-color: white;}#sk-container-id-4 pre{padding: 0;}#sk-container-id-4 div.sk-toggleable {background-color: white;}#sk-container-id-4 label.sk-toggleable__label {cursor: pointer;display: block;width: 100%;margin-bottom: 0;padding: 0.3em;box-sizing: border-box;text-align: center;}#sk-container-id-4 label.sk-toggleable__label-arrow:before {content: \"▸\";float: left;margin-right: 0.25em;color: #696969;}#sk-container-id-4 label.sk-toggleable__label-arrow:hover:before {color: black;}#sk-container-id-4 div.sk-estimator:hover label.sk-toggleable__label-arrow:before {color: black;}#sk-container-id-4 div.sk-toggleable__content {max-height: 0;max-width: 0;overflow: hidden;text-align: left;background-color: #f0f8ff;}#sk-container-id-4 div.sk-toggleable__content pre {margin: 0.2em;color: black;border-radius: 0.25em;background-color: #f0f8ff;}#sk-container-id-4 input.sk-toggleable__control:checked~div.sk-toggleable__content {max-height: 200px;max-width: 100%;overflow: auto;}#sk-container-id-4 input.sk-toggleable__control:checked~label.sk-toggleable__label-arrow:before {content: \"▾\";}#sk-container-id-4 div.sk-estimator input.sk-toggleable__control:checked~label.sk-toggleable__label {background-color: #d4ebff;}#sk-container-id-4 div.sk-label input.sk-toggleable__control:checked~label.sk-toggleable__label {background-color: #d4ebff;}#sk-container-id-4 input.sk-hidden--visually {border: 0;clip: rect(1px 1px 1px 1px);clip: rect(1px, 1px, 1px, 1px);height: 1px;margin: -1px;overflow: hidden;padding: 0;position: absolute;width: 1px;}#sk-container-id-4 div.sk-estimator {font-family: monospace;background-color: #f0f8ff;border: 1px dotted black;border-radius: 0.25em;box-sizing: border-box;margin-bottom: 0.5em;}#sk-container-id-4 div.sk-estimator:hover {background-color: #d4ebff;}#sk-container-id-4 div.sk-parallel-item::after {content: \"\";width: 100%;border-bottom: 1px solid gray;flex-grow: 1;}#sk-container-id-4 div.sk-label:hover label.sk-toggleable__label {background-color: #d4ebff;}#sk-container-id-4 div.sk-serial::before {content: \"\";position: absolute;border-left: 1px solid gray;box-sizing: border-box;top: 0;bottom: 0;left: 50%;z-index: 0;}#sk-container-id-4 div.sk-serial {display: flex;flex-direction: column;align-items: center;background-color: white;padding-right: 0.2em;padding-left: 0.2em;position: relative;}#sk-container-id-4 div.sk-item {position: relative;z-index: 1;}#sk-container-id-4 div.sk-parallel {display: flex;align-items: stretch;justify-content: center;background-color: white;position: relative;}#sk-container-id-4 div.sk-item::before, #sk-container-id-4 div.sk-parallel-item::before {content: \"\";position: absolute;border-left: 1px solid gray;box-sizing: border-box;top: 0;bottom: 0;left: 50%;z-index: -1;}#sk-container-id-4 div.sk-parallel-item {display: flex;flex-direction: column;z-index: 1;position: relative;background-color: white;}#sk-container-id-4 div.sk-parallel-item:first-child::after {align-self: flex-end;width: 50%;}#sk-container-id-4 div.sk-parallel-item:last-child::after {align-self: flex-start;width: 50%;}#sk-container-id-4 div.sk-parallel-item:only-child::after {width: 0;}#sk-container-id-4 div.sk-dashed-wrapped {border: 1px dashed gray;margin: 0 0.4em 0.5em 0.4em;box-sizing: border-box;padding-bottom: 0.4em;background-color: white;}#sk-container-id-4 div.sk-label label {font-family: monospace;font-weight: bold;display: inline-block;line-height: 1.2em;}#sk-container-id-4 div.sk-label-container {text-align: center;}#sk-container-id-4 div.sk-container {/* jupyter's `normalize.less` sets `[hidden] { display: none; }` but bootstrap.min.css set `[hidden] { display: none !important; }` so we also need the `!important` here to be able to override the default hidden behavior on the sphinx rendered scikit-learn.org. See: https://github.com/scikit-learn/scikit-learn/issues/21755 */display: inline-block !important;position: relative;}#sk-container-id-4 div.sk-text-repr-fallback {display: none;}</style><div id=\"sk-container-id-4\" class=\"sk-top-container\"><div class=\"sk-text-repr-fallback\"><pre>GridSearchCV(estimator=LogisticRegression(max_iter=1000000),\n",
              "             param_grid={&#x27;C&#x27;: [0.01, 0.1, 1, 10, 100, 1000]},\n",
              "             scoring=&#x27;accuracy&#x27;)</pre><b>In a Jupyter environment, please rerun this cell to show the HTML representation or trust the notebook. <br />On GitHub, the HTML representation is unable to render, please try loading this page with nbviewer.org.</b></div><div class=\"sk-container\" hidden><div class=\"sk-item sk-dashed-wrapped\"><div class=\"sk-label-container\"><div class=\"sk-label sk-toggleable\"><input class=\"sk-toggleable__control sk-hidden--visually\" id=\"sk-estimator-id-10\" type=\"checkbox\" ><label for=\"sk-estimator-id-10\" class=\"sk-toggleable__label sk-toggleable__label-arrow\">GridSearchCV</label><div class=\"sk-toggleable__content\"><pre>GridSearchCV(estimator=LogisticRegression(max_iter=1000000),\n",
              "             param_grid={&#x27;C&#x27;: [0.01, 0.1, 1, 10, 100, 1000]},\n",
              "             scoring=&#x27;accuracy&#x27;)</pre></div></div></div><div class=\"sk-parallel\"><div class=\"sk-parallel-item\"><div class=\"sk-item\"><div class=\"sk-label-container\"><div class=\"sk-label sk-toggleable\"><input class=\"sk-toggleable__control sk-hidden--visually\" id=\"sk-estimator-id-11\" type=\"checkbox\" ><label for=\"sk-estimator-id-11\" class=\"sk-toggleable__label sk-toggleable__label-arrow\">estimator: LogisticRegression</label><div class=\"sk-toggleable__content\"><pre>LogisticRegression(max_iter=1000000)</pre></div></div></div><div class=\"sk-serial\"><div class=\"sk-item\"><div class=\"sk-estimator sk-toggleable\"><input class=\"sk-toggleable__control sk-hidden--visually\" id=\"sk-estimator-id-12\" type=\"checkbox\" ><label for=\"sk-estimator-id-12\" class=\"sk-toggleable__label sk-toggleable__label-arrow\">LogisticRegression</label><div class=\"sk-toggleable__content\"><pre>LogisticRegression(max_iter=1000000)</pre></div></div></div></div></div></div></div></div></div></div>"
            ]
          },
          "metadata": {},
          "execution_count": 16
        }
      ]
    },
    {
      "cell_type": "code",
      "source": [
        "log_regcv_results = log_regcv.cv_results_\n",
        "\n",
        "# maximum value of mean accuracy among the scores obtained\n",
        "max_acc = max(log_regcv_results['mean_test_score'])\n",
        "print('The maximum mean test accuracy is:', max_acc)"
      ],
      "metadata": {
        "colab": {
          "base_uri": "https://localhost:8080/"
        },
        "id": "a6WxQt2YEyq_",
        "outputId": "caf4c9a2-b370-4453-9eed-6c3b001b635e"
      },
      "execution_count": null,
      "outputs": [
        {
          "output_type": "stream",
          "name": "stdout",
          "text": [
            "The maximum mean test accuracy is: 0.5982142857142858\n"
          ]
        }
      ]
    },
    {
      "cell_type": "code",
      "source": [
        "# indices with the max value of accuracy\n",
        "max_acc_index = [i for i in range(len(log_regcv_results['mean_test_score'])) if log_regcv_results['mean_test_score'][i] == max_acc]\n",
        "\n",
        "# prints the hyperparameter values for which we obtained highest accuracy\n",
        "for i in max_acc_index:\n",
        "  print(log_regcv_results['params'][i])"
      ],
      "metadata": {
        "colab": {
          "base_uri": "https://localhost:8080/"
        },
        "id": "AAMDKursFkZY",
        "outputId": "22af2806-7bee-4c41-fde5-0c7cb1bc6772"
      },
      "execution_count": null,
      "outputs": [
        {
          "output_type": "stream",
          "name": "stdout",
          "text": [
            "{'C': 10}\n"
          ]
        }
      ]
    },
    {
      "cell_type": "code",
      "source": [
        "# train logistic regression model with the obtained best hyperparameter\n",
        "logistic_reg = LogisticRegression(penalty = 'l2', C = 10, max_iter = 10**6)\n",
        "logistic_reg.fit(X_train, y_train)\n",
        "\n",
        "# predict values on validation data and display classification report\n",
        "y_pred = logistic_reg.predict(X_val)\n",
        "print(classification_report(y_val, y_pred))"
      ],
      "metadata": {
        "colab": {
          "base_uri": "https://localhost:8080/"
        },
        "id": "HvL8COg6GIjj",
        "outputId": "d703c5e4-e4ee-4000-815a-c94e99b79f44"
      },
      "execution_count": null,
      "outputs": [
        {
          "output_type": "stream",
          "name": "stdout",
          "text": [
            "              precision    recall  f1-score   support\n",
            "\n",
            "           0       0.57      0.57      0.57        70\n",
            "           1       0.64      0.64      0.64        83\n",
            "\n",
            "    accuracy                           0.61       153\n",
            "   macro avg       0.60      0.60      0.60       153\n",
            "weighted avg       0.61      0.61      0.61       153\n",
            "\n"
          ]
        }
      ]
    },
    {
      "cell_type": "code",
      "source": [
        "# define RBF Kernel SVM Classifier\n",
        "rbf = SVC(kernel = 'rbf', max_iter = 10**6)\n",
        "\n",
        "# define param_grid to perform exhaustive search over\n",
        "rbf_params = {'C': [0.01, 0.1, 1, 10, 100], 'gamma': [0.001, 0.01, 0.1, 1, 10]}\n",
        "\n",
        "# perform grid search cv over the model\n",
        "rbfcv = GridSearchCV(rbf, param_grid = rbf_params, scoring = 'accuracy')\n",
        "rbfcv.fit(X_train, y_train)"
      ],
      "metadata": {
        "colab": {
          "base_uri": "https://localhost:8080/",
          "height": 116
        },
        "id": "h5nEYuQnGzcm",
        "outputId": "811b6cc5-213f-4c17-9a15-634089b2ad8a"
      },
      "execution_count": null,
      "outputs": [
        {
          "output_type": "execute_result",
          "data": {
            "text/plain": [
              "GridSearchCV(estimator=SVC(max_iter=1000000),\n",
              "             param_grid={'C': [0.01, 0.1, 1, 10, 100],\n",
              "                         'gamma': [0.001, 0.01, 0.1, 1, 10]},\n",
              "             scoring='accuracy')"
            ],
            "text/html": [
              "<style>#sk-container-id-1 {color: black;background-color: white;}#sk-container-id-1 pre{padding: 0;}#sk-container-id-1 div.sk-toggleable {background-color: white;}#sk-container-id-1 label.sk-toggleable__label {cursor: pointer;display: block;width: 100%;margin-bottom: 0;padding: 0.3em;box-sizing: border-box;text-align: center;}#sk-container-id-1 label.sk-toggleable__label-arrow:before {content: \"▸\";float: left;margin-right: 0.25em;color: #696969;}#sk-container-id-1 label.sk-toggleable__label-arrow:hover:before {color: black;}#sk-container-id-1 div.sk-estimator:hover label.sk-toggleable__label-arrow:before {color: black;}#sk-container-id-1 div.sk-toggleable__content {max-height: 0;max-width: 0;overflow: hidden;text-align: left;background-color: #f0f8ff;}#sk-container-id-1 div.sk-toggleable__content pre {margin: 0.2em;color: black;border-radius: 0.25em;background-color: #f0f8ff;}#sk-container-id-1 input.sk-toggleable__control:checked~div.sk-toggleable__content {max-height: 200px;max-width: 100%;overflow: auto;}#sk-container-id-1 input.sk-toggleable__control:checked~label.sk-toggleable__label-arrow:before {content: \"▾\";}#sk-container-id-1 div.sk-estimator input.sk-toggleable__control:checked~label.sk-toggleable__label {background-color: #d4ebff;}#sk-container-id-1 div.sk-label input.sk-toggleable__control:checked~label.sk-toggleable__label {background-color: #d4ebff;}#sk-container-id-1 input.sk-hidden--visually {border: 0;clip: rect(1px 1px 1px 1px);clip: rect(1px, 1px, 1px, 1px);height: 1px;margin: -1px;overflow: hidden;padding: 0;position: absolute;width: 1px;}#sk-container-id-1 div.sk-estimator {font-family: monospace;background-color: #f0f8ff;border: 1px dotted black;border-radius: 0.25em;box-sizing: border-box;margin-bottom: 0.5em;}#sk-container-id-1 div.sk-estimator:hover {background-color: #d4ebff;}#sk-container-id-1 div.sk-parallel-item::after {content: \"\";width: 100%;border-bottom: 1px solid gray;flex-grow: 1;}#sk-container-id-1 div.sk-label:hover label.sk-toggleable__label {background-color: #d4ebff;}#sk-container-id-1 div.sk-serial::before {content: \"\";position: absolute;border-left: 1px solid gray;box-sizing: border-box;top: 0;bottom: 0;left: 50%;z-index: 0;}#sk-container-id-1 div.sk-serial {display: flex;flex-direction: column;align-items: center;background-color: white;padding-right: 0.2em;padding-left: 0.2em;position: relative;}#sk-container-id-1 div.sk-item {position: relative;z-index: 1;}#sk-container-id-1 div.sk-parallel {display: flex;align-items: stretch;justify-content: center;background-color: white;position: relative;}#sk-container-id-1 div.sk-item::before, #sk-container-id-1 div.sk-parallel-item::before {content: \"\";position: absolute;border-left: 1px solid gray;box-sizing: border-box;top: 0;bottom: 0;left: 50%;z-index: -1;}#sk-container-id-1 div.sk-parallel-item {display: flex;flex-direction: column;z-index: 1;position: relative;background-color: white;}#sk-container-id-1 div.sk-parallel-item:first-child::after {align-self: flex-end;width: 50%;}#sk-container-id-1 div.sk-parallel-item:last-child::after {align-self: flex-start;width: 50%;}#sk-container-id-1 div.sk-parallel-item:only-child::after {width: 0;}#sk-container-id-1 div.sk-dashed-wrapped {border: 1px dashed gray;margin: 0 0.4em 0.5em 0.4em;box-sizing: border-box;padding-bottom: 0.4em;background-color: white;}#sk-container-id-1 div.sk-label label {font-family: monospace;font-weight: bold;display: inline-block;line-height: 1.2em;}#sk-container-id-1 div.sk-label-container {text-align: center;}#sk-container-id-1 div.sk-container {/* jupyter's `normalize.less` sets `[hidden] { display: none; }` but bootstrap.min.css set `[hidden] { display: none !important; }` so we also need the `!important` here to be able to override the default hidden behavior on the sphinx rendered scikit-learn.org. See: https://github.com/scikit-learn/scikit-learn/issues/21755 */display: inline-block !important;position: relative;}#sk-container-id-1 div.sk-text-repr-fallback {display: none;}</style><div id=\"sk-container-id-1\" class=\"sk-top-container\"><div class=\"sk-text-repr-fallback\"><pre>GridSearchCV(estimator=SVC(max_iter=1000000),\n",
              "             param_grid={&#x27;C&#x27;: [0.01, 0.1, 1, 10, 100],\n",
              "                         &#x27;gamma&#x27;: [0.001, 0.01, 0.1, 1, 10]},\n",
              "             scoring=&#x27;accuracy&#x27;)</pre><b>In a Jupyter environment, please rerun this cell to show the HTML representation or trust the notebook. <br />On GitHub, the HTML representation is unable to render, please try loading this page with nbviewer.org.</b></div><div class=\"sk-container\" hidden><div class=\"sk-item sk-dashed-wrapped\"><div class=\"sk-label-container\"><div class=\"sk-label sk-toggleable\"><input class=\"sk-toggleable__control sk-hidden--visually\" id=\"sk-estimator-id-1\" type=\"checkbox\" ><label for=\"sk-estimator-id-1\" class=\"sk-toggleable__label sk-toggleable__label-arrow\">GridSearchCV</label><div class=\"sk-toggleable__content\"><pre>GridSearchCV(estimator=SVC(max_iter=1000000),\n",
              "             param_grid={&#x27;C&#x27;: [0.01, 0.1, 1, 10, 100],\n",
              "                         &#x27;gamma&#x27;: [0.001, 0.01, 0.1, 1, 10]},\n",
              "             scoring=&#x27;accuracy&#x27;)</pre></div></div></div><div class=\"sk-parallel\"><div class=\"sk-parallel-item\"><div class=\"sk-item\"><div class=\"sk-label-container\"><div class=\"sk-label sk-toggleable\"><input class=\"sk-toggleable__control sk-hidden--visually\" id=\"sk-estimator-id-2\" type=\"checkbox\" ><label for=\"sk-estimator-id-2\" class=\"sk-toggleable__label sk-toggleable__label-arrow\">estimator: SVC</label><div class=\"sk-toggleable__content\"><pre>SVC(max_iter=1000000)</pre></div></div></div><div class=\"sk-serial\"><div class=\"sk-item\"><div class=\"sk-estimator sk-toggleable\"><input class=\"sk-toggleable__control sk-hidden--visually\" id=\"sk-estimator-id-3\" type=\"checkbox\" ><label for=\"sk-estimator-id-3\" class=\"sk-toggleable__label sk-toggleable__label-arrow\">SVC</label><div class=\"sk-toggleable__content\"><pre>SVC(max_iter=1000000)</pre></div></div></div></div></div></div></div></div></div></div>"
            ]
          },
          "metadata": {},
          "execution_count": 6
        }
      ]
    },
    {
      "cell_type": "code",
      "source": [
        "rbfcv_results = rbfcv.cv_results_\n",
        "\n",
        "# maximum value of accuracy among the scores obtained\n",
        "max_acc = max(rbfcv_results['mean_test_score'])\n",
        "\n",
        "print('The maximum mean test accuracy is:', max_acc)\n",
        "\n",
        "# indices with the max value of accuracy\n",
        "max_acc_index = [i for i in range(len(rbfcv_results['mean_test_score'])) if rbfcv_results['mean_test_score'][i] == max_acc]\n",
        "\n",
        "# prints the hyperparameter values for which we obtained highest accuracy\n",
        "for i in max_acc_index:\n",
        "  print(rbfcv_results['params'][i])"
      ],
      "metadata": {
        "colab": {
          "base_uri": "https://localhost:8080/"
        },
        "id": "ywiQqICMIegP",
        "outputId": "e6e4ae57-2df3-4ae6-e746-6887e3309f91"
      },
      "execution_count": null,
      "outputs": [
        {
          "output_type": "stream",
          "name": "stdout",
          "text": [
            "The maximum mean test accuracy is: 0.5739795918367347\n",
            "{'C': 1, 'gamma': 1}\n"
          ]
        }
      ]
    },
    {
      "cell_type": "code",
      "source": [
        "# train the model with the best hyperparameters obtained\n",
        "rbf = SVC(kernel = 'rbf', C = 1, gamma = 1, max_iter = 10**6)\n",
        "rbf.fit(X_train, y_train)\n",
        "\n",
        "# predict output over validation data and display classification report\n",
        "y_pred = rbf.predict(X_val)\n",
        "print(classification_report(y_val, y_pred))"
      ],
      "metadata": {
        "colab": {
          "base_uri": "https://localhost:8080/"
        },
        "id": "20UFSvQmI70s",
        "outputId": "13a46b08-b15e-45a2-b9aa-261bd438ef93"
      },
      "execution_count": null,
      "outputs": [
        {
          "output_type": "stream",
          "name": "stdout",
          "text": [
            "              precision    recall  f1-score   support\n",
            "\n",
            "           0       0.61      0.61      0.61        70\n",
            "           1       0.67      0.66      0.67        83\n",
            "\n",
            "    accuracy                           0.64       153\n",
            "   macro avg       0.64      0.64      0.64       153\n",
            "weighted avg       0.64      0.64      0.64       153\n",
            "\n"
          ]
        }
      ]
    },
    {
      "cell_type": "code",
      "source": [
        "# define Random Forest Classifer\n",
        "rndf = RandomForestClassifier()\n",
        "\n",
        "# define param_grid to perform exhaustive search over\n",
        "rndf_params = {'max_depth': [2, 4, 6, 8, 10, 12], 'max_features': [x for x in range(16, 513, 16)]}\n",
        "\n",
        "# perform grid search cv over the model\n",
        "rndfcv = GridSearchCV(rndf, param_grid = rndf_params, scoring = 'accuracy')\n",
        "rndfcv.fit(X_train, y_train)"
      ],
      "metadata": {
        "colab": {
          "base_uri": "https://localhost:8080/",
          "height": 116
        },
        "id": "efvn7Kj0H8Ag",
        "outputId": "41aa7a4b-7bc2-4fce-af60-7058d6953324"
      },
      "execution_count": null,
      "outputs": [
        {
          "output_type": "execute_result",
          "data": {
            "text/plain": [
              "GridSearchCV(estimator=RandomForestClassifier(),\n",
              "             param_grid={'max_depth': [2, 4, 6, 8, 10, 12],\n",
              "                         'max_features': [16, 32, 48, 64, 80, 96, 112, 128, 144,\n",
              "                                          160, 176, 192, 208, 224, 240, 256,\n",
              "                                          272, 288, 304, 320, 336, 352, 368,\n",
              "                                          384, 400, 416, 432, 448, 464, 480, ...]},\n",
              "             scoring='accuracy')"
            ],
            "text/html": [
              "<style>#sk-container-id-3 {color: black;background-color: white;}#sk-container-id-3 pre{padding: 0;}#sk-container-id-3 div.sk-toggleable {background-color: white;}#sk-container-id-3 label.sk-toggleable__label {cursor: pointer;display: block;width: 100%;margin-bottom: 0;padding: 0.3em;box-sizing: border-box;text-align: center;}#sk-container-id-3 label.sk-toggleable__label-arrow:before {content: \"▸\";float: left;margin-right: 0.25em;color: #696969;}#sk-container-id-3 label.sk-toggleable__label-arrow:hover:before {color: black;}#sk-container-id-3 div.sk-estimator:hover label.sk-toggleable__label-arrow:before {color: black;}#sk-container-id-3 div.sk-toggleable__content {max-height: 0;max-width: 0;overflow: hidden;text-align: left;background-color: #f0f8ff;}#sk-container-id-3 div.sk-toggleable__content pre {margin: 0.2em;color: black;border-radius: 0.25em;background-color: #f0f8ff;}#sk-container-id-3 input.sk-toggleable__control:checked~div.sk-toggleable__content {max-height: 200px;max-width: 100%;overflow: auto;}#sk-container-id-3 input.sk-toggleable__control:checked~label.sk-toggleable__label-arrow:before {content: \"▾\";}#sk-container-id-3 div.sk-estimator input.sk-toggleable__control:checked~label.sk-toggleable__label {background-color: #d4ebff;}#sk-container-id-3 div.sk-label input.sk-toggleable__control:checked~label.sk-toggleable__label {background-color: #d4ebff;}#sk-container-id-3 input.sk-hidden--visually {border: 0;clip: rect(1px 1px 1px 1px);clip: rect(1px, 1px, 1px, 1px);height: 1px;margin: -1px;overflow: hidden;padding: 0;position: absolute;width: 1px;}#sk-container-id-3 div.sk-estimator {font-family: monospace;background-color: #f0f8ff;border: 1px dotted black;border-radius: 0.25em;box-sizing: border-box;margin-bottom: 0.5em;}#sk-container-id-3 div.sk-estimator:hover {background-color: #d4ebff;}#sk-container-id-3 div.sk-parallel-item::after {content: \"\";width: 100%;border-bottom: 1px solid gray;flex-grow: 1;}#sk-container-id-3 div.sk-label:hover label.sk-toggleable__label {background-color: #d4ebff;}#sk-container-id-3 div.sk-serial::before {content: \"\";position: absolute;border-left: 1px solid gray;box-sizing: border-box;top: 0;bottom: 0;left: 50%;z-index: 0;}#sk-container-id-3 div.sk-serial {display: flex;flex-direction: column;align-items: center;background-color: white;padding-right: 0.2em;padding-left: 0.2em;position: relative;}#sk-container-id-3 div.sk-item {position: relative;z-index: 1;}#sk-container-id-3 div.sk-parallel {display: flex;align-items: stretch;justify-content: center;background-color: white;position: relative;}#sk-container-id-3 div.sk-item::before, #sk-container-id-3 div.sk-parallel-item::before {content: \"\";position: absolute;border-left: 1px solid gray;box-sizing: border-box;top: 0;bottom: 0;left: 50%;z-index: -1;}#sk-container-id-3 div.sk-parallel-item {display: flex;flex-direction: column;z-index: 1;position: relative;background-color: white;}#sk-container-id-3 div.sk-parallel-item:first-child::after {align-self: flex-end;width: 50%;}#sk-container-id-3 div.sk-parallel-item:last-child::after {align-self: flex-start;width: 50%;}#sk-container-id-3 div.sk-parallel-item:only-child::after {width: 0;}#sk-container-id-3 div.sk-dashed-wrapped {border: 1px dashed gray;margin: 0 0.4em 0.5em 0.4em;box-sizing: border-box;padding-bottom: 0.4em;background-color: white;}#sk-container-id-3 div.sk-label label {font-family: monospace;font-weight: bold;display: inline-block;line-height: 1.2em;}#sk-container-id-3 div.sk-label-container {text-align: center;}#sk-container-id-3 div.sk-container {/* jupyter's `normalize.less` sets `[hidden] { display: none; }` but bootstrap.min.css set `[hidden] { display: none !important; }` so we also need the `!important` here to be able to override the default hidden behavior on the sphinx rendered scikit-learn.org. See: https://github.com/scikit-learn/scikit-learn/issues/21755 */display: inline-block !important;position: relative;}#sk-container-id-3 div.sk-text-repr-fallback {display: none;}</style><div id=\"sk-container-id-3\" class=\"sk-top-container\"><div class=\"sk-text-repr-fallback\"><pre>GridSearchCV(estimator=RandomForestClassifier(),\n",
              "             param_grid={&#x27;max_depth&#x27;: [2, 4, 6, 8, 10, 12],\n",
              "                         &#x27;max_features&#x27;: [16, 32, 48, 64, 80, 96, 112, 128, 144,\n",
              "                                          160, 176, 192, 208, 224, 240, 256,\n",
              "                                          272, 288, 304, 320, 336, 352, 368,\n",
              "                                          384, 400, 416, 432, 448, 464, 480, ...]},\n",
              "             scoring=&#x27;accuracy&#x27;)</pre><b>In a Jupyter environment, please rerun this cell to show the HTML representation or trust the notebook. <br />On GitHub, the HTML representation is unable to render, please try loading this page with nbviewer.org.</b></div><div class=\"sk-container\" hidden><div class=\"sk-item sk-dashed-wrapped\"><div class=\"sk-label-container\"><div class=\"sk-label sk-toggleable\"><input class=\"sk-toggleable__control sk-hidden--visually\" id=\"sk-estimator-id-7\" type=\"checkbox\" ><label for=\"sk-estimator-id-7\" class=\"sk-toggleable__label sk-toggleable__label-arrow\">GridSearchCV</label><div class=\"sk-toggleable__content\"><pre>GridSearchCV(estimator=RandomForestClassifier(),\n",
              "             param_grid={&#x27;max_depth&#x27;: [2, 4, 6, 8, 10, 12],\n",
              "                         &#x27;max_features&#x27;: [16, 32, 48, 64, 80, 96, 112, 128, 144,\n",
              "                                          160, 176, 192, 208, 224, 240, 256,\n",
              "                                          272, 288, 304, 320, 336, 352, 368,\n",
              "                                          384, 400, 416, 432, 448, 464, 480, ...]},\n",
              "             scoring=&#x27;accuracy&#x27;)</pre></div></div></div><div class=\"sk-parallel\"><div class=\"sk-parallel-item\"><div class=\"sk-item\"><div class=\"sk-label-container\"><div class=\"sk-label sk-toggleable\"><input class=\"sk-toggleable__control sk-hidden--visually\" id=\"sk-estimator-id-8\" type=\"checkbox\" ><label for=\"sk-estimator-id-8\" class=\"sk-toggleable__label sk-toggleable__label-arrow\">estimator: RandomForestClassifier</label><div class=\"sk-toggleable__content\"><pre>RandomForestClassifier()</pre></div></div></div><div class=\"sk-serial\"><div class=\"sk-item\"><div class=\"sk-estimator sk-toggleable\"><input class=\"sk-toggleable__control sk-hidden--visually\" id=\"sk-estimator-id-9\" type=\"checkbox\" ><label for=\"sk-estimator-id-9\" class=\"sk-toggleable__label sk-toggleable__label-arrow\">RandomForestClassifier</label><div class=\"sk-toggleable__content\"><pre>RandomForestClassifier()</pre></div></div></div></div></div></div></div></div></div></div>"
            ]
          },
          "metadata": {},
          "execution_count": 12
        }
      ]
    },
    {
      "cell_type": "code",
      "source": [
        "rndfcv_results = rndfcv.cv_results_\n",
        "\n",
        "# maximum value of mean accuracy among the scores obtained\n",
        "max_acc = max(rndfcv_results['mean_test_score'])\n",
        "print('The maximum mean test accuracy is:', max_acc)\n",
        "\n",
        "# indices with the max value of accuracy\n",
        "max_acc_index = [i for i in range(len(rndfcv_results['mean_test_score'])) if rndfcv_results['mean_test_score'][i] == max_acc]\n",
        "\n",
        "# prints the hyperparameter values for which we obtained highest accuracy\n",
        "for i in max_acc_index:\n",
        "  print(rndfcv_results['params'][i])"
      ],
      "metadata": {
        "colab": {
          "base_uri": "https://localhost:8080/"
        },
        "id": "RUAxzCFbKOfM",
        "outputId": "5a37a585-58ad-4baf-92fc-6cada78e01c9"
      },
      "execution_count": null,
      "outputs": [
        {
          "output_type": "stream",
          "name": "stdout",
          "text": [
            "The maximum mean test accuracy is: 0.5941326530612245\n",
            "{'max_depth': 8, 'max_features': 64}\n"
          ]
        }
      ]
    },
    {
      "cell_type": "code",
      "source": [
        "# train the model with best hyperparameters obtained\n",
        "rndf = RandomForestClassifier(max_depth = 8, max_features = 64)\n",
        "rndf.fit(X_train, y_train)\n",
        "\n",
        "# predict output over validation data and display classification report\n",
        "y_pred = rndf.predict(X_val)\n",
        "print(classification_report(y_val, y_pred))"
      ],
      "metadata": {
        "colab": {
          "base_uri": "https://localhost:8080/"
        },
        "id": "roH0N2I9Kf_n",
        "outputId": "12cb620b-2dbc-4ac7-f0e1-006b539e1b29"
      },
      "execution_count": null,
      "outputs": [
        {
          "output_type": "stream",
          "name": "stdout",
          "text": [
            "              precision    recall  f1-score   support\n",
            "\n",
            "           0       0.56      0.56      0.56        70\n",
            "           1       0.63      0.63      0.63        83\n",
            "\n",
            "    accuracy                           0.59       153\n",
            "   macro avg       0.59      0.59      0.59       153\n",
            "weighted avg       0.59      0.59      0.59       153\n",
            "\n"
          ]
        }
      ]
    },
    {
      "cell_type": "markdown",
      "source": [
        "#### Question 12."
      ],
      "metadata": {
        "id": "CjQUzKevd5Q4"
      }
    },
    {
      "cell_type": "markdown",
      "source": [
        "In Objective 2, it is clear that using the ResNet-18 model as a fixed feature extractor and performing either Logistic Regression, RBF Kernel SVM Classification, or Random Forest Classification over those features yields a poor performace. Whereas using the model as an initialization and performing SGD with a decaying learning rate, as was done in the execution of the model in Question 9., yields an extremely desirable performace of about 95% accuracy. Even in the $0^{th}$ Epoch, the validation accuracy for this Neural Network was very high. And it reached 95% accuracy in just 24 Epochs, within under 2 minutes while running on GPU. Thus, Transfer Learning is a far more desirable approach compared to implementing a similar 18-layer deep NN from scratch, as it would take an incredibly long time to converge to such high scores. The initialization especially gives a huge boost to the training."
      ],
      "metadata": {
        "id": "2wMr3GJdd-W7"
      }
    },
    {
      "cell_type": "markdown",
      "source": [
        "Another important thing I learned is how GPU accelerated computation can be extremely fast compared to computation on CPU when using libraries that support GPU such as PyTorch and TensorFlow. It gives an extreme advantage over the training time needed. Also, sklearn does not support GPU computation, so we're out of luck over there."
      ],
      "metadata": {
        "id": "UDtaMdZ8h-8g"
      }
    },
    {
      "cell_type": "markdown",
      "source": [
        "It was interesting to run and compare different models, perform GridSearchCV over them to find the best hyperparameters, and then train and test the models. It's important to note that not all models perform the same, and it's generally wise to test out a few ML models with their best hyperparameters based on our need and decide which model to deploy finally in the real world. It's also important to choose your scoring metric wisely as to acount for the economic and social costs it might have in the real world.  \n",
        "Another one of the major takeaways for me is how to use the sklearn library for Machine Learning."
      ],
      "metadata": {
        "id": "t3IiR5rLiaXa"
      }
    },
    {
      "cell_type": "markdown",
      "source": [
        "EDA is an important step before any machine learning model can be implemented. We should remove the features that aren't varying much, and also those features which have a lot of missing values. We can impute data points for the missing values of a feature if they are less in number, about 10% ish. We should also make sure to remove the correlated features. Our feature elimination shouldn't be too harsh that we lose important features in the process, and shouldn't be so shallow that we retain unimportant ones. An important final step is to normalize the dataset we have, as most of the models in sklearn library assume we are providing a normalized dataset as an input. If it isn't so, we get bad performance, or the code might raise errors."
      ],
      "metadata": {
        "id": "zVQeUPd2jgRW"
      }
    },
    {
      "cell_type": "markdown",
      "source": [
        "Apart from the sources I've mentioned in the code blocks themselves, the major sources of information and examples for me in solving this assignment are:  \n",
        "\n",
        "\n",
        "1.   Sci-Kit Learn documentation\n",
        "2.   PyTorch tutorials and documentation\n",
        "3.   Pandas Documentation\n",
        "4.   Matplotlib Documentation\n",
        "5.   https://stackoverflow.com/questions/64229717/what-is-the-idea-behind-using-nn-identity-for-residual-learning (nn.Identity())\n",
        "6.   https://www.pycodemates.com/2022/10/the-rbf-kernel-in-svm-complete-guide.html#:~:text=The%20RBF%20kernel%20works%20by,basic%20idea%20of%20Linear%20SVM. (RBF Kernel SVM)\n",
        "7.   https://machinelearningmastery.com/calculate-feature-importance-with-python/ (Feature Importance)\n",
        "8.   https://stackoverflow.com/questions/64394838/test-a-model-on-another-dataset (Testing model on a dataset)\n",
        "9.   https://towardsdatascience.com/gridsearchcv-for-beginners-db48a90114ee (GridSearchCV)\n",
        "\n",
        "\n",
        "\n",
        "\n",
        "\n",
        "\n",
        "\n",
        "\n"
      ],
      "metadata": {
        "id": "BtNKa5zhlwRP"
      }
    }
  ],
  "metadata": {
    "colab": {
      "provenance": []
    },
    "kernelspec": {
      "display_name": "Python 3",
      "name": "python3"
    },
    "language_info": {
      "name": "python"
    },
    "accelerator": "GPU",
    "gpuClass": "standard",
    "widgets": {
      "application/vnd.jupyter.widget-state+json": {
        "ee738775c71e43e2a28f7dd16a16d286": {
          "model_module": "@jupyter-widgets/controls",
          "model_name": "HBoxModel",
          "model_module_version": "1.5.0",
          "state": {
            "_dom_classes": [],
            "_model_module": "@jupyter-widgets/controls",
            "_model_module_version": "1.5.0",
            "_model_name": "HBoxModel",
            "_view_count": null,
            "_view_module": "@jupyter-widgets/controls",
            "_view_module_version": "1.5.0",
            "_view_name": "HBoxView",
            "box_style": "",
            "children": [
              "IPY_MODEL_b986738f7cc84bf08388392d0c572270",
              "IPY_MODEL_07de98432a2147ef9aa16d63b1c843b2",
              "IPY_MODEL_6cf1b31d138540079d683dfeaf547000"
            ],
            "layout": "IPY_MODEL_57fc4fab4f114dd5a3b06b134516462f"
          }
        },
        "b986738f7cc84bf08388392d0c572270": {
          "model_module": "@jupyter-widgets/controls",
          "model_name": "HTMLModel",
          "model_module_version": "1.5.0",
          "state": {
            "_dom_classes": [],
            "_model_module": "@jupyter-widgets/controls",
            "_model_module_version": "1.5.0",
            "_model_name": "HTMLModel",
            "_view_count": null,
            "_view_module": "@jupyter-widgets/controls",
            "_view_module_version": "1.5.0",
            "_view_name": "HTMLView",
            "description": "",
            "description_tooltip": null,
            "layout": "IPY_MODEL_31cb9d6ffa094403af666f2d8015a843",
            "placeholder": "​",
            "style": "IPY_MODEL_295aa2926e5d4072bedd266d36d32f8a",
            "value": "100%"
          }
        },
        "07de98432a2147ef9aa16d63b1c843b2": {
          "model_module": "@jupyter-widgets/controls",
          "model_name": "FloatProgressModel",
          "model_module_version": "1.5.0",
          "state": {
            "_dom_classes": [],
            "_model_module": "@jupyter-widgets/controls",
            "_model_module_version": "1.5.0",
            "_model_name": "FloatProgressModel",
            "_view_count": null,
            "_view_module": "@jupyter-widgets/controls",
            "_view_module_version": "1.5.0",
            "_view_name": "ProgressView",
            "bar_style": "success",
            "description": "",
            "description_tooltip": null,
            "layout": "IPY_MODEL_70300f10e7fc44c5b6600bb510d7662e",
            "max": 46830571,
            "min": 0,
            "orientation": "horizontal",
            "style": "IPY_MODEL_d6d783d3f2354613acb37d620e0a6913",
            "value": 46830571
          }
        },
        "6cf1b31d138540079d683dfeaf547000": {
          "model_module": "@jupyter-widgets/controls",
          "model_name": "HTMLModel",
          "model_module_version": "1.5.0",
          "state": {
            "_dom_classes": [],
            "_model_module": "@jupyter-widgets/controls",
            "_model_module_version": "1.5.0",
            "_model_name": "HTMLModel",
            "_view_count": null,
            "_view_module": "@jupyter-widgets/controls",
            "_view_module_version": "1.5.0",
            "_view_name": "HTMLView",
            "description": "",
            "description_tooltip": null,
            "layout": "IPY_MODEL_39b38e1c49234b1a86aad065033192d8",
            "placeholder": "​",
            "style": "IPY_MODEL_0e46811d3df04fe293f1468e84dc71fb",
            "value": " 44.7M/44.7M [00:00&lt;00:00, 127MB/s]"
          }
        },
        "57fc4fab4f114dd5a3b06b134516462f": {
          "model_module": "@jupyter-widgets/base",
          "model_name": "LayoutModel",
          "model_module_version": "1.2.0",
          "state": {
            "_model_module": "@jupyter-widgets/base",
            "_model_module_version": "1.2.0",
            "_model_name": "LayoutModel",
            "_view_count": null,
            "_view_module": "@jupyter-widgets/base",
            "_view_module_version": "1.2.0",
            "_view_name": "LayoutView",
            "align_content": null,
            "align_items": null,
            "align_self": null,
            "border": null,
            "bottom": null,
            "display": null,
            "flex": null,
            "flex_flow": null,
            "grid_area": null,
            "grid_auto_columns": null,
            "grid_auto_flow": null,
            "grid_auto_rows": null,
            "grid_column": null,
            "grid_gap": null,
            "grid_row": null,
            "grid_template_areas": null,
            "grid_template_columns": null,
            "grid_template_rows": null,
            "height": null,
            "justify_content": null,
            "justify_items": null,
            "left": null,
            "margin": null,
            "max_height": null,
            "max_width": null,
            "min_height": null,
            "min_width": null,
            "object_fit": null,
            "object_position": null,
            "order": null,
            "overflow": null,
            "overflow_x": null,
            "overflow_y": null,
            "padding": null,
            "right": null,
            "top": null,
            "visibility": null,
            "width": null
          }
        },
        "31cb9d6ffa094403af666f2d8015a843": {
          "model_module": "@jupyter-widgets/base",
          "model_name": "LayoutModel",
          "model_module_version": "1.2.0",
          "state": {
            "_model_module": "@jupyter-widgets/base",
            "_model_module_version": "1.2.0",
            "_model_name": "LayoutModel",
            "_view_count": null,
            "_view_module": "@jupyter-widgets/base",
            "_view_module_version": "1.2.0",
            "_view_name": "LayoutView",
            "align_content": null,
            "align_items": null,
            "align_self": null,
            "border": null,
            "bottom": null,
            "display": null,
            "flex": null,
            "flex_flow": null,
            "grid_area": null,
            "grid_auto_columns": null,
            "grid_auto_flow": null,
            "grid_auto_rows": null,
            "grid_column": null,
            "grid_gap": null,
            "grid_row": null,
            "grid_template_areas": null,
            "grid_template_columns": null,
            "grid_template_rows": null,
            "height": null,
            "justify_content": null,
            "justify_items": null,
            "left": null,
            "margin": null,
            "max_height": null,
            "max_width": null,
            "min_height": null,
            "min_width": null,
            "object_fit": null,
            "object_position": null,
            "order": null,
            "overflow": null,
            "overflow_x": null,
            "overflow_y": null,
            "padding": null,
            "right": null,
            "top": null,
            "visibility": null,
            "width": null
          }
        },
        "295aa2926e5d4072bedd266d36d32f8a": {
          "model_module": "@jupyter-widgets/controls",
          "model_name": "DescriptionStyleModel",
          "model_module_version": "1.5.0",
          "state": {
            "_model_module": "@jupyter-widgets/controls",
            "_model_module_version": "1.5.0",
            "_model_name": "DescriptionStyleModel",
            "_view_count": null,
            "_view_module": "@jupyter-widgets/base",
            "_view_module_version": "1.2.0",
            "_view_name": "StyleView",
            "description_width": ""
          }
        },
        "70300f10e7fc44c5b6600bb510d7662e": {
          "model_module": "@jupyter-widgets/base",
          "model_name": "LayoutModel",
          "model_module_version": "1.2.0",
          "state": {
            "_model_module": "@jupyter-widgets/base",
            "_model_module_version": "1.2.0",
            "_model_name": "LayoutModel",
            "_view_count": null,
            "_view_module": "@jupyter-widgets/base",
            "_view_module_version": "1.2.0",
            "_view_name": "LayoutView",
            "align_content": null,
            "align_items": null,
            "align_self": null,
            "border": null,
            "bottom": null,
            "display": null,
            "flex": null,
            "flex_flow": null,
            "grid_area": null,
            "grid_auto_columns": null,
            "grid_auto_flow": null,
            "grid_auto_rows": null,
            "grid_column": null,
            "grid_gap": null,
            "grid_row": null,
            "grid_template_areas": null,
            "grid_template_columns": null,
            "grid_template_rows": null,
            "height": null,
            "justify_content": null,
            "justify_items": null,
            "left": null,
            "margin": null,
            "max_height": null,
            "max_width": null,
            "min_height": null,
            "min_width": null,
            "object_fit": null,
            "object_position": null,
            "order": null,
            "overflow": null,
            "overflow_x": null,
            "overflow_y": null,
            "padding": null,
            "right": null,
            "top": null,
            "visibility": null,
            "width": null
          }
        },
        "d6d783d3f2354613acb37d620e0a6913": {
          "model_module": "@jupyter-widgets/controls",
          "model_name": "ProgressStyleModel",
          "model_module_version": "1.5.0",
          "state": {
            "_model_module": "@jupyter-widgets/controls",
            "_model_module_version": "1.5.0",
            "_model_name": "ProgressStyleModel",
            "_view_count": null,
            "_view_module": "@jupyter-widgets/base",
            "_view_module_version": "1.2.0",
            "_view_name": "StyleView",
            "bar_color": null,
            "description_width": ""
          }
        },
        "39b38e1c49234b1a86aad065033192d8": {
          "model_module": "@jupyter-widgets/base",
          "model_name": "LayoutModel",
          "model_module_version": "1.2.0",
          "state": {
            "_model_module": "@jupyter-widgets/base",
            "_model_module_version": "1.2.0",
            "_model_name": "LayoutModel",
            "_view_count": null,
            "_view_module": "@jupyter-widgets/base",
            "_view_module_version": "1.2.0",
            "_view_name": "LayoutView",
            "align_content": null,
            "align_items": null,
            "align_self": null,
            "border": null,
            "bottom": null,
            "display": null,
            "flex": null,
            "flex_flow": null,
            "grid_area": null,
            "grid_auto_columns": null,
            "grid_auto_flow": null,
            "grid_auto_rows": null,
            "grid_column": null,
            "grid_gap": null,
            "grid_row": null,
            "grid_template_areas": null,
            "grid_template_columns": null,
            "grid_template_rows": null,
            "height": null,
            "justify_content": null,
            "justify_items": null,
            "left": null,
            "margin": null,
            "max_height": null,
            "max_width": null,
            "min_height": null,
            "min_width": null,
            "object_fit": null,
            "object_position": null,
            "order": null,
            "overflow": null,
            "overflow_x": null,
            "overflow_y": null,
            "padding": null,
            "right": null,
            "top": null,
            "visibility": null,
            "width": null
          }
        },
        "0e46811d3df04fe293f1468e84dc71fb": {
          "model_module": "@jupyter-widgets/controls",
          "model_name": "DescriptionStyleModel",
          "model_module_version": "1.5.0",
          "state": {
            "_model_module": "@jupyter-widgets/controls",
            "_model_module_version": "1.5.0",
            "_model_name": "DescriptionStyleModel",
            "_view_count": null,
            "_view_module": "@jupyter-widgets/base",
            "_view_module_version": "1.2.0",
            "_view_name": "StyleView",
            "description_width": ""
          }
        },
        "96506a353da3498bb097019fe1ec0a2e": {
          "model_module": "@jupyter-widgets/controls",
          "model_name": "HBoxModel",
          "model_module_version": "1.5.0",
          "state": {
            "_dom_classes": [],
            "_model_module": "@jupyter-widgets/controls",
            "_model_module_version": "1.5.0",
            "_model_name": "HBoxModel",
            "_view_count": null,
            "_view_module": "@jupyter-widgets/controls",
            "_view_module_version": "1.5.0",
            "_view_name": "HBoxView",
            "box_style": "",
            "children": [
              "IPY_MODEL_d51b04ab9acb4b6c8186907465c70a0c",
              "IPY_MODEL_64c91e01befc446e8d75306a2ee02dc7",
              "IPY_MODEL_94e5dc10ec8b4e53baee15bd1b1fe8d0"
            ],
            "layout": "IPY_MODEL_b08d9013054b4c78ac02d70bd6968d23"
          }
        },
        "d51b04ab9acb4b6c8186907465c70a0c": {
          "model_module": "@jupyter-widgets/controls",
          "model_name": "HTMLModel",
          "model_module_version": "1.5.0",
          "state": {
            "_dom_classes": [],
            "_model_module": "@jupyter-widgets/controls",
            "_model_module_version": "1.5.0",
            "_model_name": "HTMLModel",
            "_view_count": null,
            "_view_module": "@jupyter-widgets/controls",
            "_view_module_version": "1.5.0",
            "_view_name": "HTMLView",
            "description": "",
            "description_tooltip": null,
            "layout": "IPY_MODEL_99905067b7774d0b9aebac9ca8f6ef18",
            "placeholder": "​",
            "style": "IPY_MODEL_3af39756bc72404092cf886a08446995",
            "value": "100%"
          }
        },
        "64c91e01befc446e8d75306a2ee02dc7": {
          "model_module": "@jupyter-widgets/controls",
          "model_name": "FloatProgressModel",
          "model_module_version": "1.5.0",
          "state": {
            "_dom_classes": [],
            "_model_module": "@jupyter-widgets/controls",
            "_model_module_version": "1.5.0",
            "_model_name": "FloatProgressModel",
            "_view_count": null,
            "_view_module": "@jupyter-widgets/controls",
            "_view_module_version": "1.5.0",
            "_view_name": "ProgressView",
            "bar_style": "success",
            "description": "",
            "description_tooltip": null,
            "layout": "IPY_MODEL_5dc8306d39dd4a998b504daae8346d6d",
            "max": 46830571,
            "min": 0,
            "orientation": "horizontal",
            "style": "IPY_MODEL_037d356b4c164e0d8a2c1b056de573ac",
            "value": 46830571
          }
        },
        "94e5dc10ec8b4e53baee15bd1b1fe8d0": {
          "model_module": "@jupyter-widgets/controls",
          "model_name": "HTMLModel",
          "model_module_version": "1.5.0",
          "state": {
            "_dom_classes": [],
            "_model_module": "@jupyter-widgets/controls",
            "_model_module_version": "1.5.0",
            "_model_name": "HTMLModel",
            "_view_count": null,
            "_view_module": "@jupyter-widgets/controls",
            "_view_module_version": "1.5.0",
            "_view_name": "HTMLView",
            "description": "",
            "description_tooltip": null,
            "layout": "IPY_MODEL_6b8f15ca4f6b4ac2af825c6c106321b2",
            "placeholder": "​",
            "style": "IPY_MODEL_1646020feaed44acaa81f2eb10076581",
            "value": " 44.7M/44.7M [00:00&lt;00:00, 105MB/s]"
          }
        },
        "b08d9013054b4c78ac02d70bd6968d23": {
          "model_module": "@jupyter-widgets/base",
          "model_name": "LayoutModel",
          "model_module_version": "1.2.0",
          "state": {
            "_model_module": "@jupyter-widgets/base",
            "_model_module_version": "1.2.0",
            "_model_name": "LayoutModel",
            "_view_count": null,
            "_view_module": "@jupyter-widgets/base",
            "_view_module_version": "1.2.0",
            "_view_name": "LayoutView",
            "align_content": null,
            "align_items": null,
            "align_self": null,
            "border": null,
            "bottom": null,
            "display": null,
            "flex": null,
            "flex_flow": null,
            "grid_area": null,
            "grid_auto_columns": null,
            "grid_auto_flow": null,
            "grid_auto_rows": null,
            "grid_column": null,
            "grid_gap": null,
            "grid_row": null,
            "grid_template_areas": null,
            "grid_template_columns": null,
            "grid_template_rows": null,
            "height": null,
            "justify_content": null,
            "justify_items": null,
            "left": null,
            "margin": null,
            "max_height": null,
            "max_width": null,
            "min_height": null,
            "min_width": null,
            "object_fit": null,
            "object_position": null,
            "order": null,
            "overflow": null,
            "overflow_x": null,
            "overflow_y": null,
            "padding": null,
            "right": null,
            "top": null,
            "visibility": null,
            "width": null
          }
        },
        "99905067b7774d0b9aebac9ca8f6ef18": {
          "model_module": "@jupyter-widgets/base",
          "model_name": "LayoutModel",
          "model_module_version": "1.2.0",
          "state": {
            "_model_module": "@jupyter-widgets/base",
            "_model_module_version": "1.2.0",
            "_model_name": "LayoutModel",
            "_view_count": null,
            "_view_module": "@jupyter-widgets/base",
            "_view_module_version": "1.2.0",
            "_view_name": "LayoutView",
            "align_content": null,
            "align_items": null,
            "align_self": null,
            "border": null,
            "bottom": null,
            "display": null,
            "flex": null,
            "flex_flow": null,
            "grid_area": null,
            "grid_auto_columns": null,
            "grid_auto_flow": null,
            "grid_auto_rows": null,
            "grid_column": null,
            "grid_gap": null,
            "grid_row": null,
            "grid_template_areas": null,
            "grid_template_columns": null,
            "grid_template_rows": null,
            "height": null,
            "justify_content": null,
            "justify_items": null,
            "left": null,
            "margin": null,
            "max_height": null,
            "max_width": null,
            "min_height": null,
            "min_width": null,
            "object_fit": null,
            "object_position": null,
            "order": null,
            "overflow": null,
            "overflow_x": null,
            "overflow_y": null,
            "padding": null,
            "right": null,
            "top": null,
            "visibility": null,
            "width": null
          }
        },
        "3af39756bc72404092cf886a08446995": {
          "model_module": "@jupyter-widgets/controls",
          "model_name": "DescriptionStyleModel",
          "model_module_version": "1.5.0",
          "state": {
            "_model_module": "@jupyter-widgets/controls",
            "_model_module_version": "1.5.0",
            "_model_name": "DescriptionStyleModel",
            "_view_count": null,
            "_view_module": "@jupyter-widgets/base",
            "_view_module_version": "1.2.0",
            "_view_name": "StyleView",
            "description_width": ""
          }
        },
        "5dc8306d39dd4a998b504daae8346d6d": {
          "model_module": "@jupyter-widgets/base",
          "model_name": "LayoutModel",
          "model_module_version": "1.2.0",
          "state": {
            "_model_module": "@jupyter-widgets/base",
            "_model_module_version": "1.2.0",
            "_model_name": "LayoutModel",
            "_view_count": null,
            "_view_module": "@jupyter-widgets/base",
            "_view_module_version": "1.2.0",
            "_view_name": "LayoutView",
            "align_content": null,
            "align_items": null,
            "align_self": null,
            "border": null,
            "bottom": null,
            "display": null,
            "flex": null,
            "flex_flow": null,
            "grid_area": null,
            "grid_auto_columns": null,
            "grid_auto_flow": null,
            "grid_auto_rows": null,
            "grid_column": null,
            "grid_gap": null,
            "grid_row": null,
            "grid_template_areas": null,
            "grid_template_columns": null,
            "grid_template_rows": null,
            "height": null,
            "justify_content": null,
            "justify_items": null,
            "left": null,
            "margin": null,
            "max_height": null,
            "max_width": null,
            "min_height": null,
            "min_width": null,
            "object_fit": null,
            "object_position": null,
            "order": null,
            "overflow": null,
            "overflow_x": null,
            "overflow_y": null,
            "padding": null,
            "right": null,
            "top": null,
            "visibility": null,
            "width": null
          }
        },
        "037d356b4c164e0d8a2c1b056de573ac": {
          "model_module": "@jupyter-widgets/controls",
          "model_name": "ProgressStyleModel",
          "model_module_version": "1.5.0",
          "state": {
            "_model_module": "@jupyter-widgets/controls",
            "_model_module_version": "1.5.0",
            "_model_name": "ProgressStyleModel",
            "_view_count": null,
            "_view_module": "@jupyter-widgets/base",
            "_view_module_version": "1.2.0",
            "_view_name": "StyleView",
            "bar_color": null,
            "description_width": ""
          }
        },
        "6b8f15ca4f6b4ac2af825c6c106321b2": {
          "model_module": "@jupyter-widgets/base",
          "model_name": "LayoutModel",
          "model_module_version": "1.2.0",
          "state": {
            "_model_module": "@jupyter-widgets/base",
            "_model_module_version": "1.2.0",
            "_model_name": "LayoutModel",
            "_view_count": null,
            "_view_module": "@jupyter-widgets/base",
            "_view_module_version": "1.2.0",
            "_view_name": "LayoutView",
            "align_content": null,
            "align_items": null,
            "align_self": null,
            "border": null,
            "bottom": null,
            "display": null,
            "flex": null,
            "flex_flow": null,
            "grid_area": null,
            "grid_auto_columns": null,
            "grid_auto_flow": null,
            "grid_auto_rows": null,
            "grid_column": null,
            "grid_gap": null,
            "grid_row": null,
            "grid_template_areas": null,
            "grid_template_columns": null,
            "grid_template_rows": null,
            "height": null,
            "justify_content": null,
            "justify_items": null,
            "left": null,
            "margin": null,
            "max_height": null,
            "max_width": null,
            "min_height": null,
            "min_width": null,
            "object_fit": null,
            "object_position": null,
            "order": null,
            "overflow": null,
            "overflow_x": null,
            "overflow_y": null,
            "padding": null,
            "right": null,
            "top": null,
            "visibility": null,
            "width": null
          }
        },
        "1646020feaed44acaa81f2eb10076581": {
          "model_module": "@jupyter-widgets/controls",
          "model_name": "DescriptionStyleModel",
          "model_module_version": "1.5.0",
          "state": {
            "_model_module": "@jupyter-widgets/controls",
            "_model_module_version": "1.5.0",
            "_model_name": "DescriptionStyleModel",
            "_view_count": null,
            "_view_module": "@jupyter-widgets/base",
            "_view_module_version": "1.2.0",
            "_view_name": "StyleView",
            "description_width": ""
          }
        }
      }
    }
  },
  "nbformat": 4,
  "nbformat_minor": 0
}